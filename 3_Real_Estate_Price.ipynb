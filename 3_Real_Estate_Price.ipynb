{
 "cells": [
  {
   "cell_type": "markdown",
   "metadata": {},
   "source": [
    "##  Описание проекта:\n",
    "В вашем распоряжении данные сервиса Яндекс Недвижимость — архив объявлений за несколько лет о продаже квартир в Санкт-Петербурге и соседних населённых пунктах.\n",
    "Ваша задача — выполнить предобработку данных и изучить их, чтобы найти интересные особенности и зависимости, которые существуют на рынке недвижимости.\n",
    "О каждой квартире в базе содержится два типа данных: добавленные пользователем и картографические. Например, к первому типу относятся площадь квартиры, её этаж и количество балконов, ко второму — расстояния до центра города, аэропорта и ближайшего парка. \n",
    "### Цель исследования: \n",
    "1. Определение рыночной стоимости данных объектов недвижимости.\n",
    "2. Определение факторов, влияющих на рыночную стоимость объектов.\n",
    "\n",
    "### Ход исследования: \n",
    "Путь к файлу, с которым я буду работать: /datasets/real_estate_data.csv. После загрузки данных и их обзора, я проверю все данные на пропуски и аномалии, посмотрю, как они влиют на сами данные.\n",
    "Далее, на этапе предобработки, я удалю эти пропуски и аномалии, изменю типы данных там, где в этом есть необходимость. После добавлю в таблицу новые столбцы для упрощения работы на этапе исследовательского анализа данных. И, наконец, на финальном этапе-исследовательском анализе, я изучу рад параметров и факторы, влияющие на продажу квартир, после чего смогу сделать выводы и выполнить вышеуказанные цели моего проекта.\n",
    "\n",
    "Таким образом, работа будет поделена на несколько частей:\n",
    "1. Обзор данных\n",
    "2. Предобработка данных.\n",
    "3. Добавление в таблицу новвых столбоц.\n",
    "4. Исследовательский анализ данных."
   ]
  },
  {
   "cell_type": "code",
   "execution_count": 1,
   "metadata": {},
   "outputs": [],
   "source": [
    "import pandas as pd \n",
    "import matplotlib \n",
    "import matplotlib.pyplot as plt "
   ]
  },
  {
   "cell_type": "code",
   "execution_count": 2,
   "metadata": {},
   "outputs": [
    {
     "data": {
      "text/html": [
       "<div>\n",
       "<style scoped>\n",
       "    .dataframe tbody tr th:only-of-type {\n",
       "        vertical-align: middle;\n",
       "    }\n",
       "\n",
       "    .dataframe tbody tr th {\n",
       "        vertical-align: top;\n",
       "    }\n",
       "\n",
       "    .dataframe thead th {\n",
       "        text-align: right;\n",
       "    }\n",
       "</style>\n",
       "<table border=\"1\" class=\"dataframe\">\n",
       "  <thead>\n",
       "    <tr style=\"text-align: right;\">\n",
       "      <th></th>\n",
       "      <th>total_images</th>\n",
       "      <th>last_price</th>\n",
       "      <th>total_area</th>\n",
       "      <th>first_day_exposition</th>\n",
       "      <th>rooms</th>\n",
       "      <th>ceiling_height</th>\n",
       "      <th>floors_total</th>\n",
       "      <th>living_area</th>\n",
       "      <th>floor</th>\n",
       "      <th>is_apartment</th>\n",
       "      <th>...</th>\n",
       "      <th>kitchen_area</th>\n",
       "      <th>balcony</th>\n",
       "      <th>locality_name</th>\n",
       "      <th>airports_nearest</th>\n",
       "      <th>cityCenters_nearest</th>\n",
       "      <th>parks_around3000</th>\n",
       "      <th>parks_nearest</th>\n",
       "      <th>ponds_around3000</th>\n",
       "      <th>ponds_nearest</th>\n",
       "      <th>days_exposition</th>\n",
       "    </tr>\n",
       "  </thead>\n",
       "  <tbody>\n",
       "    <tr>\n",
       "      <th>0</th>\n",
       "      <td>20</td>\n",
       "      <td>13000000.0</td>\n",
       "      <td>108.00</td>\n",
       "      <td>2019-03-07T00:00:00</td>\n",
       "      <td>3</td>\n",
       "      <td>2.70</td>\n",
       "      <td>16.0</td>\n",
       "      <td>51.00</td>\n",
       "      <td>8</td>\n",
       "      <td>NaN</td>\n",
       "      <td>...</td>\n",
       "      <td>25.00</td>\n",
       "      <td>NaN</td>\n",
       "      <td>Санкт-Петербург</td>\n",
       "      <td>18863.0</td>\n",
       "      <td>16028.0</td>\n",
       "      <td>1.0</td>\n",
       "      <td>482.0</td>\n",
       "      <td>2.0</td>\n",
       "      <td>755.0</td>\n",
       "      <td>NaN</td>\n",
       "    </tr>\n",
       "    <tr>\n",
       "      <th>1</th>\n",
       "      <td>7</td>\n",
       "      <td>3350000.0</td>\n",
       "      <td>40.40</td>\n",
       "      <td>2018-12-04T00:00:00</td>\n",
       "      <td>1</td>\n",
       "      <td>NaN</td>\n",
       "      <td>11.0</td>\n",
       "      <td>18.60</td>\n",
       "      <td>1</td>\n",
       "      <td>NaN</td>\n",
       "      <td>...</td>\n",
       "      <td>11.00</td>\n",
       "      <td>2.0</td>\n",
       "      <td>посёлок Шушары</td>\n",
       "      <td>12817.0</td>\n",
       "      <td>18603.0</td>\n",
       "      <td>0.0</td>\n",
       "      <td>NaN</td>\n",
       "      <td>0.0</td>\n",
       "      <td>NaN</td>\n",
       "      <td>81.0</td>\n",
       "    </tr>\n",
       "    <tr>\n",
       "      <th>2</th>\n",
       "      <td>10</td>\n",
       "      <td>5196000.0</td>\n",
       "      <td>56.00</td>\n",
       "      <td>2015-08-20T00:00:00</td>\n",
       "      <td>2</td>\n",
       "      <td>NaN</td>\n",
       "      <td>5.0</td>\n",
       "      <td>34.30</td>\n",
       "      <td>4</td>\n",
       "      <td>NaN</td>\n",
       "      <td>...</td>\n",
       "      <td>8.30</td>\n",
       "      <td>0.0</td>\n",
       "      <td>Санкт-Петербург</td>\n",
       "      <td>21741.0</td>\n",
       "      <td>13933.0</td>\n",
       "      <td>1.0</td>\n",
       "      <td>90.0</td>\n",
       "      <td>2.0</td>\n",
       "      <td>574.0</td>\n",
       "      <td>558.0</td>\n",
       "    </tr>\n",
       "    <tr>\n",
       "      <th>3</th>\n",
       "      <td>0</td>\n",
       "      <td>64900000.0</td>\n",
       "      <td>159.00</td>\n",
       "      <td>2015-07-24T00:00:00</td>\n",
       "      <td>3</td>\n",
       "      <td>NaN</td>\n",
       "      <td>14.0</td>\n",
       "      <td>NaN</td>\n",
       "      <td>9</td>\n",
       "      <td>NaN</td>\n",
       "      <td>...</td>\n",
       "      <td>NaN</td>\n",
       "      <td>0.0</td>\n",
       "      <td>Санкт-Петербург</td>\n",
       "      <td>28098.0</td>\n",
       "      <td>6800.0</td>\n",
       "      <td>2.0</td>\n",
       "      <td>84.0</td>\n",
       "      <td>3.0</td>\n",
       "      <td>234.0</td>\n",
       "      <td>424.0</td>\n",
       "    </tr>\n",
       "    <tr>\n",
       "      <th>4</th>\n",
       "      <td>2</td>\n",
       "      <td>10000000.0</td>\n",
       "      <td>100.00</td>\n",
       "      <td>2018-06-19T00:00:00</td>\n",
       "      <td>2</td>\n",
       "      <td>3.03</td>\n",
       "      <td>14.0</td>\n",
       "      <td>32.00</td>\n",
       "      <td>13</td>\n",
       "      <td>NaN</td>\n",
       "      <td>...</td>\n",
       "      <td>41.00</td>\n",
       "      <td>NaN</td>\n",
       "      <td>Санкт-Петербург</td>\n",
       "      <td>31856.0</td>\n",
       "      <td>8098.0</td>\n",
       "      <td>2.0</td>\n",
       "      <td>112.0</td>\n",
       "      <td>1.0</td>\n",
       "      <td>48.0</td>\n",
       "      <td>121.0</td>\n",
       "    </tr>\n",
       "    <tr>\n",
       "      <th>5</th>\n",
       "      <td>10</td>\n",
       "      <td>2890000.0</td>\n",
       "      <td>30.40</td>\n",
       "      <td>2018-09-10T00:00:00</td>\n",
       "      <td>1</td>\n",
       "      <td>NaN</td>\n",
       "      <td>12.0</td>\n",
       "      <td>14.40</td>\n",
       "      <td>5</td>\n",
       "      <td>NaN</td>\n",
       "      <td>...</td>\n",
       "      <td>9.10</td>\n",
       "      <td>NaN</td>\n",
       "      <td>городской посёлок Янино-1</td>\n",
       "      <td>NaN</td>\n",
       "      <td>NaN</td>\n",
       "      <td>NaN</td>\n",
       "      <td>NaN</td>\n",
       "      <td>NaN</td>\n",
       "      <td>NaN</td>\n",
       "      <td>55.0</td>\n",
       "    </tr>\n",
       "    <tr>\n",
       "      <th>6</th>\n",
       "      <td>6</td>\n",
       "      <td>3700000.0</td>\n",
       "      <td>37.30</td>\n",
       "      <td>2017-11-02T00:00:00</td>\n",
       "      <td>1</td>\n",
       "      <td>NaN</td>\n",
       "      <td>26.0</td>\n",
       "      <td>10.60</td>\n",
       "      <td>6</td>\n",
       "      <td>NaN</td>\n",
       "      <td>...</td>\n",
       "      <td>14.40</td>\n",
       "      <td>1.0</td>\n",
       "      <td>посёлок Парголово</td>\n",
       "      <td>52996.0</td>\n",
       "      <td>19143.0</td>\n",
       "      <td>0.0</td>\n",
       "      <td>NaN</td>\n",
       "      <td>0.0</td>\n",
       "      <td>NaN</td>\n",
       "      <td>155.0</td>\n",
       "    </tr>\n",
       "    <tr>\n",
       "      <th>7</th>\n",
       "      <td>5</td>\n",
       "      <td>7915000.0</td>\n",
       "      <td>71.60</td>\n",
       "      <td>2019-04-18T00:00:00</td>\n",
       "      <td>2</td>\n",
       "      <td>NaN</td>\n",
       "      <td>24.0</td>\n",
       "      <td>NaN</td>\n",
       "      <td>22</td>\n",
       "      <td>NaN</td>\n",
       "      <td>...</td>\n",
       "      <td>18.90</td>\n",
       "      <td>2.0</td>\n",
       "      <td>Санкт-Петербург</td>\n",
       "      <td>23982.0</td>\n",
       "      <td>11634.0</td>\n",
       "      <td>0.0</td>\n",
       "      <td>NaN</td>\n",
       "      <td>0.0</td>\n",
       "      <td>NaN</td>\n",
       "      <td>NaN</td>\n",
       "    </tr>\n",
       "    <tr>\n",
       "      <th>8</th>\n",
       "      <td>20</td>\n",
       "      <td>2900000.0</td>\n",
       "      <td>33.16</td>\n",
       "      <td>2018-05-23T00:00:00</td>\n",
       "      <td>1</td>\n",
       "      <td>NaN</td>\n",
       "      <td>27.0</td>\n",
       "      <td>15.43</td>\n",
       "      <td>26</td>\n",
       "      <td>NaN</td>\n",
       "      <td>...</td>\n",
       "      <td>8.81</td>\n",
       "      <td>NaN</td>\n",
       "      <td>посёлок Мурино</td>\n",
       "      <td>NaN</td>\n",
       "      <td>NaN</td>\n",
       "      <td>NaN</td>\n",
       "      <td>NaN</td>\n",
       "      <td>NaN</td>\n",
       "      <td>NaN</td>\n",
       "      <td>189.0</td>\n",
       "    </tr>\n",
       "    <tr>\n",
       "      <th>9</th>\n",
       "      <td>18</td>\n",
       "      <td>5400000.0</td>\n",
       "      <td>61.00</td>\n",
       "      <td>2017-02-26T00:00:00</td>\n",
       "      <td>3</td>\n",
       "      <td>2.50</td>\n",
       "      <td>9.0</td>\n",
       "      <td>43.60</td>\n",
       "      <td>7</td>\n",
       "      <td>NaN</td>\n",
       "      <td>...</td>\n",
       "      <td>6.50</td>\n",
       "      <td>2.0</td>\n",
       "      <td>Санкт-Петербург</td>\n",
       "      <td>50898.0</td>\n",
       "      <td>15008.0</td>\n",
       "      <td>0.0</td>\n",
       "      <td>NaN</td>\n",
       "      <td>0.0</td>\n",
       "      <td>NaN</td>\n",
       "      <td>289.0</td>\n",
       "    </tr>\n",
       "    <tr>\n",
       "      <th>10</th>\n",
       "      <td>5</td>\n",
       "      <td>5050000.0</td>\n",
       "      <td>39.60</td>\n",
       "      <td>2017-11-16T00:00:00</td>\n",
       "      <td>1</td>\n",
       "      <td>2.67</td>\n",
       "      <td>12.0</td>\n",
       "      <td>20.30</td>\n",
       "      <td>3</td>\n",
       "      <td>NaN</td>\n",
       "      <td>...</td>\n",
       "      <td>8.50</td>\n",
       "      <td>NaN</td>\n",
       "      <td>Санкт-Петербург</td>\n",
       "      <td>38357.0</td>\n",
       "      <td>13878.0</td>\n",
       "      <td>1.0</td>\n",
       "      <td>310.0</td>\n",
       "      <td>2.0</td>\n",
       "      <td>553.0</td>\n",
       "      <td>137.0</td>\n",
       "    </tr>\n",
       "    <tr>\n",
       "      <th>11</th>\n",
       "      <td>9</td>\n",
       "      <td>3300000.0</td>\n",
       "      <td>44.00</td>\n",
       "      <td>2018-08-27T00:00:00</td>\n",
       "      <td>2</td>\n",
       "      <td>NaN</td>\n",
       "      <td>5.0</td>\n",
       "      <td>31.00</td>\n",
       "      <td>4</td>\n",
       "      <td>False</td>\n",
       "      <td>...</td>\n",
       "      <td>6.00</td>\n",
       "      <td>1.0</td>\n",
       "      <td>Ломоносов</td>\n",
       "      <td>48252.0</td>\n",
       "      <td>51677.0</td>\n",
       "      <td>0.0</td>\n",
       "      <td>NaN</td>\n",
       "      <td>0.0</td>\n",
       "      <td>NaN</td>\n",
       "      <td>7.0</td>\n",
       "    </tr>\n",
       "    <tr>\n",
       "      <th>12</th>\n",
       "      <td>10</td>\n",
       "      <td>3890000.0</td>\n",
       "      <td>54.00</td>\n",
       "      <td>2016-06-30T00:00:00</td>\n",
       "      <td>2</td>\n",
       "      <td>NaN</td>\n",
       "      <td>5.0</td>\n",
       "      <td>30.00</td>\n",
       "      <td>5</td>\n",
       "      <td>NaN</td>\n",
       "      <td>...</td>\n",
       "      <td>9.00</td>\n",
       "      <td>0.0</td>\n",
       "      <td>Сертолово</td>\n",
       "      <td>NaN</td>\n",
       "      <td>NaN</td>\n",
       "      <td>NaN</td>\n",
       "      <td>NaN</td>\n",
       "      <td>NaN</td>\n",
       "      <td>NaN</td>\n",
       "      <td>90.0</td>\n",
       "    </tr>\n",
       "    <tr>\n",
       "      <th>13</th>\n",
       "      <td>20</td>\n",
       "      <td>3550000.0</td>\n",
       "      <td>42.80</td>\n",
       "      <td>2017-07-01T00:00:00</td>\n",
       "      <td>2</td>\n",
       "      <td>2.56</td>\n",
       "      <td>5.0</td>\n",
       "      <td>27.00</td>\n",
       "      <td>5</td>\n",
       "      <td>NaN</td>\n",
       "      <td>...</td>\n",
       "      <td>5.20</td>\n",
       "      <td>1.0</td>\n",
       "      <td>Петергоф</td>\n",
       "      <td>37868.0</td>\n",
       "      <td>33058.0</td>\n",
       "      <td>1.0</td>\n",
       "      <td>294.0</td>\n",
       "      <td>3.0</td>\n",
       "      <td>298.0</td>\n",
       "      <td>366.0</td>\n",
       "    </tr>\n",
       "    <tr>\n",
       "      <th>14</th>\n",
       "      <td>1</td>\n",
       "      <td>4400000.0</td>\n",
       "      <td>36.00</td>\n",
       "      <td>2016-06-23T00:00:00</td>\n",
       "      <td>1</td>\n",
       "      <td>NaN</td>\n",
       "      <td>6.0</td>\n",
       "      <td>17.00</td>\n",
       "      <td>1</td>\n",
       "      <td>NaN</td>\n",
       "      <td>...</td>\n",
       "      <td>8.00</td>\n",
       "      <td>0.0</td>\n",
       "      <td>Пушкин</td>\n",
       "      <td>20782.0</td>\n",
       "      <td>30759.0</td>\n",
       "      <td>0.0</td>\n",
       "      <td>NaN</td>\n",
       "      <td>1.0</td>\n",
       "      <td>96.0</td>\n",
       "      <td>203.0</td>\n",
       "    </tr>\n",
       "    <tr>\n",
       "      <th>15</th>\n",
       "      <td>16</td>\n",
       "      <td>4650000.0</td>\n",
       "      <td>39.00</td>\n",
       "      <td>2017-11-18T00:00:00</td>\n",
       "      <td>1</td>\n",
       "      <td>NaN</td>\n",
       "      <td>14.0</td>\n",
       "      <td>20.50</td>\n",
       "      <td>5</td>\n",
       "      <td>NaN</td>\n",
       "      <td>...</td>\n",
       "      <td>7.60</td>\n",
       "      <td>1.0</td>\n",
       "      <td>Санкт-Петербург</td>\n",
       "      <td>12900.0</td>\n",
       "      <td>14259.0</td>\n",
       "      <td>1.0</td>\n",
       "      <td>590.0</td>\n",
       "      <td>1.0</td>\n",
       "      <td>296.0</td>\n",
       "      <td>19.0</td>\n",
       "    </tr>\n",
       "    <tr>\n",
       "      <th>16</th>\n",
       "      <td>11</td>\n",
       "      <td>6700000.0</td>\n",
       "      <td>82.00</td>\n",
       "      <td>2017-11-23T00:00:00</td>\n",
       "      <td>3</td>\n",
       "      <td>3.05</td>\n",
       "      <td>5.0</td>\n",
       "      <td>55.60</td>\n",
       "      <td>1</td>\n",
       "      <td>NaN</td>\n",
       "      <td>...</td>\n",
       "      <td>9.00</td>\n",
       "      <td>NaN</td>\n",
       "      <td>Санкт-Петербург</td>\n",
       "      <td>22108.0</td>\n",
       "      <td>10698.0</td>\n",
       "      <td>3.0</td>\n",
       "      <td>420.0</td>\n",
       "      <td>0.0</td>\n",
       "      <td>NaN</td>\n",
       "      <td>397.0</td>\n",
       "    </tr>\n",
       "    <tr>\n",
       "      <th>17</th>\n",
       "      <td>6</td>\n",
       "      <td>4180000.0</td>\n",
       "      <td>36.00</td>\n",
       "      <td>2016-09-09T00:00:00</td>\n",
       "      <td>1</td>\n",
       "      <td>NaN</td>\n",
       "      <td>17.0</td>\n",
       "      <td>16.50</td>\n",
       "      <td>7</td>\n",
       "      <td>NaN</td>\n",
       "      <td>...</td>\n",
       "      <td>11.00</td>\n",
       "      <td>1.0</td>\n",
       "      <td>Санкт-Петербург</td>\n",
       "      <td>33564.0</td>\n",
       "      <td>14616.0</td>\n",
       "      <td>0.0</td>\n",
       "      <td>NaN</td>\n",
       "      <td>1.0</td>\n",
       "      <td>859.0</td>\n",
       "      <td>571.0</td>\n",
       "    </tr>\n",
       "    <tr>\n",
       "      <th>18</th>\n",
       "      <td>8</td>\n",
       "      <td>3250000.0</td>\n",
       "      <td>31.00</td>\n",
       "      <td>2017-01-27T00:00:00</td>\n",
       "      <td>1</td>\n",
       "      <td>2.50</td>\n",
       "      <td>5.0</td>\n",
       "      <td>19.40</td>\n",
       "      <td>2</td>\n",
       "      <td>NaN</td>\n",
       "      <td>...</td>\n",
       "      <td>5.60</td>\n",
       "      <td>1.0</td>\n",
       "      <td>Санкт-Петербург</td>\n",
       "      <td>44060.0</td>\n",
       "      <td>10842.0</td>\n",
       "      <td>1.0</td>\n",
       "      <td>759.0</td>\n",
       "      <td>0.0</td>\n",
       "      <td>NaN</td>\n",
       "      <td>168.0</td>\n",
       "    </tr>\n",
       "    <tr>\n",
       "      <th>19</th>\n",
       "      <td>16</td>\n",
       "      <td>14200000.0</td>\n",
       "      <td>121.00</td>\n",
       "      <td>2019-01-09T00:00:00</td>\n",
       "      <td>3</td>\n",
       "      <td>2.75</td>\n",
       "      <td>16.0</td>\n",
       "      <td>76.00</td>\n",
       "      <td>8</td>\n",
       "      <td>NaN</td>\n",
       "      <td>...</td>\n",
       "      <td>12.00</td>\n",
       "      <td>NaN</td>\n",
       "      <td>Санкт-Петербург</td>\n",
       "      <td>38900.0</td>\n",
       "      <td>12843.0</td>\n",
       "      <td>0.0</td>\n",
       "      <td>NaN</td>\n",
       "      <td>0.0</td>\n",
       "      <td>NaN</td>\n",
       "      <td>97.0</td>\n",
       "    </tr>\n",
       "  </tbody>\n",
       "</table>\n",
       "<p>20 rows × 22 columns</p>\n",
       "</div>"
      ],
      "text/plain": [
       "    total_images  last_price  total_area first_day_exposition  rooms  \\\n",
       "0             20  13000000.0      108.00  2019-03-07T00:00:00      3   \n",
       "1              7   3350000.0       40.40  2018-12-04T00:00:00      1   \n",
       "2             10   5196000.0       56.00  2015-08-20T00:00:00      2   \n",
       "3              0  64900000.0      159.00  2015-07-24T00:00:00      3   \n",
       "4              2  10000000.0      100.00  2018-06-19T00:00:00      2   \n",
       "5             10   2890000.0       30.40  2018-09-10T00:00:00      1   \n",
       "6              6   3700000.0       37.30  2017-11-02T00:00:00      1   \n",
       "7              5   7915000.0       71.60  2019-04-18T00:00:00      2   \n",
       "8             20   2900000.0       33.16  2018-05-23T00:00:00      1   \n",
       "9             18   5400000.0       61.00  2017-02-26T00:00:00      3   \n",
       "10             5   5050000.0       39.60  2017-11-16T00:00:00      1   \n",
       "11             9   3300000.0       44.00  2018-08-27T00:00:00      2   \n",
       "12            10   3890000.0       54.00  2016-06-30T00:00:00      2   \n",
       "13            20   3550000.0       42.80  2017-07-01T00:00:00      2   \n",
       "14             1   4400000.0       36.00  2016-06-23T00:00:00      1   \n",
       "15            16   4650000.0       39.00  2017-11-18T00:00:00      1   \n",
       "16            11   6700000.0       82.00  2017-11-23T00:00:00      3   \n",
       "17             6   4180000.0       36.00  2016-09-09T00:00:00      1   \n",
       "18             8   3250000.0       31.00  2017-01-27T00:00:00      1   \n",
       "19            16  14200000.0      121.00  2019-01-09T00:00:00      3   \n",
       "\n",
       "    ceiling_height  floors_total  living_area  floor is_apartment  ...  \\\n",
       "0             2.70          16.0        51.00      8          NaN  ...   \n",
       "1              NaN          11.0        18.60      1          NaN  ...   \n",
       "2              NaN           5.0        34.30      4          NaN  ...   \n",
       "3              NaN          14.0          NaN      9          NaN  ...   \n",
       "4             3.03          14.0        32.00     13          NaN  ...   \n",
       "5              NaN          12.0        14.40      5          NaN  ...   \n",
       "6              NaN          26.0        10.60      6          NaN  ...   \n",
       "7              NaN          24.0          NaN     22          NaN  ...   \n",
       "8              NaN          27.0        15.43     26          NaN  ...   \n",
       "9             2.50           9.0        43.60      7          NaN  ...   \n",
       "10            2.67          12.0        20.30      3          NaN  ...   \n",
       "11             NaN           5.0        31.00      4        False  ...   \n",
       "12             NaN           5.0        30.00      5          NaN  ...   \n",
       "13            2.56           5.0        27.00      5          NaN  ...   \n",
       "14             NaN           6.0        17.00      1          NaN  ...   \n",
       "15             NaN          14.0        20.50      5          NaN  ...   \n",
       "16            3.05           5.0        55.60      1          NaN  ...   \n",
       "17             NaN          17.0        16.50      7          NaN  ...   \n",
       "18            2.50           5.0        19.40      2          NaN  ...   \n",
       "19            2.75          16.0        76.00      8          NaN  ...   \n",
       "\n",
       "    kitchen_area  balcony              locality_name  airports_nearest  \\\n",
       "0          25.00      NaN            Санкт-Петербург           18863.0   \n",
       "1          11.00      2.0             посёлок Шушары           12817.0   \n",
       "2           8.30      0.0            Санкт-Петербург           21741.0   \n",
       "3            NaN      0.0            Санкт-Петербург           28098.0   \n",
       "4          41.00      NaN            Санкт-Петербург           31856.0   \n",
       "5           9.10      NaN  городской посёлок Янино-1               NaN   \n",
       "6          14.40      1.0          посёлок Парголово           52996.0   \n",
       "7          18.90      2.0            Санкт-Петербург           23982.0   \n",
       "8           8.81      NaN             посёлок Мурино               NaN   \n",
       "9           6.50      2.0            Санкт-Петербург           50898.0   \n",
       "10          8.50      NaN            Санкт-Петербург           38357.0   \n",
       "11          6.00      1.0                  Ломоносов           48252.0   \n",
       "12          9.00      0.0                  Сертолово               NaN   \n",
       "13          5.20      1.0                   Петергоф           37868.0   \n",
       "14          8.00      0.0                     Пушкин           20782.0   \n",
       "15          7.60      1.0            Санкт-Петербург           12900.0   \n",
       "16          9.00      NaN            Санкт-Петербург           22108.0   \n",
       "17         11.00      1.0            Санкт-Петербург           33564.0   \n",
       "18          5.60      1.0            Санкт-Петербург           44060.0   \n",
       "19         12.00      NaN            Санкт-Петербург           38900.0   \n",
       "\n",
       "   cityCenters_nearest  parks_around3000  parks_nearest  ponds_around3000  \\\n",
       "0              16028.0               1.0          482.0               2.0   \n",
       "1              18603.0               0.0            NaN               0.0   \n",
       "2              13933.0               1.0           90.0               2.0   \n",
       "3               6800.0               2.0           84.0               3.0   \n",
       "4               8098.0               2.0          112.0               1.0   \n",
       "5                  NaN               NaN            NaN               NaN   \n",
       "6              19143.0               0.0            NaN               0.0   \n",
       "7              11634.0               0.0            NaN               0.0   \n",
       "8                  NaN               NaN            NaN               NaN   \n",
       "9              15008.0               0.0            NaN               0.0   \n",
       "10             13878.0               1.0          310.0               2.0   \n",
       "11             51677.0               0.0            NaN               0.0   \n",
       "12                 NaN               NaN            NaN               NaN   \n",
       "13             33058.0               1.0          294.0               3.0   \n",
       "14             30759.0               0.0            NaN               1.0   \n",
       "15             14259.0               1.0          590.0               1.0   \n",
       "16             10698.0               3.0          420.0               0.0   \n",
       "17             14616.0               0.0            NaN               1.0   \n",
       "18             10842.0               1.0          759.0               0.0   \n",
       "19             12843.0               0.0            NaN               0.0   \n",
       "\n",
       "    ponds_nearest  days_exposition  \n",
       "0           755.0              NaN  \n",
       "1             NaN             81.0  \n",
       "2           574.0            558.0  \n",
       "3           234.0            424.0  \n",
       "4            48.0            121.0  \n",
       "5             NaN             55.0  \n",
       "6             NaN            155.0  \n",
       "7             NaN              NaN  \n",
       "8             NaN            189.0  \n",
       "9             NaN            289.0  \n",
       "10          553.0            137.0  \n",
       "11            NaN              7.0  \n",
       "12            NaN             90.0  \n",
       "13          298.0            366.0  \n",
       "14           96.0            203.0  \n",
       "15          296.0             19.0  \n",
       "16            NaN            397.0  \n",
       "17          859.0            571.0  \n",
       "18            NaN            168.0  \n",
       "19            NaN             97.0  \n",
       "\n",
       "[20 rows x 22 columns]"
      ]
     },
     "execution_count": 2,
     "metadata": {},
     "output_type": "execute_result"
    }
   ],
   "source": [
    "try:\n",
    "    data = pd.read_csv('/datasets/real_estate_data.csv', sep='\\t')\n",
    "except:\n",
    "    data = pd.read_csv('C:\\\\Users\\\\37544\\\\Downloads\\\\real_estate_data.csv')\n",
    "    \n",
    "data.head(20)"
   ]
  },
  {
   "cell_type": "code",
   "execution_count": 3,
   "metadata": {},
   "outputs": [
    {
     "name": "stdout",
     "output_type": "stream",
     "text": [
      "<class 'pandas.core.frame.DataFrame'>\n",
      "RangeIndex: 23699 entries, 0 to 23698\n",
      "Data columns (total 22 columns):\n",
      " #   Column                Non-Null Count  Dtype  \n",
      "---  ------                --------------  -----  \n",
      " 0   total_images          23699 non-null  int64  \n",
      " 1   last_price            23699 non-null  float64\n",
      " 2   total_area            23699 non-null  float64\n",
      " 3   first_day_exposition  23699 non-null  object \n",
      " 4   rooms                 23699 non-null  int64  \n",
      " 5   ceiling_height        14504 non-null  float64\n",
      " 6   floors_total          23613 non-null  float64\n",
      " 7   living_area           21796 non-null  float64\n",
      " 8   floor                 23699 non-null  int64  \n",
      " 9   is_apartment          2775 non-null   object \n",
      " 10  studio                23699 non-null  bool   \n",
      " 11  open_plan             23699 non-null  bool   \n",
      " 12  kitchen_area          21421 non-null  float64\n",
      " 13  balcony               12180 non-null  float64\n",
      " 14  locality_name         23650 non-null  object \n",
      " 15  airports_nearest      18157 non-null  float64\n",
      " 16  cityCenters_nearest   18180 non-null  float64\n",
      " 17  parks_around3000      18181 non-null  float64\n",
      " 18  parks_nearest         8079 non-null   float64\n",
      " 19  ponds_around3000      18181 non-null  float64\n",
      " 20  ponds_nearest         9110 non-null   float64\n",
      " 21  days_exposition       20518 non-null  float64\n",
      "dtypes: bool(2), float64(14), int64(3), object(3)\n",
      "memory usage: 3.7+ MB\n"
     ]
    }
   ],
   "source": [
    "data.info()"
   ]
  },
  {
   "cell_type": "code",
   "execution_count": 4,
   "metadata": {},
   "outputs": [
    {
     "data": {
      "image/png": "[encoded data removed]",
      "text/plain": [
       "<Figure size 1080x1440 with 20 Axes>"
      ]
     },
     "metadata": {
      "needs_background": "light"
     },
     "output_type": "display_data"
    }
   ],
   "source": [
    "data.hist(figsize=(15,20))\n",
    "plt.show()"
   ]
  },
  {
   "cell_type": "markdown",
   "metadata": {},
   "source": [
    "### 2 шаг. Предобработка данных "
   ]
  },
  {
   "cell_type": "code",
   "execution_count": 5,
   "metadata": {},
   "outputs": [
    {
     "data": {
      "text/plain": [
       "total_images                0\n",
       "last_price                  0\n",
       "total_area                  0\n",
       "first_day_exposition        0\n",
       "rooms                       0\n",
       "ceiling_height           9195\n",
       "floors_total               86\n",
       "living_area              1903\n",
       "floor                       0\n",
       "is_apartment            20924\n",
       "studio                      0\n",
       "open_plan                   0\n",
       "kitchen_area             2278\n",
       "balcony                 11519\n",
       "locality_name              49\n",
       "airports_nearest         5542\n",
       "cityCenters_nearest      5519\n",
       "parks_around3000         5518\n",
       "parks_nearest           15620\n",
       "ponds_around3000         5518\n",
       "ponds_nearest           14589\n",
       "days_exposition          3181\n",
       "dtype: int64"
      ]
     },
     "execution_count": 5,
     "metadata": {},
     "output_type": "execute_result"
    }
   ],
   "source": [
    "# 1. Найдём и изучим пропущенные значения в столбцах:\n",
    "\n",
    "data.isnull().sum()"
   ]
  },
  {
   "cell_type": "code",
   "execution_count": 6,
   "metadata": {},
   "outputs": [
    {
     "data": {
      "text/html": [
       "<style  type=\"text/css\" >\n",
       "#T_21f4b_row0_col0,#T_21f4b_row1_col0,#T_21f4b_row2_col0,#T_21f4b_row3_col0,#T_21f4b_row4_col0,#T_21f4b_row6_col0,#T_21f4b_row8_col0,#T_21f4b_row10_col0,#T_21f4b_row11_col0,#T_21f4b_row14_col0{\n",
       "            background-color:  #3b4cc0;\n",
       "            color:  #f1f1f1;\n",
       "        }#T_21f4b_row5_col0{\n",
       "            background-color:  #cdd9ec;\n",
       "            color:  #000000;\n",
       "        }#T_21f4b_row7_col0{\n",
       "            background-color:  #5673e0;\n",
       "            color:  #000000;\n",
       "        }#T_21f4b_row9_col0{\n",
       "            background-color:  #b40426;\n",
       "            color:  #f1f1f1;\n",
       "        }#T_21f4b_row12_col0{\n",
       "            background-color:  #5e7de7;\n",
       "            color:  #000000;\n",
       "        }#T_21f4b_row13_col0{\n",
       "            background-color:  #ead4c8;\n",
       "            color:  #000000;\n",
       "        }#T_21f4b_row15_col0,#T_21f4b_row16_col0,#T_21f4b_row17_col0,#T_21f4b_row19_col0{\n",
       "            background-color:  #90b2fe;\n",
       "            color:  #000000;\n",
       "        }#T_21f4b_row18_col0{\n",
       "            background-color:  #f4987a;\n",
       "            color:  #000000;\n",
       "        }#T_21f4b_row20_col0{\n",
       "            background-color:  #f7aa8c;\n",
       "            color:  #000000;\n",
       "        }#T_21f4b_row21_col0{\n",
       "            background-color:  #688aef;\n",
       "            color:  #000000;\n",
       "        }</style><table id=\"T_21f4b_\" ><thead>    <tr>        <th class=\"blank level0\" ></th>        <th class=\"col_heading level0 col0\" >0</th>    </tr></thead><tbody>\n",
       "                <tr>\n",
       "                        <th id=\"T_21f4b_level0_row0\" class=\"row_heading level0 row0\" >total_images</th>\n",
       "                        <td id=\"T_21f4b_row0_col0\" class=\"data row0 col0\" >0.000000</td>\n",
       "            </tr>\n",
       "            <tr>\n",
       "                        <th id=\"T_21f4b_level0_row1\" class=\"row_heading level0 row1\" >last_price</th>\n",
       "                        <td id=\"T_21f4b_row1_col0\" class=\"data row1 col0\" >0.000000</td>\n",
       "            </tr>\n",
       "            <tr>\n",
       "                        <th id=\"T_21f4b_level0_row2\" class=\"row_heading level0 row2\" >total_area</th>\n",
       "                        <td id=\"T_21f4b_row2_col0\" class=\"data row2 col0\" >0.000000</td>\n",
       "            </tr>\n",
       "            <tr>\n",
       "                        <th id=\"T_21f4b_level0_row3\" class=\"row_heading level0 row3\" >first_day_exposition</th>\n",
       "                        <td id=\"T_21f4b_row3_col0\" class=\"data row3 col0\" >0.000000</td>\n",
       "            </tr>\n",
       "            <tr>\n",
       "                        <th id=\"T_21f4b_level0_row4\" class=\"row_heading level0 row4\" >rooms</th>\n",
       "                        <td id=\"T_21f4b_row4_col0\" class=\"data row4 col0\" >0.000000</td>\n",
       "            </tr>\n",
       "            <tr>\n",
       "                        <th id=\"T_21f4b_level0_row5\" class=\"row_heading level0 row5\" >ceiling_height</th>\n",
       "                        <td id=\"T_21f4b_row5_col0\" class=\"data row5 col0\" >39.000000</td>\n",
       "            </tr>\n",
       "            <tr>\n",
       "                        <th id=\"T_21f4b_level0_row6\" class=\"row_heading level0 row6\" >floors_total</th>\n",
       "                        <td id=\"T_21f4b_row6_col0\" class=\"data row6 col0\" >0.000000</td>\n",
       "            </tr>\n",
       "            <tr>\n",
       "                        <th id=\"T_21f4b_level0_row7\" class=\"row_heading level0 row7\" >living_area</th>\n",
       "                        <td id=\"T_21f4b_row7_col0\" class=\"data row7 col0\" >8.000000</td>\n",
       "            </tr>\n",
       "            <tr>\n",
       "                        <th id=\"T_21f4b_level0_row8\" class=\"row_heading level0 row8\" >floor</th>\n",
       "                        <td id=\"T_21f4b_row8_col0\" class=\"data row8 col0\" >0.000000</td>\n",
       "            </tr>\n",
       "            <tr>\n",
       "                        <th id=\"T_21f4b_level0_row9\" class=\"row_heading level0 row9\" >is_apartment</th>\n",
       "                        <td id=\"T_21f4b_row9_col0\" class=\"data row9 col0\" >88.000000</td>\n",
       "            </tr>\n",
       "            <tr>\n",
       "                        <th id=\"T_21f4b_level0_row10\" class=\"row_heading level0 row10\" >studio</th>\n",
       "                        <td id=\"T_21f4b_row10_col0\" class=\"data row10 col0\" >0.000000</td>\n",
       "            </tr>\n",
       "            <tr>\n",
       "                        <th id=\"T_21f4b_level0_row11\" class=\"row_heading level0 row11\" >open_plan</th>\n",
       "                        <td id=\"T_21f4b_row11_col0\" class=\"data row11 col0\" >0.000000</td>\n",
       "            </tr>\n",
       "            <tr>\n",
       "                        <th id=\"T_21f4b_level0_row12\" class=\"row_heading level0 row12\" >kitchen_area</th>\n",
       "                        <td id=\"T_21f4b_row12_col0\" class=\"data row12 col0\" >10.000000</td>\n",
       "            </tr>\n",
       "            <tr>\n",
       "                        <th id=\"T_21f4b_level0_row13\" class=\"row_heading level0 row13\" >balcony</th>\n",
       "                        <td id=\"T_21f4b_row13_col0\" class=\"data row13 col0\" >49.000000</td>\n",
       "            </tr>\n",
       "            <tr>\n",
       "                        <th id=\"T_21f4b_level0_row14\" class=\"row_heading level0 row14\" >locality_name</th>\n",
       "                        <td id=\"T_21f4b_row14_col0\" class=\"data row14 col0\" >0.000000</td>\n",
       "            </tr>\n",
       "            <tr>\n",
       "                        <th id=\"T_21f4b_level0_row15\" class=\"row_heading level0 row15\" >airports_nearest</th>\n",
       "                        <td id=\"T_21f4b_row15_col0\" class=\"data row15 col0\" >23.000000</td>\n",
       "            </tr>\n",
       "            <tr>\n",
       "                        <th id=\"T_21f4b_level0_row16\" class=\"row_heading level0 row16\" >cityCenters_nearest</th>\n",
       "                        <td id=\"T_21f4b_row16_col0\" class=\"data row16 col0\" >23.000000</td>\n",
       "            </tr>\n",
       "            <tr>\n",
       "                        <th id=\"T_21f4b_level0_row17\" class=\"row_heading level0 row17\" >parks_around3000</th>\n",
       "                        <td id=\"T_21f4b_row17_col0\" class=\"data row17 col0\" >23.000000</td>\n",
       "            </tr>\n",
       "            <tr>\n",
       "                        <th id=\"T_21f4b_level0_row18\" class=\"row_heading level0 row18\" >parks_nearest</th>\n",
       "                        <td id=\"T_21f4b_row18_col0\" class=\"data row18 col0\" >66.000000</td>\n",
       "            </tr>\n",
       "            <tr>\n",
       "                        <th id=\"T_21f4b_level0_row19\" class=\"row_heading level0 row19\" >ponds_around3000</th>\n",
       "                        <td id=\"T_21f4b_row19_col0\" class=\"data row19 col0\" >23.000000</td>\n",
       "            </tr>\n",
       "            <tr>\n",
       "                        <th id=\"T_21f4b_level0_row20\" class=\"row_heading level0 row20\" >ponds_nearest</th>\n",
       "                        <td id=\"T_21f4b_row20_col0\" class=\"data row20 col0\" >62.000000</td>\n",
       "            </tr>\n",
       "            <tr>\n",
       "                        <th id=\"T_21f4b_level0_row21\" class=\"row_heading level0 row21\" >days_exposition</th>\n",
       "                        <td id=\"T_21f4b_row21_col0\" class=\"data row21 col0\" >13.000000</td>\n",
       "            </tr>\n",
       "    </tbody></table>"
      ],
      "text/plain": [
       "<pandas.io.formats.style.Styler at 0x7fe7b920a250>"
      ]
     },
     "execution_count": 6,
     "metadata": {},
     "output_type": "execute_result"
    }
   ],
   "source": [
    "pd.DataFrame(round(data.isna().mean()*100,)).style.background_gradient('coolwarm')"
   ]
  },
  {
   "cell_type": "code",
   "execution_count": 7,
   "metadata": {},
   "outputs": [],
   "source": [
    "# Заполненим пропусков на 0\n",
    "data['balcony'] = data['balcony'].fillna(0)\n",
    "data['parks_around3000'] = data['parks_around3000'].fillna(0)\n",
    "data['ponds_around3000'] = data['ponds_around3000'].fillna(0)\n",
    "# Удаление пустых значений\n",
    "data['is_apartment'] = data['is_apartment'].fillna(False)\n"
   ]
  },
  {
   "cell_type": "markdown",
   "metadata": {},
   "source": [
    "Эта ошибки могли быть допущены по невнимательности"
   ]
  },
  {
   "cell_type": "code",
   "execution_count": 8,
   "metadata": {},
   "outputs": [
    {
     "name": "stderr",
     "output_type": "stream",
     "text": [
      "/opt/conda/lib/python3.9/site-packages/numpy/lib/nanfunctions.py:1117: RuntimeWarning: Mean of empty slice\n",
      "  return np.nanmean(a, axis, out=out, keepdims=keepdims)\n",
      "/opt/conda/lib/python3.9/site-packages/numpy/lib/nanfunctions.py:1117: RuntimeWarning: Mean of empty slice\n",
      "  return np.nanmean(a, axis, out=out, keepdims=keepdims)\n",
      "/opt/conda/lib/python3.9/site-packages/numpy/lib/nanfunctions.py:1117: RuntimeWarning: Mean of empty slice\n",
      "  return np.nanmean(a, axis, out=out, keepdims=keepdims)\n",
      "/opt/conda/lib/python3.9/site-packages/numpy/lib/nanfunctions.py:1117: RuntimeWarning: Mean of empty slice\n",
      "  return np.nanmean(a, axis, out=out, keepdims=keepdims)\n",
      "/opt/conda/lib/python3.9/site-packages/numpy/lib/nanfunctions.py:1117: RuntimeWarning: Mean of empty slice\n",
      "  return np.nanmean(a, axis, out=out, keepdims=keepdims)\n",
      "/opt/conda/lib/python3.9/site-packages/numpy/lib/nanfunctions.py:1117: RuntimeWarning: Mean of empty slice\n",
      "  return np.nanmean(a, axis, out=out, keepdims=keepdims)\n",
      "/opt/conda/lib/python3.9/site-packages/numpy/lib/nanfunctions.py:1117: RuntimeWarning: Mean of empty slice\n",
      "  return np.nanmean(a, axis, out=out, keepdims=keepdims)\n",
      "/opt/conda/lib/python3.9/site-packages/numpy/lib/nanfunctions.py:1117: RuntimeWarning: Mean of empty slice\n",
      "  return np.nanmean(a, axis, out=out, keepdims=keepdims)\n",
      "/opt/conda/lib/python3.9/site-packages/numpy/lib/nanfunctions.py:1117: RuntimeWarning: Mean of empty slice\n",
      "  return np.nanmean(a, axis, out=out, keepdims=keepdims)\n",
      "/opt/conda/lib/python3.9/site-packages/numpy/lib/nanfunctions.py:1117: RuntimeWarning: Mean of empty slice\n",
      "  return np.nanmean(a, axis, out=out, keepdims=keepdims)\n",
      "/opt/conda/lib/python3.9/site-packages/numpy/lib/nanfunctions.py:1117: RuntimeWarning: Mean of empty slice\n",
      "  return np.nanmean(a, axis, out=out, keepdims=keepdims)\n",
      "/opt/conda/lib/python3.9/site-packages/numpy/lib/nanfunctions.py:1117: RuntimeWarning: Mean of empty slice\n",
      "  return np.nanmean(a, axis, out=out, keepdims=keepdims)\n",
      "/opt/conda/lib/python3.9/site-packages/numpy/lib/nanfunctions.py:1117: RuntimeWarning: Mean of empty slice\n",
      "  return np.nanmean(a, axis, out=out, keepdims=keepdims)\n",
      "/opt/conda/lib/python3.9/site-packages/numpy/lib/nanfunctions.py:1117: RuntimeWarning: Mean of empty slice\n",
      "  return np.nanmean(a, axis, out=out, keepdims=keepdims)\n",
      "/opt/conda/lib/python3.9/site-packages/numpy/lib/nanfunctions.py:1117: RuntimeWarning: Mean of empty slice\n",
      "  return np.nanmean(a, axis, out=out, keepdims=keepdims)\n",
      "/opt/conda/lib/python3.9/site-packages/numpy/lib/nanfunctions.py:1117: RuntimeWarning: Mean of empty slice\n",
      "  return np.nanmean(a, axis, out=out, keepdims=keepdims)\n",
      "/opt/conda/lib/python3.9/site-packages/numpy/lib/nanfunctions.py:1117: RuntimeWarning: Mean of empty slice\n",
      "  return np.nanmean(a, axis, out=out, keepdims=keepdims)\n",
      "/opt/conda/lib/python3.9/site-packages/numpy/lib/nanfunctions.py:1117: RuntimeWarning: Mean of empty slice\n",
      "  return np.nanmean(a, axis, out=out, keepdims=keepdims)\n",
      "/opt/conda/lib/python3.9/site-packages/numpy/lib/nanfunctions.py:1117: RuntimeWarning: Mean of empty slice\n",
      "  return np.nanmean(a, axis, out=out, keepdims=keepdims)\n",
      "/opt/conda/lib/python3.9/site-packages/numpy/lib/nanfunctions.py:1117: RuntimeWarning: Mean of empty slice\n",
      "  return np.nanmean(a, axis, out=out, keepdims=keepdims)\n",
      "/opt/conda/lib/python3.9/site-packages/numpy/lib/nanfunctions.py:1117: RuntimeWarning: Mean of empty slice\n",
      "  return np.nanmean(a, axis, out=out, keepdims=keepdims)\n",
      "/opt/conda/lib/python3.9/site-packages/numpy/lib/nanfunctions.py:1117: RuntimeWarning: Mean of empty slice\n",
      "  return np.nanmean(a, axis, out=out, keepdims=keepdims)\n",
      "/opt/conda/lib/python3.9/site-packages/numpy/lib/nanfunctions.py:1117: RuntimeWarning: Mean of empty slice\n",
      "  return np.nanmean(a, axis, out=out, keepdims=keepdims)\n",
      "/opt/conda/lib/python3.9/site-packages/numpy/lib/nanfunctions.py:1117: RuntimeWarning: Mean of empty slice\n",
      "  return np.nanmean(a, axis, out=out, keepdims=keepdims)\n",
      "/opt/conda/lib/python3.9/site-packages/numpy/lib/nanfunctions.py:1117: RuntimeWarning: Mean of empty slice\n",
      "  return np.nanmean(a, axis, out=out, keepdims=keepdims)\n",
      "/opt/conda/lib/python3.9/site-packages/numpy/lib/nanfunctions.py:1117: RuntimeWarning: Mean of empty slice\n",
      "  return np.nanmean(a, axis, out=out, keepdims=keepdims)\n",
      "/opt/conda/lib/python3.9/site-packages/numpy/lib/nanfunctions.py:1117: RuntimeWarning: Mean of empty slice\n",
      "  return np.nanmean(a, axis, out=out, keepdims=keepdims)\n",
      "/opt/conda/lib/python3.9/site-packages/numpy/lib/nanfunctions.py:1117: RuntimeWarning: Mean of empty slice\n",
      "  return np.nanmean(a, axis, out=out, keepdims=keepdims)\n",
      "/opt/conda/lib/python3.9/site-packages/numpy/lib/nanfunctions.py:1117: RuntimeWarning: Mean of empty slice\n",
      "  return np.nanmean(a, axis, out=out, keepdims=keepdims)\n",
      "/opt/conda/lib/python3.9/site-packages/numpy/lib/nanfunctions.py:1117: RuntimeWarning: Mean of empty slice\n",
      "  return np.nanmean(a, axis, out=out, keepdims=keepdims)\n",
      "/opt/conda/lib/python3.9/site-packages/numpy/lib/nanfunctions.py:1117: RuntimeWarning: Mean of empty slice\n",
      "  return np.nanmean(a, axis, out=out, keepdims=keepdims)\n",
      "/opt/conda/lib/python3.9/site-packages/numpy/lib/nanfunctions.py:1117: RuntimeWarning: Mean of empty slice\n",
      "  return np.nanmean(a, axis, out=out, keepdims=keepdims)\n",
      "/opt/conda/lib/python3.9/site-packages/numpy/lib/nanfunctions.py:1117: RuntimeWarning: Mean of empty slice\n",
      "  return np.nanmean(a, axis, out=out, keepdims=keepdims)\n",
      "/opt/conda/lib/python3.9/site-packages/numpy/lib/nanfunctions.py:1117: RuntimeWarning: Mean of empty slice\n",
      "  return np.nanmean(a, axis, out=out, keepdims=keepdims)\n",
      "/opt/conda/lib/python3.9/site-packages/numpy/lib/nanfunctions.py:1117: RuntimeWarning: Mean of empty slice\n",
      "  return np.nanmean(a, axis, out=out, keepdims=keepdims)\n",
      "/opt/conda/lib/python3.9/site-packages/numpy/lib/nanfunctions.py:1117: RuntimeWarning: Mean of empty slice\n",
      "  return np.nanmean(a, axis, out=out, keepdims=keepdims)\n",
      "/opt/conda/lib/python3.9/site-packages/numpy/lib/nanfunctions.py:1117: RuntimeWarning: Mean of empty slice\n",
      "  return np.nanmean(a, axis, out=out, keepdims=keepdims)\n",
      "/opt/conda/lib/python3.9/site-packages/numpy/lib/nanfunctions.py:1117: RuntimeWarning: Mean of empty slice\n",
      "  return np.nanmean(a, axis, out=out, keepdims=keepdims)\n",
      "/opt/conda/lib/python3.9/site-packages/numpy/lib/nanfunctions.py:1117: RuntimeWarning: Mean of empty slice\n",
      "  return np.nanmean(a, axis, out=out, keepdims=keepdims)\n",
      "/opt/conda/lib/python3.9/site-packages/numpy/lib/nanfunctions.py:1117: RuntimeWarning: Mean of empty slice\n",
      "  return np.nanmean(a, axis, out=out, keepdims=keepdims)\n",
      "/opt/conda/lib/python3.9/site-packages/numpy/lib/nanfunctions.py:1117: RuntimeWarning: Mean of empty slice\n",
      "  return np.nanmean(a, axis, out=out, keepdims=keepdims)\n",
      "/opt/conda/lib/python3.9/site-packages/numpy/lib/nanfunctions.py:1117: RuntimeWarning: Mean of empty slice\n",
      "  return np.nanmean(a, axis, out=out, keepdims=keepdims)\n",
      "/opt/conda/lib/python3.9/site-packages/numpy/lib/nanfunctions.py:1117: RuntimeWarning: Mean of empty slice\n",
      "  return np.nanmean(a, axis, out=out, keepdims=keepdims)\n",
      "/opt/conda/lib/python3.9/site-packages/numpy/lib/nanfunctions.py:1117: RuntimeWarning: Mean of empty slice\n",
      "  return np.nanmean(a, axis, out=out, keepdims=keepdims)\n",
      "/opt/conda/lib/python3.9/site-packages/numpy/lib/nanfunctions.py:1117: RuntimeWarning: Mean of empty slice\n",
      "  return np.nanmean(a, axis, out=out, keepdims=keepdims)\n",
      "/opt/conda/lib/python3.9/site-packages/numpy/lib/nanfunctions.py:1117: RuntimeWarning: Mean of empty slice\n",
      "  return np.nanmean(a, axis, out=out, keepdims=keepdims)\n",
      "/opt/conda/lib/python3.9/site-packages/numpy/lib/nanfunctions.py:1117: RuntimeWarning: Mean of empty slice\n",
      "  return np.nanmean(a, axis, out=out, keepdims=keepdims)\n",
      "/opt/conda/lib/python3.9/site-packages/numpy/lib/nanfunctions.py:1117: RuntimeWarning: Mean of empty slice\n",
      "  return np.nanmean(a, axis, out=out, keepdims=keepdims)\n",
      "/opt/conda/lib/python3.9/site-packages/numpy/lib/nanfunctions.py:1117: RuntimeWarning: Mean of empty slice\n",
      "  return np.nanmean(a, axis, out=out, keepdims=keepdims)\n",
      "/opt/conda/lib/python3.9/site-packages/numpy/lib/nanfunctions.py:1117: RuntimeWarning: Mean of empty slice\n",
      "  return np.nanmean(a, axis, out=out, keepdims=keepdims)\n",
      "/opt/conda/lib/python3.9/site-packages/numpy/lib/nanfunctions.py:1117: RuntimeWarning: Mean of empty slice\n",
      "  return np.nanmean(a, axis, out=out, keepdims=keepdims)\n",
      "/opt/conda/lib/python3.9/site-packages/numpy/lib/nanfunctions.py:1117: RuntimeWarning: Mean of empty slice\n",
      "  return np.nanmean(a, axis, out=out, keepdims=keepdims)\n",
      "/opt/conda/lib/python3.9/site-packages/numpy/lib/nanfunctions.py:1117: RuntimeWarning: Mean of empty slice\n",
      "  return np.nanmean(a, axis, out=out, keepdims=keepdims)\n",
      "/opt/conda/lib/python3.9/site-packages/numpy/lib/nanfunctions.py:1117: RuntimeWarning: Mean of empty slice\n",
      "  return np.nanmean(a, axis, out=out, keepdims=keepdims)\n",
      "/opt/conda/lib/python3.9/site-packages/numpy/lib/nanfunctions.py:1117: RuntimeWarning: Mean of empty slice\n",
      "  return np.nanmean(a, axis, out=out, keepdims=keepdims)\n",
      "/opt/conda/lib/python3.9/site-packages/numpy/lib/nanfunctions.py:1117: RuntimeWarning: Mean of empty slice\n",
      "  return np.nanmean(a, axis, out=out, keepdims=keepdims)\n",
      "/opt/conda/lib/python3.9/site-packages/numpy/lib/nanfunctions.py:1117: RuntimeWarning: Mean of empty slice\n",
      "  return np.nanmean(a, axis, out=out, keepdims=keepdims)\n",
      "/opt/conda/lib/python3.9/site-packages/numpy/lib/nanfunctions.py:1117: RuntimeWarning: Mean of empty slice\n",
      "  return np.nanmean(a, axis, out=out, keepdims=keepdims)\n",
      "/opt/conda/lib/python3.9/site-packages/numpy/lib/nanfunctions.py:1117: RuntimeWarning: Mean of empty slice\n",
      "  return np.nanmean(a, axis, out=out, keepdims=keepdims)\n",
      "/opt/conda/lib/python3.9/site-packages/numpy/lib/nanfunctions.py:1117: RuntimeWarning: Mean of empty slice\n",
      "  return np.nanmean(a, axis, out=out, keepdims=keepdims)\n",
      "/opt/conda/lib/python3.9/site-packages/numpy/lib/nanfunctions.py:1117: RuntimeWarning: Mean of empty slice\n",
      "  return np.nanmean(a, axis, out=out, keepdims=keepdims)\n",
      "/opt/conda/lib/python3.9/site-packages/numpy/lib/nanfunctions.py:1117: RuntimeWarning: Mean of empty slice\n",
      "  return np.nanmean(a, axis, out=out, keepdims=keepdims)\n",
      "/opt/conda/lib/python3.9/site-packages/numpy/lib/nanfunctions.py:1117: RuntimeWarning: Mean of empty slice\n",
      "  return np.nanmean(a, axis, out=out, keepdims=keepdims)\n",
      "/opt/conda/lib/python3.9/site-packages/numpy/lib/nanfunctions.py:1117: RuntimeWarning: Mean of empty slice\n",
      "  return np.nanmean(a, axis, out=out, keepdims=keepdims)\n",
      "/opt/conda/lib/python3.9/site-packages/numpy/lib/nanfunctions.py:1117: RuntimeWarning: Mean of empty slice\n",
      "  return np.nanmean(a, axis, out=out, keepdims=keepdims)\n",
      "/opt/conda/lib/python3.9/site-packages/numpy/lib/nanfunctions.py:1117: RuntimeWarning: Mean of empty slice\n",
      "  return np.nanmean(a, axis, out=out, keepdims=keepdims)\n",
      "/opt/conda/lib/python3.9/site-packages/numpy/lib/nanfunctions.py:1117: RuntimeWarning: Mean of empty slice\n",
      "  return np.nanmean(a, axis, out=out, keepdims=keepdims)\n",
      "/opt/conda/lib/python3.9/site-packages/numpy/lib/nanfunctions.py:1117: RuntimeWarning: Mean of empty slice\n",
      "  return np.nanmean(a, axis, out=out, keepdims=keepdims)\n",
      "/opt/conda/lib/python3.9/site-packages/numpy/lib/nanfunctions.py:1117: RuntimeWarning: Mean of empty slice\n",
      "  return np.nanmean(a, axis, out=out, keepdims=keepdims)\n",
      "/opt/conda/lib/python3.9/site-packages/numpy/lib/nanfunctions.py:1117: RuntimeWarning: Mean of empty slice\n",
      "  return np.nanmean(a, axis, out=out, keepdims=keepdims)\n",
      "/opt/conda/lib/python3.9/site-packages/numpy/lib/nanfunctions.py:1117: RuntimeWarning: Mean of empty slice\n",
      "  return np.nanmean(a, axis, out=out, keepdims=keepdims)\n",
      "/opt/conda/lib/python3.9/site-packages/numpy/lib/nanfunctions.py:1117: RuntimeWarning: Mean of empty slice\n",
      "  return np.nanmean(a, axis, out=out, keepdims=keepdims)\n",
      "/opt/conda/lib/python3.9/site-packages/numpy/lib/nanfunctions.py:1117: RuntimeWarning: Mean of empty slice\n",
      "  return np.nanmean(a, axis, out=out, keepdims=keepdims)\n",
      "/opt/conda/lib/python3.9/site-packages/numpy/lib/nanfunctions.py:1117: RuntimeWarning: Mean of empty slice\n",
      "  return np.nanmean(a, axis, out=out, keepdims=keepdims)\n",
      "/opt/conda/lib/python3.9/site-packages/numpy/lib/nanfunctions.py:1117: RuntimeWarning: Mean of empty slice\n",
      "  return np.nanmean(a, axis, out=out, keepdims=keepdims)\n",
      "/opt/conda/lib/python3.9/site-packages/numpy/lib/nanfunctions.py:1117: RuntimeWarning: Mean of empty slice\n",
      "  return np.nanmean(a, axis, out=out, keepdims=keepdims)\n",
      "/opt/conda/lib/python3.9/site-packages/numpy/lib/nanfunctions.py:1117: RuntimeWarning: Mean of empty slice\n",
      "  return np.nanmean(a, axis, out=out, keepdims=keepdims)\n",
      "/opt/conda/lib/python3.9/site-packages/numpy/lib/nanfunctions.py:1117: RuntimeWarning: Mean of empty slice\n",
      "  return np.nanmean(a, axis, out=out, keepdims=keepdims)\n",
      "/opt/conda/lib/python3.9/site-packages/numpy/lib/nanfunctions.py:1117: RuntimeWarning: Mean of empty slice\n",
      "  return np.nanmean(a, axis, out=out, keepdims=keepdims)\n",
      "/opt/conda/lib/python3.9/site-packages/numpy/lib/nanfunctions.py:1117: RuntimeWarning: Mean of empty slice\n",
      "  return np.nanmean(a, axis, out=out, keepdims=keepdims)\n",
      "/opt/conda/lib/python3.9/site-packages/numpy/lib/nanfunctions.py:1117: RuntimeWarning: Mean of empty slice\n",
      "  return np.nanmean(a, axis, out=out, keepdims=keepdims)\n",
      "/opt/conda/lib/python3.9/site-packages/numpy/lib/nanfunctions.py:1117: RuntimeWarning: Mean of empty slice\n",
      "  return np.nanmean(a, axis, out=out, keepdims=keepdims)\n",
      "/opt/conda/lib/python3.9/site-packages/numpy/lib/nanfunctions.py:1117: RuntimeWarning: Mean of empty slice\n",
      "  return np.nanmean(a, axis, out=out, keepdims=keepdims)\n",
      "/opt/conda/lib/python3.9/site-packages/numpy/lib/nanfunctions.py:1117: RuntimeWarning: Mean of empty slice\n",
      "  return np.nanmean(a, axis, out=out, keepdims=keepdims)\n",
      "/opt/conda/lib/python3.9/site-packages/numpy/lib/nanfunctions.py:1117: RuntimeWarning: Mean of empty slice\n",
      "  return np.nanmean(a, axis, out=out, keepdims=keepdims)\n",
      "/opt/conda/lib/python3.9/site-packages/numpy/lib/nanfunctions.py:1117: RuntimeWarning: Mean of empty slice\n",
      "  return np.nanmean(a, axis, out=out, keepdims=keepdims)\n",
      "/opt/conda/lib/python3.9/site-packages/numpy/lib/nanfunctions.py:1117: RuntimeWarning: Mean of empty slice\n",
      "  return np.nanmean(a, axis, out=out, keepdims=keepdims)\n",
      "/opt/conda/lib/python3.9/site-packages/numpy/lib/nanfunctions.py:1117: RuntimeWarning: Mean of empty slice\n",
      "  return np.nanmean(a, axis, out=out, keepdims=keepdims)\n",
      "/opt/conda/lib/python3.9/site-packages/numpy/lib/nanfunctions.py:1117: RuntimeWarning: Mean of empty slice\n",
      "  return np.nanmean(a, axis, out=out, keepdims=keepdims)\n",
      "/opt/conda/lib/python3.9/site-packages/numpy/lib/nanfunctions.py:1117: RuntimeWarning: Mean of empty slice\n",
      "  return np.nanmean(a, axis, out=out, keepdims=keepdims)\n",
      "/opt/conda/lib/python3.9/site-packages/numpy/lib/nanfunctions.py:1117: RuntimeWarning: Mean of empty slice\n",
      "  return np.nanmean(a, axis, out=out, keepdims=keepdims)\n",
      "/opt/conda/lib/python3.9/site-packages/numpy/lib/nanfunctions.py:1117: RuntimeWarning: Mean of empty slice\n",
      "  return np.nanmean(a, axis, out=out, keepdims=keepdims)\n",
      "/opt/conda/lib/python3.9/site-packages/numpy/lib/nanfunctions.py:1117: RuntimeWarning: Mean of empty slice\n",
      "  return np.nanmean(a, axis, out=out, keepdims=keepdims)\n",
      "/opt/conda/lib/python3.9/site-packages/numpy/lib/nanfunctions.py:1117: RuntimeWarning: Mean of empty slice\n",
      "  return np.nanmean(a, axis, out=out, keepdims=keepdims)\n",
      "/opt/conda/lib/python3.9/site-packages/numpy/lib/nanfunctions.py:1117: RuntimeWarning: Mean of empty slice\n",
      "  return np.nanmean(a, axis, out=out, keepdims=keepdims)\n",
      "/opt/conda/lib/python3.9/site-packages/numpy/lib/nanfunctions.py:1117: RuntimeWarning: Mean of empty slice\n",
      "  return np.nanmean(a, axis, out=out, keepdims=keepdims)\n",
      "/opt/conda/lib/python3.9/site-packages/numpy/lib/nanfunctions.py:1117: RuntimeWarning: Mean of empty slice\n",
      "  return np.nanmean(a, axis, out=out, keepdims=keepdims)\n",
      "/opt/conda/lib/python3.9/site-packages/numpy/lib/nanfunctions.py:1117: RuntimeWarning: Mean of empty slice\n",
      "  return np.nanmean(a, axis, out=out, keepdims=keepdims)\n",
      "/opt/conda/lib/python3.9/site-packages/numpy/lib/nanfunctions.py:1117: RuntimeWarning: Mean of empty slice\n",
      "  return np.nanmean(a, axis, out=out, keepdims=keepdims)\n",
      "/opt/conda/lib/python3.9/site-packages/numpy/lib/nanfunctions.py:1117: RuntimeWarning: Mean of empty slice\n",
      "  return np.nanmean(a, axis, out=out, keepdims=keepdims)\n",
      "/opt/conda/lib/python3.9/site-packages/numpy/lib/nanfunctions.py:1117: RuntimeWarning: Mean of empty slice\n",
      "  return np.nanmean(a, axis, out=out, keepdims=keepdims)\n",
      "/opt/conda/lib/python3.9/site-packages/numpy/lib/nanfunctions.py:1117: RuntimeWarning: Mean of empty slice\n",
      "  return np.nanmean(a, axis, out=out, keepdims=keepdims)\n",
      "/opt/conda/lib/python3.9/site-packages/numpy/lib/nanfunctions.py:1117: RuntimeWarning: Mean of empty slice\n",
      "  return np.nanmean(a, axis, out=out, keepdims=keepdims)\n",
      "/opt/conda/lib/python3.9/site-packages/numpy/lib/nanfunctions.py:1117: RuntimeWarning: Mean of empty slice\n",
      "  return np.nanmean(a, axis, out=out, keepdims=keepdims)\n",
      "/opt/conda/lib/python3.9/site-packages/numpy/lib/nanfunctions.py:1117: RuntimeWarning: Mean of empty slice\n",
      "  return np.nanmean(a, axis, out=out, keepdims=keepdims)\n",
      "/opt/conda/lib/python3.9/site-packages/numpy/lib/nanfunctions.py:1117: RuntimeWarning: Mean of empty slice\n",
      "  return np.nanmean(a, axis, out=out, keepdims=keepdims)\n",
      "/opt/conda/lib/python3.9/site-packages/numpy/lib/nanfunctions.py:1117: RuntimeWarning: Mean of empty slice\n",
      "  return np.nanmean(a, axis, out=out, keepdims=keepdims)\n",
      "/opt/conda/lib/python3.9/site-packages/numpy/lib/nanfunctions.py:1117: RuntimeWarning: Mean of empty slice\n",
      "  return np.nanmean(a, axis, out=out, keepdims=keepdims)\n",
      "/opt/conda/lib/python3.9/site-packages/numpy/lib/nanfunctions.py:1117: RuntimeWarning: Mean of empty slice\n",
      "  return np.nanmean(a, axis, out=out, keepdims=keepdims)\n",
      "/opt/conda/lib/python3.9/site-packages/numpy/lib/nanfunctions.py:1117: RuntimeWarning: Mean of empty slice\n",
      "  return np.nanmean(a, axis, out=out, keepdims=keepdims)\n",
      "/opt/conda/lib/python3.9/site-packages/numpy/lib/nanfunctions.py:1117: RuntimeWarning: Mean of empty slice\n",
      "  return np.nanmean(a, axis, out=out, keepdims=keepdims)\n",
      "/opt/conda/lib/python3.9/site-packages/numpy/lib/nanfunctions.py:1117: RuntimeWarning: Mean of empty slice\n",
      "  return np.nanmean(a, axis, out=out, keepdims=keepdims)\n",
      "/opt/conda/lib/python3.9/site-packages/numpy/lib/nanfunctions.py:1117: RuntimeWarning: Mean of empty slice\n",
      "  return np.nanmean(a, axis, out=out, keepdims=keepdims)\n",
      "/opt/conda/lib/python3.9/site-packages/numpy/lib/nanfunctions.py:1117: RuntimeWarning: Mean of empty slice\n",
      "  return np.nanmean(a, axis, out=out, keepdims=keepdims)\n",
      "/opt/conda/lib/python3.9/site-packages/numpy/lib/nanfunctions.py:1117: RuntimeWarning: Mean of empty slice\n",
      "  return np.nanmean(a, axis, out=out, keepdims=keepdims)\n",
      "/opt/conda/lib/python3.9/site-packages/numpy/lib/nanfunctions.py:1117: RuntimeWarning: Mean of empty slice\n",
      "  return np.nanmean(a, axis, out=out, keepdims=keepdims)\n",
      "/opt/conda/lib/python3.9/site-packages/numpy/lib/nanfunctions.py:1117: RuntimeWarning: Mean of empty slice\n",
      "  return np.nanmean(a, axis, out=out, keepdims=keepdims)\n",
      "/opt/conda/lib/python3.9/site-packages/numpy/lib/nanfunctions.py:1117: RuntimeWarning: Mean of empty slice\n",
      "  return np.nanmean(a, axis, out=out, keepdims=keepdims)\n",
      "/opt/conda/lib/python3.9/site-packages/numpy/lib/nanfunctions.py:1117: RuntimeWarning: Mean of empty slice\n",
      "  return np.nanmean(a, axis, out=out, keepdims=keepdims)\n",
      "/opt/conda/lib/python3.9/site-packages/numpy/lib/nanfunctions.py:1117: RuntimeWarning: Mean of empty slice\n",
      "  return np.nanmean(a, axis, out=out, keepdims=keepdims)\n",
      "/opt/conda/lib/python3.9/site-packages/numpy/lib/nanfunctions.py:1117: RuntimeWarning: Mean of empty slice\n",
      "  return np.nanmean(a, axis, out=out, keepdims=keepdims)\n",
      "/opt/conda/lib/python3.9/site-packages/numpy/lib/nanfunctions.py:1117: RuntimeWarning: Mean of empty slice\n",
      "  return np.nanmean(a, axis, out=out, keepdims=keepdims)\n",
      "/opt/conda/lib/python3.9/site-packages/numpy/lib/nanfunctions.py:1117: RuntimeWarning: Mean of empty slice\n",
      "  return np.nanmean(a, axis, out=out, keepdims=keepdims)\n",
      "/opt/conda/lib/python3.9/site-packages/numpy/lib/nanfunctions.py:1117: RuntimeWarning: Mean of empty slice\n",
      "  return np.nanmean(a, axis, out=out, keepdims=keepdims)\n",
      "/opt/conda/lib/python3.9/site-packages/numpy/lib/nanfunctions.py:1117: RuntimeWarning: Mean of empty slice\n",
      "  return np.nanmean(a, axis, out=out, keepdims=keepdims)\n",
      "/opt/conda/lib/python3.9/site-packages/numpy/lib/nanfunctions.py:1117: RuntimeWarning: Mean of empty slice\n",
      "  return np.nanmean(a, axis, out=out, keepdims=keepdims)\n",
      "/opt/conda/lib/python3.9/site-packages/numpy/lib/nanfunctions.py:1117: RuntimeWarning: Mean of empty slice\n",
      "  return np.nanmean(a, axis, out=out, keepdims=keepdims)\n",
      "/opt/conda/lib/python3.9/site-packages/numpy/lib/nanfunctions.py:1117: RuntimeWarning: Mean of empty slice\n",
      "  return np.nanmean(a, axis, out=out, keepdims=keepdims)\n",
      "/opt/conda/lib/python3.9/site-packages/numpy/lib/nanfunctions.py:1117: RuntimeWarning: Mean of empty slice\n",
      "  return np.nanmean(a, axis, out=out, keepdims=keepdims)\n",
      "/opt/conda/lib/python3.9/site-packages/numpy/lib/nanfunctions.py:1117: RuntimeWarning: Mean of empty slice\n",
      "  return np.nanmean(a, axis, out=out, keepdims=keepdims)\n",
      "/opt/conda/lib/python3.9/site-packages/numpy/lib/nanfunctions.py:1117: RuntimeWarning: Mean of empty slice\n",
      "  return np.nanmean(a, axis, out=out, keepdims=keepdims)\n",
      "/opt/conda/lib/python3.9/site-packages/numpy/lib/nanfunctions.py:1117: RuntimeWarning: Mean of empty slice\n",
      "  return np.nanmean(a, axis, out=out, keepdims=keepdims)\n",
      "/opt/conda/lib/python3.9/site-packages/numpy/lib/nanfunctions.py:1117: RuntimeWarning: Mean of empty slice\n",
      "  return np.nanmean(a, axis, out=out, keepdims=keepdims)\n",
      "/opt/conda/lib/python3.9/site-packages/numpy/lib/nanfunctions.py:1117: RuntimeWarning: Mean of empty slice\n",
      "  return np.nanmean(a, axis, out=out, keepdims=keepdims)\n",
      "/opt/conda/lib/python3.9/site-packages/numpy/lib/nanfunctions.py:1117: RuntimeWarning: Mean of empty slice\n",
      "  return np.nanmean(a, axis, out=out, keepdims=keepdims)\n",
      "/opt/conda/lib/python3.9/site-packages/numpy/lib/nanfunctions.py:1117: RuntimeWarning: Mean of empty slice\n",
      "  return np.nanmean(a, axis, out=out, keepdims=keepdims)\n",
      "/opt/conda/lib/python3.9/site-packages/numpy/lib/nanfunctions.py:1117: RuntimeWarning: Mean of empty slice\n",
      "  return np.nanmean(a, axis, out=out, keepdims=keepdims)\n",
      "/opt/conda/lib/python3.9/site-packages/numpy/lib/nanfunctions.py:1117: RuntimeWarning: Mean of empty slice\n",
      "  return np.nanmean(a, axis, out=out, keepdims=keepdims)\n",
      "/opt/conda/lib/python3.9/site-packages/numpy/lib/nanfunctions.py:1117: RuntimeWarning: Mean of empty slice\n",
      "  return np.nanmean(a, axis, out=out, keepdims=keepdims)\n",
      "/opt/conda/lib/python3.9/site-packages/numpy/lib/nanfunctions.py:1117: RuntimeWarning: Mean of empty slice\n",
      "  return np.nanmean(a, axis, out=out, keepdims=keepdims)\n",
      "/opt/conda/lib/python3.9/site-packages/numpy/lib/nanfunctions.py:1117: RuntimeWarning: Mean of empty slice\n",
      "  return np.nanmean(a, axis, out=out, keepdims=keepdims)\n",
      "/opt/conda/lib/python3.9/site-packages/numpy/lib/nanfunctions.py:1117: RuntimeWarning: Mean of empty slice\n",
      "  return np.nanmean(a, axis, out=out, keepdims=keepdims)\n",
      "/opt/conda/lib/python3.9/site-packages/numpy/lib/nanfunctions.py:1117: RuntimeWarning: Mean of empty slice\n",
      "  return np.nanmean(a, axis, out=out, keepdims=keepdims)\n",
      "/opt/conda/lib/python3.9/site-packages/numpy/lib/nanfunctions.py:1117: RuntimeWarning: Mean of empty slice\n",
      "  return np.nanmean(a, axis, out=out, keepdims=keepdims)\n",
      "/opt/conda/lib/python3.9/site-packages/numpy/lib/nanfunctions.py:1117: RuntimeWarning: Mean of empty slice\n",
      "  return np.nanmean(a, axis, out=out, keepdims=keepdims)\n",
      "/opt/conda/lib/python3.9/site-packages/numpy/lib/nanfunctions.py:1117: RuntimeWarning: Mean of empty slice\n",
      "  return np.nanmean(a, axis, out=out, keepdims=keepdims)\n",
      "/opt/conda/lib/python3.9/site-packages/numpy/lib/nanfunctions.py:1117: RuntimeWarning: Mean of empty slice\n",
      "  return np.nanmean(a, axis, out=out, keepdims=keepdims)\n",
      "/opt/conda/lib/python3.9/site-packages/numpy/lib/nanfunctions.py:1117: RuntimeWarning: Mean of empty slice\n",
      "  return np.nanmean(a, axis, out=out, keepdims=keepdims)\n",
      "/opt/conda/lib/python3.9/site-packages/numpy/lib/nanfunctions.py:1117: RuntimeWarning: Mean of empty slice\n",
      "  return np.nanmean(a, axis, out=out, keepdims=keepdims)\n",
      "/opt/conda/lib/python3.9/site-packages/numpy/lib/nanfunctions.py:1117: RuntimeWarning: Mean of empty slice\n",
      "  return np.nanmean(a, axis, out=out, keepdims=keepdims)\n",
      "/opt/conda/lib/python3.9/site-packages/numpy/lib/nanfunctions.py:1117: RuntimeWarning: Mean of empty slice\n",
      "  return np.nanmean(a, axis, out=out, keepdims=keepdims)\n",
      "/opt/conda/lib/python3.9/site-packages/numpy/lib/nanfunctions.py:1117: RuntimeWarning: Mean of empty slice\n",
      "  return np.nanmean(a, axis, out=out, keepdims=keepdims)\n",
      "/opt/conda/lib/python3.9/site-packages/numpy/lib/nanfunctions.py:1117: RuntimeWarning: Mean of empty slice\n",
      "  return np.nanmean(a, axis, out=out, keepdims=keepdims)\n",
      "/opt/conda/lib/python3.9/site-packages/numpy/lib/nanfunctions.py:1117: RuntimeWarning: Mean of empty slice\n",
      "  return np.nanmean(a, axis, out=out, keepdims=keepdims)\n",
      "/opt/conda/lib/python3.9/site-packages/numpy/lib/nanfunctions.py:1117: RuntimeWarning: Mean of empty slice\n",
      "  return np.nanmean(a, axis, out=out, keepdims=keepdims)\n",
      "/opt/conda/lib/python3.9/site-packages/numpy/lib/nanfunctions.py:1117: RuntimeWarning: Mean of empty slice\n",
      "  return np.nanmean(a, axis, out=out, keepdims=keepdims)\n",
      "/opt/conda/lib/python3.9/site-packages/numpy/lib/nanfunctions.py:1117: RuntimeWarning: Mean of empty slice\n",
      "  return np.nanmean(a, axis, out=out, keepdims=keepdims)\n",
      "/opt/conda/lib/python3.9/site-packages/numpy/lib/nanfunctions.py:1117: RuntimeWarning: Mean of empty slice\n",
      "  return np.nanmean(a, axis, out=out, keepdims=keepdims)\n",
      "/opt/conda/lib/python3.9/site-packages/numpy/lib/nanfunctions.py:1117: RuntimeWarning: Mean of empty slice\n",
      "  return np.nanmean(a, axis, out=out, keepdims=keepdims)\n",
      "/opt/conda/lib/python3.9/site-packages/numpy/lib/nanfunctions.py:1117: RuntimeWarning: Mean of empty slice\n",
      "  return np.nanmean(a, axis, out=out, keepdims=keepdims)\n",
      "/opt/conda/lib/python3.9/site-packages/numpy/lib/nanfunctions.py:1117: RuntimeWarning: Mean of empty slice\n",
      "  return np.nanmean(a, axis, out=out, keepdims=keepdims)\n",
      "/opt/conda/lib/python3.9/site-packages/numpy/lib/nanfunctions.py:1117: RuntimeWarning: Mean of empty slice\n",
      "  return np.nanmean(a, axis, out=out, keepdims=keepdims)\n",
      "/opt/conda/lib/python3.9/site-packages/numpy/lib/nanfunctions.py:1117: RuntimeWarning: Mean of empty slice\n",
      "  return np.nanmean(a, axis, out=out, keepdims=keepdims)\n",
      "/opt/conda/lib/python3.9/site-packages/numpy/lib/nanfunctions.py:1117: RuntimeWarning: Mean of empty slice\n",
      "  return np.nanmean(a, axis, out=out, keepdims=keepdims)\n",
      "/opt/conda/lib/python3.9/site-packages/numpy/lib/nanfunctions.py:1117: RuntimeWarning: Mean of empty slice\n",
      "  return np.nanmean(a, axis, out=out, keepdims=keepdims)\n",
      "/opt/conda/lib/python3.9/site-packages/numpy/lib/nanfunctions.py:1117: RuntimeWarning: Mean of empty slice\n",
      "  return np.nanmean(a, axis, out=out, keepdims=keepdims)\n",
      "/opt/conda/lib/python3.9/site-packages/numpy/lib/nanfunctions.py:1117: RuntimeWarning: Mean of empty slice\n",
      "  return np.nanmean(a, axis, out=out, keepdims=keepdims)\n",
      "/opt/conda/lib/python3.9/site-packages/numpy/lib/nanfunctions.py:1117: RuntimeWarning: Mean of empty slice\n",
      "  return np.nanmean(a, axis, out=out, keepdims=keepdims)\n",
      "/opt/conda/lib/python3.9/site-packages/numpy/lib/nanfunctions.py:1117: RuntimeWarning: Mean of empty slice\n",
      "  return np.nanmean(a, axis, out=out, keepdims=keepdims)\n",
      "/opt/conda/lib/python3.9/site-packages/numpy/lib/nanfunctions.py:1117: RuntimeWarning: Mean of empty slice\n",
      "  return np.nanmean(a, axis, out=out, keepdims=keepdims)\n",
      "/opt/conda/lib/python3.9/site-packages/numpy/lib/nanfunctions.py:1117: RuntimeWarning: Mean of empty slice\n",
      "  return np.nanmean(a, axis, out=out, keepdims=keepdims)\n",
      "/opt/conda/lib/python3.9/site-packages/numpy/lib/nanfunctions.py:1117: RuntimeWarning: Mean of empty slice\n",
      "  return np.nanmean(a, axis, out=out, keepdims=keepdims)\n",
      "/opt/conda/lib/python3.9/site-packages/numpy/lib/nanfunctions.py:1117: RuntimeWarning: Mean of empty slice\n",
      "  return np.nanmean(a, axis, out=out, keepdims=keepdims)\n",
      "/opt/conda/lib/python3.9/site-packages/numpy/lib/nanfunctions.py:1117: RuntimeWarning: Mean of empty slice\n",
      "  return np.nanmean(a, axis, out=out, keepdims=keepdims)\n",
      "/opt/conda/lib/python3.9/site-packages/numpy/lib/nanfunctions.py:1117: RuntimeWarning: Mean of empty slice\n",
      "  return np.nanmean(a, axis, out=out, keepdims=keepdims)\n",
      "/opt/conda/lib/python3.9/site-packages/numpy/lib/nanfunctions.py:1117: RuntimeWarning: Mean of empty slice\n",
      "  return np.nanmean(a, axis, out=out, keepdims=keepdims)\n",
      "/opt/conda/lib/python3.9/site-packages/numpy/lib/nanfunctions.py:1117: RuntimeWarning: Mean of empty slice\n",
      "  return np.nanmean(a, axis, out=out, keepdims=keepdims)\n",
      "/opt/conda/lib/python3.9/site-packages/numpy/lib/nanfunctions.py:1117: RuntimeWarning: Mean of empty slice\n",
      "  return np.nanmean(a, axis, out=out, keepdims=keepdims)\n",
      "/opt/conda/lib/python3.9/site-packages/numpy/lib/nanfunctions.py:1117: RuntimeWarning: Mean of empty slice\n",
      "  return np.nanmean(a, axis, out=out, keepdims=keepdims)\n",
      "/opt/conda/lib/python3.9/site-packages/numpy/lib/nanfunctions.py:1117: RuntimeWarning: Mean of empty slice\n",
      "  return np.nanmean(a, axis, out=out, keepdims=keepdims)\n",
      "/opt/conda/lib/python3.9/site-packages/numpy/lib/nanfunctions.py:1117: RuntimeWarning: Mean of empty slice\n",
      "  return np.nanmean(a, axis, out=out, keepdims=keepdims)\n",
      "/opt/conda/lib/python3.9/site-packages/numpy/lib/nanfunctions.py:1117: RuntimeWarning: Mean of empty slice\n",
      "  return np.nanmean(a, axis, out=out, keepdims=keepdims)\n",
      "/opt/conda/lib/python3.9/site-packages/numpy/lib/nanfunctions.py:1117: RuntimeWarning: Mean of empty slice\n",
      "  return np.nanmean(a, axis, out=out, keepdims=keepdims)\n",
      "/opt/conda/lib/python3.9/site-packages/numpy/lib/nanfunctions.py:1117: RuntimeWarning: Mean of empty slice\n",
      "  return np.nanmean(a, axis, out=out, keepdims=keepdims)\n",
      "/opt/conda/lib/python3.9/site-packages/numpy/lib/nanfunctions.py:1117: RuntimeWarning: Mean of empty slice\n",
      "  return np.nanmean(a, axis, out=out, keepdims=keepdims)\n",
      "/opt/conda/lib/python3.9/site-packages/numpy/lib/nanfunctions.py:1117: RuntimeWarning: Mean of empty slice\n",
      "  return np.nanmean(a, axis, out=out, keepdims=keepdims)\n",
      "/opt/conda/lib/python3.9/site-packages/numpy/lib/nanfunctions.py:1117: RuntimeWarning: Mean of empty slice\n",
      "  return np.nanmean(a, axis, out=out, keepdims=keepdims)\n",
      "/opt/conda/lib/python3.9/site-packages/numpy/lib/nanfunctions.py:1117: RuntimeWarning: Mean of empty slice\n",
      "  return np.nanmean(a, axis, out=out, keepdims=keepdims)\n",
      "/opt/conda/lib/python3.9/site-packages/numpy/lib/nanfunctions.py:1117: RuntimeWarning: Mean of empty slice\n",
      "  return np.nanmean(a, axis, out=out, keepdims=keepdims)\n",
      "/opt/conda/lib/python3.9/site-packages/numpy/lib/nanfunctions.py:1117: RuntimeWarning: Mean of empty slice\n",
      "  return np.nanmean(a, axis, out=out, keepdims=keepdims)\n",
      "/opt/conda/lib/python3.9/site-packages/numpy/lib/nanfunctions.py:1117: RuntimeWarning: Mean of empty slice\n",
      "  return np.nanmean(a, axis, out=out, keepdims=keepdims)\n",
      "/opt/conda/lib/python3.9/site-packages/numpy/lib/nanfunctions.py:1117: RuntimeWarning: Mean of empty slice\n",
      "  return np.nanmean(a, axis, out=out, keepdims=keepdims)\n",
      "/opt/conda/lib/python3.9/site-packages/numpy/lib/nanfunctions.py:1117: RuntimeWarning: Mean of empty slice\n",
      "  return np.nanmean(a, axis, out=out, keepdims=keepdims)\n",
      "/opt/conda/lib/python3.9/site-packages/numpy/lib/nanfunctions.py:1117: RuntimeWarning: Mean of empty slice\n",
      "  return np.nanmean(a, axis, out=out, keepdims=keepdims)\n",
      "/opt/conda/lib/python3.9/site-packages/numpy/lib/nanfunctions.py:1117: RuntimeWarning: Mean of empty slice\n",
      "  return np.nanmean(a, axis, out=out, keepdims=keepdims)\n",
      "/opt/conda/lib/python3.9/site-packages/numpy/lib/nanfunctions.py:1117: RuntimeWarning: Mean of empty slice\n",
      "  return np.nanmean(a, axis, out=out, keepdims=keepdims)\n",
      "/opt/conda/lib/python3.9/site-packages/numpy/lib/nanfunctions.py:1117: RuntimeWarning: Mean of empty slice\n",
      "  return np.nanmean(a, axis, out=out, keepdims=keepdims)\n",
      "/opt/conda/lib/python3.9/site-packages/numpy/lib/nanfunctions.py:1117: RuntimeWarning: Mean of empty slice\n",
      "  return np.nanmean(a, axis, out=out, keepdims=keepdims)\n",
      "/opt/conda/lib/python3.9/site-packages/numpy/lib/nanfunctions.py:1117: RuntimeWarning: Mean of empty slice\n",
      "  return np.nanmean(a, axis, out=out, keepdims=keepdims)\n",
      "/opt/conda/lib/python3.9/site-packages/numpy/lib/nanfunctions.py:1117: RuntimeWarning: Mean of empty slice\n",
      "  return np.nanmean(a, axis, out=out, keepdims=keepdims)\n",
      "/opt/conda/lib/python3.9/site-packages/numpy/lib/nanfunctions.py:1117: RuntimeWarning: Mean of empty slice\n",
      "  return np.nanmean(a, axis, out=out, keepdims=keepdims)\n",
      "/opt/conda/lib/python3.9/site-packages/numpy/lib/nanfunctions.py:1117: RuntimeWarning: Mean of empty slice\n",
      "  return np.nanmean(a, axis, out=out, keepdims=keepdims)\n",
      "/opt/conda/lib/python3.9/site-packages/numpy/lib/nanfunctions.py:1117: RuntimeWarning: Mean of empty slice\n",
      "  return np.nanmean(a, axis, out=out, keepdims=keepdims)\n",
      "/opt/conda/lib/python3.9/site-packages/numpy/lib/nanfunctions.py:1117: RuntimeWarning: Mean of empty slice\n",
      "  return np.nanmean(a, axis, out=out, keepdims=keepdims)\n",
      "/opt/conda/lib/python3.9/site-packages/numpy/lib/nanfunctions.py:1117: RuntimeWarning: Mean of empty slice\n",
      "  return np.nanmean(a, axis, out=out, keepdims=keepdims)\n",
      "/opt/conda/lib/python3.9/site-packages/numpy/lib/nanfunctions.py:1117: RuntimeWarning: Mean of empty slice\n",
      "  return np.nanmean(a, axis, out=out, keepdims=keepdims)\n",
      "/opt/conda/lib/python3.9/site-packages/numpy/lib/nanfunctions.py:1117: RuntimeWarning: Mean of empty slice\n",
      "  return np.nanmean(a, axis, out=out, keepdims=keepdims)\n",
      "/opt/conda/lib/python3.9/site-packages/numpy/lib/nanfunctions.py:1117: RuntimeWarning: Mean of empty slice\n",
      "  return np.nanmean(a, axis, out=out, keepdims=keepdims)\n",
      "/opt/conda/lib/python3.9/site-packages/numpy/lib/nanfunctions.py:1117: RuntimeWarning: Mean of empty slice\n",
      "  return np.nanmean(a, axis, out=out, keepdims=keepdims)\n",
      "/opt/conda/lib/python3.9/site-packages/numpy/lib/nanfunctions.py:1117: RuntimeWarning: Mean of empty slice\n",
      "  return np.nanmean(a, axis, out=out, keepdims=keepdims)\n",
      "/opt/conda/lib/python3.9/site-packages/numpy/lib/nanfunctions.py:1117: RuntimeWarning: Mean of empty slice\n",
      "  return np.nanmean(a, axis, out=out, keepdims=keepdims)\n",
      "/opt/conda/lib/python3.9/site-packages/numpy/lib/nanfunctions.py:1117: RuntimeWarning: Mean of empty slice\n",
      "  return np.nanmean(a, axis, out=out, keepdims=keepdims)\n",
      "/opt/conda/lib/python3.9/site-packages/numpy/lib/nanfunctions.py:1117: RuntimeWarning: Mean of empty slice\n",
      "  return np.nanmean(a, axis, out=out, keepdims=keepdims)\n",
      "/opt/conda/lib/python3.9/site-packages/numpy/lib/nanfunctions.py:1117: RuntimeWarning: Mean of empty slice\n",
      "  return np.nanmean(a, axis, out=out, keepdims=keepdims)\n",
      "/opt/conda/lib/python3.9/site-packages/numpy/lib/nanfunctions.py:1117: RuntimeWarning: Mean of empty slice\n",
      "  return np.nanmean(a, axis, out=out, keepdims=keepdims)\n",
      "/opt/conda/lib/python3.9/site-packages/numpy/lib/nanfunctions.py:1117: RuntimeWarning: Mean of empty slice\n",
      "  return np.nanmean(a, axis, out=out, keepdims=keepdims)\n",
      "/opt/conda/lib/python3.9/site-packages/numpy/lib/nanfunctions.py:1117: RuntimeWarning: Mean of empty slice\n",
      "  return np.nanmean(a, axis, out=out, keepdims=keepdims)\n",
      "/opt/conda/lib/python3.9/site-packages/numpy/lib/nanfunctions.py:1117: RuntimeWarning: Mean of empty slice\n",
      "  return np.nanmean(a, axis, out=out, keepdims=keepdims)\n",
      "/opt/conda/lib/python3.9/site-packages/numpy/lib/nanfunctions.py:1117: RuntimeWarning: Mean of empty slice\n",
      "  return np.nanmean(a, axis, out=out, keepdims=keepdims)\n",
      "/opt/conda/lib/python3.9/site-packages/numpy/lib/nanfunctions.py:1117: RuntimeWarning: Mean of empty slice\n",
      "  return np.nanmean(a, axis, out=out, keepdims=keepdims)\n",
      "/opt/conda/lib/python3.9/site-packages/numpy/lib/nanfunctions.py:1117: RuntimeWarning: Mean of empty slice\n",
      "  return np.nanmean(a, axis, out=out, keepdims=keepdims)\n",
      "/opt/conda/lib/python3.9/site-packages/numpy/lib/nanfunctions.py:1117: RuntimeWarning: Mean of empty slice\n",
      "  return np.nanmean(a, axis, out=out, keepdims=keepdims)\n",
      "/opt/conda/lib/python3.9/site-packages/numpy/lib/nanfunctions.py:1117: RuntimeWarning: Mean of empty slice\n",
      "  return np.nanmean(a, axis, out=out, keepdims=keepdims)\n",
      "/opt/conda/lib/python3.9/site-packages/numpy/lib/nanfunctions.py:1117: RuntimeWarning: Mean of empty slice\n",
      "  return np.nanmean(a, axis, out=out, keepdims=keepdims)\n",
      "/opt/conda/lib/python3.9/site-packages/numpy/lib/nanfunctions.py:1117: RuntimeWarning: Mean of empty slice\n",
      "  return np.nanmean(a, axis, out=out, keepdims=keepdims)\n",
      "/opt/conda/lib/python3.9/site-packages/numpy/lib/nanfunctions.py:1117: RuntimeWarning: Mean of empty slice\n",
      "  return np.nanmean(a, axis, out=out, keepdims=keepdims)\n",
      "/opt/conda/lib/python3.9/site-packages/numpy/lib/nanfunctions.py:1117: RuntimeWarning: Mean of empty slice\n",
      "  return np.nanmean(a, axis, out=out, keepdims=keepdims)\n",
      "/opt/conda/lib/python3.9/site-packages/numpy/lib/nanfunctions.py:1117: RuntimeWarning: Mean of empty slice\n",
      "  return np.nanmean(a, axis, out=out, keepdims=keepdims)\n",
      "/opt/conda/lib/python3.9/site-packages/numpy/lib/nanfunctions.py:1117: RuntimeWarning: Mean of empty slice\n",
      "  return np.nanmean(a, axis, out=out, keepdims=keepdims)\n",
      "/opt/conda/lib/python3.9/site-packages/numpy/lib/nanfunctions.py:1117: RuntimeWarning: Mean of empty slice\n",
      "  return np.nanmean(a, axis, out=out, keepdims=keepdims)\n",
      "/opt/conda/lib/python3.9/site-packages/numpy/lib/nanfunctions.py:1117: RuntimeWarning: Mean of empty slice\n",
      "  return np.nanmean(a, axis, out=out, keepdims=keepdims)\n",
      "/opt/conda/lib/python3.9/site-packages/numpy/lib/nanfunctions.py:1117: RuntimeWarning: Mean of empty slice\n",
      "  return np.nanmean(a, axis, out=out, keepdims=keepdims)\n",
      "/opt/conda/lib/python3.9/site-packages/numpy/lib/nanfunctions.py:1117: RuntimeWarning: Mean of empty slice\n",
      "  return np.nanmean(a, axis, out=out, keepdims=keepdims)\n",
      "/opt/conda/lib/python3.9/site-packages/numpy/lib/nanfunctions.py:1117: RuntimeWarning: Mean of empty slice\n",
      "  return np.nanmean(a, axis, out=out, keepdims=keepdims)\n",
      "/opt/conda/lib/python3.9/site-packages/numpy/lib/nanfunctions.py:1117: RuntimeWarning: Mean of empty slice\n",
      "  return np.nanmean(a, axis, out=out, keepdims=keepdims)\n",
      "/opt/conda/lib/python3.9/site-packages/numpy/lib/nanfunctions.py:1117: RuntimeWarning: Mean of empty slice\n",
      "  return np.nanmean(a, axis, out=out, keepdims=keepdims)\n",
      "/opt/conda/lib/python3.9/site-packages/numpy/lib/nanfunctions.py:1117: RuntimeWarning: Mean of empty slice\n",
      "  return np.nanmean(a, axis, out=out, keepdims=keepdims)\n",
      "/opt/conda/lib/python3.9/site-packages/numpy/lib/nanfunctions.py:1117: RuntimeWarning: Mean of empty slice\n",
      "  return np.nanmean(a, axis, out=out, keepdims=keepdims)\n",
      "/opt/conda/lib/python3.9/site-packages/numpy/lib/nanfunctions.py:1117: RuntimeWarning: Mean of empty slice\n",
      "  return np.nanmean(a, axis, out=out, keepdims=keepdims)\n",
      "/opt/conda/lib/python3.9/site-packages/numpy/lib/nanfunctions.py:1117: RuntimeWarning: Mean of empty slice\n",
      "  return np.nanmean(a, axis, out=out, keepdims=keepdims)\n",
      "/opt/conda/lib/python3.9/site-packages/numpy/lib/nanfunctions.py:1117: RuntimeWarning: Mean of empty slice\n",
      "  return np.nanmean(a, axis, out=out, keepdims=keepdims)\n",
      "/opt/conda/lib/python3.9/site-packages/numpy/lib/nanfunctions.py:1117: RuntimeWarning: Mean of empty slice\n",
      "  return np.nanmean(a, axis, out=out, keepdims=keepdims)\n",
      "/opt/conda/lib/python3.9/site-packages/numpy/lib/nanfunctions.py:1117: RuntimeWarning: Mean of empty slice\n",
      "  return np.nanmean(a, axis, out=out, keepdims=keepdims)\n",
      "/opt/conda/lib/python3.9/site-packages/numpy/lib/nanfunctions.py:1117: RuntimeWarning: Mean of empty slice\n",
      "  return np.nanmean(a, axis, out=out, keepdims=keepdims)\n",
      "/opt/conda/lib/python3.9/site-packages/numpy/lib/nanfunctions.py:1117: RuntimeWarning: Mean of empty slice\n",
      "  return np.nanmean(a, axis, out=out, keepdims=keepdims)\n",
      "/opt/conda/lib/python3.9/site-packages/numpy/lib/nanfunctions.py:1117: RuntimeWarning: Mean of empty slice\n",
      "  return np.nanmean(a, axis, out=out, keepdims=keepdims)\n",
      "/opt/conda/lib/python3.9/site-packages/numpy/lib/nanfunctions.py:1117: RuntimeWarning: Mean of empty slice\n",
      "  return np.nanmean(a, axis, out=out, keepdims=keepdims)\n",
      "/opt/conda/lib/python3.9/site-packages/numpy/lib/nanfunctions.py:1117: RuntimeWarning: Mean of empty slice\n",
      "  return np.nanmean(a, axis, out=out, keepdims=keepdims)\n",
      "/opt/conda/lib/python3.9/site-packages/numpy/lib/nanfunctions.py:1117: RuntimeWarning: Mean of empty slice\n",
      "  return np.nanmean(a, axis, out=out, keepdims=keepdims)\n",
      "/opt/conda/lib/python3.9/site-packages/numpy/lib/nanfunctions.py:1117: RuntimeWarning: Mean of empty slice\n",
      "  return np.nanmean(a, axis, out=out, keepdims=keepdims)\n",
      "/opt/conda/lib/python3.9/site-packages/numpy/lib/nanfunctions.py:1117: RuntimeWarning: Mean of empty slice\n",
      "  return np.nanmean(a, axis, out=out, keepdims=keepdims)\n",
      "/opt/conda/lib/python3.9/site-packages/numpy/lib/nanfunctions.py:1117: RuntimeWarning: Mean of empty slice\n",
      "  return np.nanmean(a, axis, out=out, keepdims=keepdims)\n",
      "/opt/conda/lib/python3.9/site-packages/numpy/lib/nanfunctions.py:1117: RuntimeWarning: Mean of empty slice\n",
      "  return np.nanmean(a, axis, out=out, keepdims=keepdims)\n",
      "/opt/conda/lib/python3.9/site-packages/numpy/lib/nanfunctions.py:1117: RuntimeWarning: Mean of empty slice\n",
      "  return np.nanmean(a, axis, out=out, keepdims=keepdims)\n",
      "/opt/conda/lib/python3.9/site-packages/numpy/lib/nanfunctions.py:1117: RuntimeWarning: Mean of empty slice\n",
      "  return np.nanmean(a, axis, out=out, keepdims=keepdims)\n",
      "/opt/conda/lib/python3.9/site-packages/numpy/lib/nanfunctions.py:1117: RuntimeWarning: Mean of empty slice\n",
      "  return np.nanmean(a, axis, out=out, keepdims=keepdims)\n",
      "/opt/conda/lib/python3.9/site-packages/numpy/lib/nanfunctions.py:1117: RuntimeWarning: Mean of empty slice\n",
      "  return np.nanmean(a, axis, out=out, keepdims=keepdims)\n",
      "/opt/conda/lib/python3.9/site-packages/numpy/lib/nanfunctions.py:1117: RuntimeWarning: Mean of empty slice\n",
      "  return np.nanmean(a, axis, out=out, keepdims=keepdims)\n",
      "/opt/conda/lib/python3.9/site-packages/numpy/lib/nanfunctions.py:1117: RuntimeWarning: Mean of empty slice\n",
      "  return np.nanmean(a, axis, out=out, keepdims=keepdims)\n",
      "/opt/conda/lib/python3.9/site-packages/numpy/lib/nanfunctions.py:1117: RuntimeWarning: Mean of empty slice\n",
      "  return np.nanmean(a, axis, out=out, keepdims=keepdims)\n",
      "/opt/conda/lib/python3.9/site-packages/numpy/lib/nanfunctions.py:1117: RuntimeWarning: Mean of empty slice\n",
      "  return np.nanmean(a, axis, out=out, keepdims=keepdims)\n",
      "/opt/conda/lib/python3.9/site-packages/numpy/lib/nanfunctions.py:1117: RuntimeWarning: Mean of empty slice\n",
      "  return np.nanmean(a, axis, out=out, keepdims=keepdims)\n",
      "/opt/conda/lib/python3.9/site-packages/numpy/lib/nanfunctions.py:1117: RuntimeWarning: Mean of empty slice\n",
      "  return np.nanmean(a, axis, out=out, keepdims=keepdims)\n",
      "/opt/conda/lib/python3.9/site-packages/numpy/lib/nanfunctions.py:1117: RuntimeWarning: Mean of empty slice\n",
      "  return np.nanmean(a, axis, out=out, keepdims=keepdims)\n",
      "/opt/conda/lib/python3.9/site-packages/numpy/lib/nanfunctions.py:1117: RuntimeWarning: Mean of empty slice\n",
      "  return np.nanmean(a, axis, out=out, keepdims=keepdims)\n",
      "/opt/conda/lib/python3.9/site-packages/numpy/lib/nanfunctions.py:1117: RuntimeWarning: Mean of empty slice\n",
      "  return np.nanmean(a, axis, out=out, keepdims=keepdims)\n"
     ]
    }
   ],
   "source": [
    "# Удаление записей, где отсутствуют локация и этажи\n",
    "data.dropna(subset=['locality_name'], inplace=True)\n",
    "data.dropna(subset=['floors_total'], inplace=True)\n",
    "\n",
    "# Заполнение высоты потолков медианным значением\n",
    "data['ceiling_height'] = data.groupby(['locality_name', 'floors_total'])['ceiling_height'].apply(lambda x: x.fillna(x.median()))\n",
    "data['ceiling_height'].fillna(data['ceiling_height'].median(), inplace=True)\n",
    "\n",
    "# Заполнение высоты потолков медианным значением\n",
    "#ceiling_height_median = data.groupby(['floors_total'])['ceiling_height'].transform('median')\n",
    "#data['ceiling_height'].fillna(ceiling_height_median, inplace=True)\n",
    "\n",
    "# Почему при обработке через transform остается один пропуск в ceiling heught?\n",
    "\n",
    "\n",
    "# Заменяем пропущеные значения в days_exposition на среднее значение\n",
    "data['days_exposition'] = data.groupby('locality_name')['days_exposition'].apply(lambda x: x.fillna(x.mean()))\n",
    "data['days_exposition'].fillna(data['days_exposition'].mean(), inplace=True)\n",
    "\n"
   ]
  },
  {
   "cell_type": "code",
   "execution_count": 9,
   "metadata": {},
   "outputs": [],
   "source": [
    "# Заменяем пустые значения жилой площади и площади кухни\n",
    "living_ratio = data['living_area'].mean() / data['total_area'].mean()\n",
    "kitchen_ratio = data['kitchen_area'].mean() / data['total_area'].mean()\n",
    "data['living_area'].fillna(living_ratio * data['total_area'], inplace=True)\n",
    "data['kitchen_area'].fillna(kitchen_ratio * data['total_area'], inplace=True)"
   ]
  },
  {
   "cell_type": "code",
   "execution_count": 10,
   "metadata": {},
   "outputs": [
    {
     "data": {
      "text/plain": [
       "total_images                0\n",
       "last_price                  0\n",
       "total_area                  0\n",
       "first_day_exposition        0\n",
       "rooms                       0\n",
       "ceiling_height              0\n",
       "floors_total                0\n",
       "living_area                 0\n",
       "floor                       0\n",
       "is_apartment                0\n",
       "studio                      0\n",
       "open_plan                   0\n",
       "kitchen_area                0\n",
       "balcony                     0\n",
       "locality_name               0\n",
       "airports_nearest         5524\n",
       "cityCenters_nearest      5501\n",
       "parks_around3000            0\n",
       "parks_nearest           15535\n",
       "ponds_around3000            0\n",
       "ponds_nearest           14529\n",
       "days_exposition             0\n",
       "dtype: int64"
      ]
     },
     "execution_count": 10,
     "metadata": {},
     "output_type": "execute_result"
    }
   ],
   "source": [
    "data.isnull().sum()"
   ]
  },
  {
   "cell_type": "markdown",
   "metadata": {},
   "source": [
    "Возможными причинами неполноты данных могут быть: ошибки и изменения на площадках-источниках данных, сбои и ошибки в работе инструментов, осуществляющих сбор данных, и т.д."
   ]
  },
  {
   "cell_type": "code",
   "execution_count": 11,
   "metadata": {},
   "outputs": [],
   "source": [
    "# 2. Изменение типа данных\n",
    "\n",
    "data['balcony']=data['balcony'].astype('int')\n",
    "data['parks_around3000'] = data['parks_around3000'].astype('int')\n",
    "data['ponds_around3000'] = data['ponds_around3000'].astype('int')\n",
    "data['floors_total'] = data['floors_total'].astype('int')\n",
    "data['is_apartment'] = data['is_apartment'].astype('bool')\n",
    "data['last_price'] = data['last_price'].astype('int')\n"
   ]
  },
  {
   "cell_type": "markdown",
   "metadata": {},
   "source": [
    "Мы изменяем тип данных на int, потому что он быстрее в арифметический вычислениях и позволяет нам сравнивать данные(что невозможно в float из-за процессии). + в данном датафрейме есть много мест, где плавающая точка просто не нужна."
   ]
  },
  {
   "cell_type": "code",
   "execution_count": 12,
   "metadata": {},
   "outputs": [
    {
     "data": {
      "text/plain": [
       "0"
      ]
     },
     "execution_count": 12,
     "metadata": {},
     "output_type": "execute_result"
    }
   ],
   "source": [
    "# 3. Удаление дубликатов\n",
    "\n",
    "data.duplicated().sum()\n",
    "\n",
    "# Явных дубликатов нету"
   ]
  },
  {
   "cell_type": "code",
   "execution_count": 13,
   "metadata": {},
   "outputs": [
    {
     "name": "stdout",
     "output_type": "stream",
     "text": [
      "['Санкт-Петербург' 'Шушары' 'Янино-1' 'Парголово' 'Мурино' 'Ломоносов'\n",
      " 'Сертолово' 'Петергоф' 'Пушкин' 'Кудрово' 'Коммунар' 'Колпино'\n",
      " 'Красный Бор' 'Гатчина' 'Фёдоровское' 'Выборг' 'Кронштадт' 'Кировск'\n",
      " 'Новое Девяткино' 'Металлострой' 'Лебяжье' 'Сиверский' 'Молодцово'\n",
      " 'Кузьмоловский' 'товарищество Новая Ропша' 'Павловск' 'Пикколово'\n",
      " 'Всеволожск' 'Волхов' 'Кингисепп' 'Приозерск' 'Сестрорецк' 'Куттузи'\n",
      " 'Аннино' 'Ефимовский' 'Плодовое' 'Заклинье' 'Торковичи' 'Первомайское'\n",
      " 'Красное Село' 'Понтонный' 'Сясьстрой' 'Старая' 'Лесколово' 'Новый Свет'\n",
      " 'Сланцы' 'Путилово' 'Ивангород' 'Шлиссельбург' 'Никольское' 'Зеленогорск'\n",
      " 'Сосновый Бор' 'Оржицы' 'Кальтино' 'Романовка' 'Бугры' 'Рощино' 'Кириши'\n",
      " 'Луга' 'Волосово' 'Отрадное' 'Павлово' 'Оредеж' 'Копорье' 'Молодёжное'\n",
      " 'Тихвин' 'Победа' 'Нурма' 'Синявино' 'Тосно' 'Стрельна' 'Бокситогорск'\n",
      " 'Александровская' 'Лопухинка' 'Пикалёво' 'Терволово' 'Советский'\n",
      " 'Подпорожье' 'Петровское' 'Токсово' 'Сельцо' 'Вырица' 'Кипень' 'Келози'\n",
      " 'Вартемяги' 'Тельмана' 'Севастьяново' 'Большая Ижора' 'Агалатово'\n",
      " 'Новогорелово' 'Лесогорский' 'Лаголово' 'Цвелодубово' 'Рахья' 'Белогорка'\n",
      " 'Заводской' 'Новоселье' 'Большие Колпаны' 'Горбунки' 'Батово' 'Заневка'\n",
      " 'Иссад' 'Приморск' 'Мистолово' 'Новая Ладога' 'Зимитицы' 'Барышево'\n",
      " 'Разметелево' 'имени Свердлова' 'Пеники' 'Рябово' 'Пудомяги' 'Корнево'\n",
      " 'Низино' 'Бегуницы' 'Поляны' 'Мга' 'Елизаветино' 'Кузнечное' 'Колтуши'\n",
      " 'Запорожское' 'Гостилицы' 'Малое Карлино' 'Мичуринское' 'имени Морозова'\n",
      " 'Песочный' 'Сосново' 'Аро' 'Ильичёво' 'Тайцы' 'Малое Верево' 'Извара'\n",
      " 'Вещево' 'Паша' 'Калитино' 'Ульяновка' 'Чудской Бор' 'Дубровка' 'Мины'\n",
      " 'Войсковицы' 'Коркино' 'Ропша' 'Приладожский' 'Щеглово' 'Гаврилово'\n",
      " 'Лодейное Поле' 'Рабитицы' 'Никольский' 'Кузьмолово' 'Малые Колпаны'\n",
      " 'Петро-Славянка' 'Назия' 'Репино' 'Углово' 'Старая Малукса'\n",
      " 'товарищество Рахья' 'Меньково' 'Старые Бегуницы' 'Сапёрный' 'Семрино'\n",
      " 'Глажево' 'Кобринское' 'Гарболово' 'Юкки' 'Приветнинское' 'Мануйлово'\n",
      " 'Пчева' 'Цвылёво' 'Мельниково' 'Пудость' 'Усть-Луга' 'Светогорск'\n",
      " 'Любань' 'Селезнёво' 'Каменногорск' 'Кривко' 'Глебычево' 'Парицы' 'Жил'\n",
      " 'Войскорово' 'Стеклянный' 'Важины' 'Мыза-Ивановка' 'Русско-Высоцкое'\n",
      " 'Форносово' 'Старая Ладога' 'Житково' 'Виллози' 'Лампово' 'Шпаньково'\n",
      " 'Лаврики' 'Сумино' 'Возрождение' 'Старосиверская' 'Кикерино'\n",
      " 'Старое Хинколово' 'Пригородный' 'Торфяное' 'Будогощь' 'Суходолье'\n",
      " 'Красная Долина' 'Хапо-Ое' 'Дружная Горка' 'Лисий Нос' 'Яльгелево'\n",
      " 'Рождествено' 'Старополье' 'Левашово' 'Сяськелево' 'Камышовка'\n",
      " 'садоводческое некоммерческое товарищество Лесная Поляна' 'Хязельки'\n",
      " 'Жилгородок' 'Ялгино' 'Новый Учхоз' 'Гончарово' 'Почап' 'Сапёрное'\n",
      " 'Платформа 69-й километр' 'Каложицы' 'Фалилеево' 'Пельгора' 'Торошковичи'\n",
      " 'Белоостров' 'Алексеевка' 'Серебрянский' 'Лукаши' 'Тарасово'\n",
      " 'Кингисеппский' 'Ушаки' 'Котлы' 'Сижно' 'Торосово' 'Форт Красная Горка'\n",
      " 'Новолисино' 'Громово' 'Глинка' 'Старая Пустошь' 'Коммунары' 'Починок'\n",
      " 'Вознесенье' 'Разбегаево' 'Гладкое' 'Тёсово-4' 'Бор' 'Коробицыно'\n",
      " 'Большая Вруда' 'Курковицы' 'Кобралово' 'Суоранда' 'Кондратьево'\n",
      " 'коттеджный  Счастье' 'Реброво' 'Тойворово' 'Семиозерье' 'Лесное'\n",
      " 'Совхозный' 'Ленинское' 'Суйда' 'Нижние Осельки' 'Свирь' 'Перово'\n",
      " 'Высоцк' 'Шум' 'Котельский' 'Лужайка' 'Большая Пустомержа'\n",
      " 'Красносельское' 'Вахнова Кара' 'Пижма' 'коттеджный  Кивеннапа Север'\n",
      " 'Ромашки' 'Каськово' 'Куровицы' 'Плоское' 'Кирпичное' 'Ям-Тесово'\n",
      " 'Раздолье' 'Терпилицы' 'Шугозеро' 'Ваганово' 'Пушное'\n",
      " 'товарищество Садко' 'Усть-Ижора' 'Выскатка' 'Свирьстрой' 'Кисельня'\n",
      " 'Трубников Бор' 'Высокоключевой' 'товарищество Приладожский'\n",
      " 'Пансионат Зелёный Бор' 'Ненимяки' 'Снегирёвка' 'Рапполово' 'Пустынка'\n",
      " 'Большой Сабск' 'Русско' 'Лупполово' 'Большое Рейзино' 'Малая Романовка'\n",
      " 'Дружноселье' 'Пчевжа' 'Володарское' 'Нижняя' 'коттеджный  Лесное'\n",
      " 'Тихковицы' 'Борисова Грива' 'Дзержинского']\n"
     ]
    },
    {
     "data": {
      "text/plain": [
       "308"
      ]
     },
     "execution_count": 13,
     "metadata": {},
     "output_type": "execute_result"
    }
   ],
   "source": [
    "# Обработка неявных дубликатов в названии населённых пунктов\n",
    "\n",
    "n = ['деревня', 'поселок', 'посёлок', 'городского типа', 'городской', 'село', 'при железнодорожной', 'станции', 'садовое', 'садоводческое некоммерческое' 'товарищество']\n",
    "for elem in n:\n",
    "    data['locality_name'] = data['locality_name'].str.replace(elem, '').str.strip()\n",
    "print(data['locality_name'].unique())\n",
    "len(data['locality_name'].unique())"
   ]
  },
  {
   "cell_type": "markdown",
   "metadata": {},
   "source": [
    "Данные с пропусками, которые нельзя обрезать через query: airports_nearest, cityCenters_nearest, parks_nearest, ponds_nearest, days_exposition"
   ]
  },
  {
   "cell_type": "code",
   "execution_count": 14,
   "metadata": {},
   "outputs": [
    {
     "data": {
      "text/plain": [
       "total_images                0\n",
       "last_price                  0\n",
       "total_area                  0\n",
       "first_day_exposition        0\n",
       "rooms                       0\n",
       "ceiling_height              0\n",
       "floors_total                0\n",
       "living_area                 0\n",
       "floor                       0\n",
       "is_apartment                0\n",
       "studio                      0\n",
       "open_plan                   0\n",
       "kitchen_area                0\n",
       "balcony                     0\n",
       "locality_name               0\n",
       "airports_nearest         5524\n",
       "cityCenters_nearest      5501\n",
       "parks_around3000            0\n",
       "parks_nearest           15535\n",
       "ponds_around3000            0\n",
       "ponds_nearest           14529\n",
       "days_exposition             0\n",
       "dtype: int64"
      ]
     },
     "execution_count": 14,
     "metadata": {},
     "output_type": "execute_result"
    }
   ],
   "source": [
    "data.isnull().sum()"
   ]
  },
  {
   "cell_type": "code",
   "execution_count": 15,
   "metadata": {},
   "outputs": [],
   "source": [
    "# Устранение редких и выбивающих значений\n",
    "\n",
    "# 1. число фотографий квартиры в объявлении\n",
    "data = data.query('total_images < 26')\n",
    "# 2. цена на момент снятия с публикации\n",
    "data = data.query('last_price < 8750000.0')\n",
    "# 3. общая площадь квартиры в квадратных метрах (м²)\n",
    "data = data.query('total_area <= 90')\n",
    "# 4. жилая площадь в квадратных метрах (м²)\n",
    "data = data.query('living_area < 60')\n",
    "# 5. площадь кухни в квадратных метрах (м²)\n",
    "data = data.query('kitchen_area < 15.6')\n",
    "# 6. высота потолков (м)\n",
    "data = data.query('2.3 < ceiling_height < 2.9')"
   ]
  },
  {
   "cell_type": "code",
   "execution_count": 16,
   "metadata": {},
   "outputs": [
    {
     "data": {
      "text/plain": [
       "0.25    2.52\n",
       "0.50    2.60\n",
       "0.75    2.70\n",
       "Name: ceiling_height, dtype: float64"
      ]
     },
     "execution_count": 16,
     "metadata": {},
     "output_type": "execute_result"
    },
    {
     "data": {
      "image/png": "[encoded data removed]",
      "text/plain": [
       "<Figure size 720x360 with 1 Axes>"
      ]
     },
     "metadata": {
      "needs_background": "light"
     },
     "output_type": "display_data"
    }
   ],
   "source": [
    "data.boxplot(figsize=(10, 5), column = 'ceiling_height')\n",
    "data['ceiling_height'].quantile([0.25,0.5,0.75])"
   ]
  },
  {
   "cell_type": "markdown",
   "metadata": {},
   "source": [
    "Всё делалось вручную, каждый столбец был проверен через ящик с усами и квартили."
   ]
  },
  {
   "cell_type": "code",
   "execution_count": 17,
   "metadata": {},
   "outputs": [
    {
     "name": "stdout",
     "output_type": "stream",
     "text": [
      "<class 'pandas.core.frame.DataFrame'>\n",
      "Int64Index: 17118 entries, 1 to 23698\n",
      "Data columns (total 22 columns):\n",
      " #   Column                Non-Null Count  Dtype  \n",
      "---  ------                --------------  -----  \n",
      " 0   total_images          17118 non-null  int64  \n",
      " 1   last_price            17118 non-null  int64  \n",
      " 2   total_area            17118 non-null  float64\n",
      " 3   first_day_exposition  17118 non-null  object \n",
      " 4   rooms                 17118 non-null  int64  \n",
      " 5   ceiling_height        17118 non-null  float64\n",
      " 6   floors_total          17118 non-null  int64  \n",
      " 7   living_area           17118 non-null  float64\n",
      " 8   floor                 17118 non-null  int64  \n",
      " 9   is_apartment          17118 non-null  bool   \n",
      " 10  studio                17118 non-null  bool   \n",
      " 11  open_plan             17118 non-null  bool   \n",
      " 12  kitchen_area          17118 non-null  float64\n",
      " 13  balcony               17118 non-null  int64  \n",
      " 14  locality_name         17118 non-null  object \n",
      " 15  airports_nearest      12214 non-null  float64\n",
      " 16  cityCenters_nearest   12220 non-null  float64\n",
      " 17  parks_around3000      17118 non-null  int64  \n",
      " 18  parks_nearest         4585 non-null   float64\n",
      " 19  ponds_around3000      17118 non-null  int64  \n",
      " 20  ponds_nearest         5472 non-null   float64\n",
      " 21  days_exposition       17118 non-null  float64\n",
      "dtypes: bool(3), float64(9), int64(8), object(2)\n",
      "memory usage: 2.7+ MB\n"
     ]
    }
   ],
   "source": [
    "data.info()"
   ]
  },
  {
   "cell_type": "markdown",
   "metadata": {},
   "source": [
    "Вывод: В данных достаточно много выбросов и в процессе их удаления датасет стал на 26% меньше, что вполне нормально для дальнейшей работы с ним."
   ]
  },
  {
   "cell_type": "markdown",
   "metadata": {},
   "source": [
    "### 3 шаг. Добавление в таблицу новых столбцов."
   ]
  },
  {
   "cell_type": "markdown",
   "metadata": {},
   "source": [
    "1. цена одного квадратного метра;\n",
    "2. день недели публикации объявления (0 — понедельник, 1 — вторник и так далее);\n",
    "3. месяц публикации объявления;\n",
    "4. год публикации объявления;\n",
    "5. тип этажа квартиры (значения — «‎первый», «последний», «другой»);\n",
    "6. расстояние до центра города в километрах (переведите из м в км и округлите до целых значений)."
   ]
  },
  {
   "cell_type": "code",
   "execution_count": 18,
   "metadata": {},
   "outputs": [],
   "source": [
    "# Добавим цену на один квадратный метр (sqr_met_price)\n",
    "data['sqr_met_price'] = data['last_price'] / data['total_area']\n",
    "data['sqr_met_price'].astype('int')\n",
    "# Добавим день недели объявдения публикации\n",
    "data['first_day_exposition'].astype('datetime64[M]') \n",
    "data['first_day_exposition'] = pd.to_datetime(data['first_day_exposition'], format='%Y-%m-%dT%H:%M:%S')\n",
    "data['weekday'] = data['first_day_exposition'].dt.weekday\n",
    "data['month'] = data['first_day_exposition'].dt.month\n",
    "data['year'] = data['first_day_exposition'].dt.year\n",
    "#Тип этажа квартиры \n",
    "def floor_group(row):\n",
    "    if row['floor'] == 1:\n",
    "        return 'первый'\n",
    "    elif row['floor'] == row['floors_total']:\n",
    "        return 'последний'\n",
    "    else:\n",
    "        return 'другой'\n",
    "\n",
    "data['floor_type'] = data.apply(floor_group, axis=1)\n",
    "# Расстоянние до центра города в км \n",
    "data['city_centre_km'] = round(data['cityCenters_nearest'] / 1000, )    "
   ]
  },
  {
   "cell_type": "markdown",
   "metadata": {},
   "source": [
    "В таблицу были добавлены цена на один квадратный метр, дни недели(день, неделя, год), тип этажа квартиры и расстояние до центра города в км."
   ]
  },
  {
   "cell_type": "markdown",
   "metadata": {},
   "source": [
    "### 4 шаг. Проведение исследовательского анализа данных"
   ]
  },
  {
   "cell_type": "markdown",
   "metadata": {},
   "source": [
    "#### 4.1 Изучение следующих параметров.\n",
    "\n",
    "1. общая площадь;\n",
    "2. жилая площадь;\n",
    "3. площадь кухни;\n",
    "4. цена объекта;\n",
    "5. количество комнат;\n",
    "6. высота потолков;\n",
    "7. этаж квартиры;\n",
    "8. тип этажа квартиры («первый», «последний», «другой»);\n",
    "9. общее количество этажей в доме;\n",
    "10. расстояние до центра города в метрах;\n",
    "11. расстояние до ближайшего аэропорта;\n",
    "12. расстояние до ближайшего парка;\n",
    "13. день и месяц публикации объявления."
   ]
  },
  {
   "cell_type": "code",
   "execution_count": 19,
   "metadata": {},
   "outputs": [
    {
     "name": "stdout",
     "output_type": "stream",
     "text": [
      "Наибольшие по площади результаты:\n",
      "16439    90.0\n",
      "21029    90.0\n",
      "22596    90.0\n",
      "11853    90.0\n",
      "9279     90.0\n",
      "16206    90.0\n",
      "11257    90.0\n",
      "2187     90.0\n",
      "17422    90.0\n",
      "16984    90.0\n",
      "Name: total_area, dtype: float64\n"
     ]
    },
    {
     "data": {
      "image/png": "[encoded data removed]",
      "text/plain": [
       "<Figure size 432x288 with 1 Axes>"
      ]
     },
     "metadata": {
      "needs_background": "light"
     },
     "output_type": "display_data"
    }
   ],
   "source": [
    "# 1. Общая площадь\n",
    "data['total_area'].hist(bins=50, range=(10, 80))\n",
    "plt.title('Площадь квартиры')\n",
    "plt.xlabel('Квадратные метры')\n",
    "plt.ylabel('Кол-во квартир')\n",
    "print('Наибольшие по площади результаты:')\n",
    "print(data['total_area'].sort_values(ascending=False).head(10))\n",
    "\n"
   ]
  },
  {
   "cell_type": "markdown",
   "metadata": {},
   "source": [
    "Большинство квартир меньше 80^2, были аномально большие значения, но мы их удалили. Чаще всего встречаются квартиры с площадью 32-48 м^2."
   ]
  },
  {
   "cell_type": "code",
   "execution_count": 20,
   "metadata": {},
   "outputs": [
    {
     "name": "stdout",
     "output_type": "stream",
     "text": [
      "Наибольшие по площади результаты:\n",
      "20480    59.9\n",
      "20744    59.6\n",
      "7835     59.5\n",
      "21487    59.1\n",
      "18528    59.0\n",
      "16311    59.0\n",
      "7969     59.0\n",
      "41       59.0\n",
      "7193     59.0\n",
      "19086    59.0\n",
      "Name: living_area, dtype: float64\n"
     ]
    },
    {
     "data": {
      "image/png": "[encoded data removed]",
      "text/plain": [
       "<Figure size 432x288 with 1 Axes>"
      ]
     },
     "metadata": {
      "needs_background": "light"
     },
     "output_type": "display_data"
    }
   ],
   "source": [
    "# 2. жилая площадь\n",
    "data['living_area'].hist(bins=70, range=(15,50))\n",
    "plt.title('Жилая площадь')\n",
    "plt.xlabel('Квадратные метры')\n",
    "plt.ylabel('Кол-во квартир')\n",
    "print('Наибольшие по площади результаты:')\n",
    "print(data['living_area'].sort_values(ascending=False).head(10))"
   ]
  },
  {
   "cell_type": "markdown",
   "metadata": {},
   "source": [
    "Жилая площадь больше 40м^2 встречается достаточно редко. Больше всего квартир с жилой площадью от 15м^2 до 22м^2."
   ]
  },
  {
   "cell_type": "code",
   "execution_count": 21,
   "metadata": {},
   "outputs": [
    {
     "name": "stdout",
     "output_type": "stream",
     "text": [
      "Наибольшие по площади результаты:\n",
      "8152     15.581639\n",
      "21555    15.581639\n",
      "20397    15.570000\n",
      "13963    15.550000\n",
      "573      15.500000\n",
      "1577     15.500000\n",
      "10115    15.500000\n",
      "15174    15.500000\n",
      "7184     15.500000\n",
      "8740     15.500000\n",
      "Name: kitchen_area, dtype: float64\n"
     ]
    },
    {
     "data": {
      "image/png": "[encoded data removed]",
      "text/plain": [
       "<Figure size 432x288 with 1 Axes>"
      ]
     },
     "metadata": {
      "needs_background": "light"
     },
     "output_type": "display_data"
    }
   ],
   "source": [
    "# 3. Площадь кухни\n",
    "data['kitchen_area'].hist(bins=40, range=(0,20))\n",
    "plt.title('Площадь кухни')\n",
    "plt.xlabel('Квадратные метры')\n",
    "plt.ylabel('Кол-во квартир')\n",
    "print('Наибольшие по площади результаты:')\n",
    "print(data['kitchen_area'].sort_values(ascending=False).head(10))"
   ]
  },
  {
   "cell_type": "markdown",
   "metadata": {},
   "source": [
    "После удаления выбросов, значения выше 12м^2 почти не встречаются. Больше всего квартир с кухней от 6 до 8 м^2."
   ]
  },
  {
   "cell_type": "code",
   "execution_count": 22,
   "metadata": {},
   "outputs": [
    {
     "name": "stdout",
     "output_type": "stream",
     "text": [
      "Наибольшие по цене варианты:\n",
      "12745    8740000\n",
      "2347     8721680\n",
      "4110     8721680\n",
      "8927     8700000\n",
      "19201    8700000\n",
      "20438    8700000\n",
      "5341     8700000\n",
      "17606    8700000\n",
      "20943    8700000\n",
      "1359     8700000\n",
      "Name: last_price, dtype: int64\n"
     ]
    },
    {
     "data": {
      "image/png": "[encoded data removed]",
      "text/plain": [
       "<Figure size 432x288 with 1 Axes>"
      ]
     },
     "metadata": {
      "needs_background": "light"
     },
     "output_type": "display_data"
    }
   ],
   "source": [
    "# 4. цена объекта\n",
    "data['last_price'].hist(bins=50, range=(0,10000000))\n",
    "plt.title('цена объетка')\n",
    "plt.xlabel('Цена квартир')\n",
    "plt.ylabel('кол-во квартир')\n",
    "print('Наибольшие по цене варианты:')\n",
    "print(data['last_price'].sort_values(ascending=False).head(10))\n",
    "\n"
   ]
  },
  {
   "cell_type": "markdown",
   "metadata": {},
   "source": [
    "В основ стоимость квартир от 3 миллионов до 4 милионнов."
   ]
  },
  {
   "cell_type": "code",
   "execution_count": 23,
   "metadata": {},
   "outputs": [
    {
     "name": "stdout",
     "output_type": "stream",
     "text": [
      "Больше всего комнат\n",
      "2333     5\n",
      "15010    5\n",
      "12186    5\n",
      "20893    5\n",
      "12827    5\n",
      "11223    5\n",
      "23305    5\n",
      "14771    5\n",
      "2737     5\n",
      "20398    5\n",
      "Name: rooms, dtype: int64\n"
     ]
    },
    {
     "data": {
      "image/png": "[encoded data removed]",
      "text/plain": [
       "<Figure size 432x288 with 1 Axes>"
      ]
     },
     "metadata": {
      "needs_background": "light"
     },
     "output_type": "display_data"
    }
   ],
   "source": [
    "#5. количество комнат;\n",
    "data['rooms'].hist(bins=6, range=(0, 6))\n",
    "plt.title('Комнаты')\n",
    "plt.xlabel('Кол-во комнат')\n",
    "plt.ylabel('Кол-во квартир')\n",
    "print('Больше всего комнат')\n",
    "print(data['rooms'].sort_values(ascending=False).head(10))\n"
   ]
  },
  {
   "cell_type": "markdown",
   "metadata": {},
   "source": [
    "Чаще всего встречаются двухкомнатные и трёхкомнатные квартиры. "
   ]
  },
  {
   "cell_type": "code",
   "execution_count": 24,
   "metadata": {},
   "outputs": [
    {
     "name": "stdout",
     "output_type": "stream",
     "text": [
      "Наибольшие по высоте варианты:\n",
      "20571    2.89\n",
      "11344    2.88\n",
      "22208    2.88\n",
      "2253     2.88\n",
      "14321    2.88\n",
      "13709    2.88\n",
      "19764    2.88\n",
      "17181    2.88\n",
      "20842    2.88\n",
      "15307    2.88\n",
      "Name: ceiling_height, dtype: float64\n"
     ]
    },
    {
     "data": {
      "image/png": "[encoded data removed]",
      "text/plain": [
       "<Figure size 432x288 with 1 Axes>"
      ]
     },
     "metadata": {
      "needs_background": "light"
     },
     "output_type": "display_data"
    }
   ],
   "source": [
    "# 6. высота потолков;\n",
    "data['ceiling_height'].hist(bins=15, range=(2,3))\n",
    "plt.title('Высота потолков')\n",
    "plt.xlabel('Высота(м)')\n",
    "plt.ylabel('Кол-во квартир')\n",
    "print('Наибольшие по высоте варианты:')\n",
    "print(data['ceiling_height'].sort_values(ascending=False).head(10))"
   ]
  },
  {
   "cell_type": "markdown",
   "metadata": {},
   "source": [
    "Чаще всего встречаются квартиры с высотой потолков в 2.5m и 2.7m"
   ]
  },
  {
   "cell_type": "code",
   "execution_count": 25,
   "metadata": {},
   "outputs": [
    {
     "name": "stdout",
     "output_type": "stream",
     "text": [
      "Самые высокие этажи:\n",
      "6157     27\n",
      "7711     27\n",
      "23292    27\n",
      "2629     27\n",
      "13276    27\n",
      "4091     27\n",
      "113      27\n",
      "16644    27\n",
      "9799     26\n",
      "15053    26\n",
      "Name: floor, dtype: int64\n"
     ]
    },
    {
     "data": {
      "image/png": "[encoded data removed]",
      "text/plain": [
       "<Figure size 432x288 with 1 Axes>"
      ]
     },
     "metadata": {
      "needs_background": "light"
     },
     "output_type": "display_data"
    }
   ],
   "source": [
    "# 7. этаж квартиры;\n",
    "data['floor'].hist(bins=15, range=(0, 40))\n",
    "plt.title('Этаж квартиры')\n",
    "plt.xlabel('Этажи')\n",
    "plt.ylabel('Кол-во квартир')\n",
    "print('Самые высокие этажи:')\n",
    "print(data['floor'].sort_values(ascending=False).head(10))"
   ]
  },
  {
   "cell_type": "markdown",
   "metadata": {},
   "source": [
    "Чаще всего встречаются квартиры до 5 этажа, далее, чем выше этаж, тем реже встречаются квартиры."
   ]
  },
  {
   "cell_type": "code",
   "execution_count": 26,
   "metadata": {},
   "outputs": [
    {
     "data": {
      "text/plain": [
       "Text(0, 0.5, 'Кол-во квартир')"
      ]
     },
     "execution_count": 26,
     "metadata": {},
     "output_type": "execute_result"
    },
    {
     "data": {
      "image/png": "[encoded data removed]",
      "text/plain": [
       "<Figure size 432x288 with 1 Axes>"
      ]
     },
     "metadata": {
      "needs_background": "light"
     },
     "output_type": "display_data"
    }
   ],
   "source": [
    "# 8. тип этажа квартиры («первый», «последний», «другой»);\n",
    "data['floor_type'].hist(bins=10, range=(0, 3))\n",
    "plt.title('Типы этажей')\n",
    "plt.xlabel('Тип этажа')\n",
    "plt.ylabel('Кол-во квартир')"
   ]
  },
  {
   "cell_type": "markdown",
   "metadata": {},
   "source": [
    "Кол-во квартир на первом и последнем почти одинаково. Больше всего квартир, находящихся на других этажах(что логично)"
   ]
  },
  {
   "cell_type": "code",
   "execution_count": 27,
   "metadata": {},
   "outputs": [
    {
     "name": "stdout",
     "output_type": "stream",
     "text": [
      "Самые высокоэтажные здания: \n",
      "2253     60\n",
      "16731    52\n",
      "15982    35\n",
      "871      35\n",
      "2966     35\n",
      "7236     35\n",
      "4855     35\n",
      "13975    35\n",
      "22946    35\n",
      "5808     35\n",
      "Name: floors_total, dtype: int64\n"
     ]
    },
    {
     "data": {
      "image/png": "[encoded data removed]",
      "text/plain": [
       "<Figure size 432x288 with 1 Axes>"
      ]
     },
     "metadata": {
      "needs_background": "light"
     },
     "output_type": "display_data"
    }
   ],
   "source": [
    "# 9. общее количество этажей в доме;\n",
    "data['floors_total'].hist(bins=28, range=(0, 28))\n",
    "plt.title('Общее кол-во этажей')\n",
    "plt.xlabel('Кол-во этажей')\n",
    "plt.ylabel('Кол-во квартир')\n",
    "print('Самые высокоэтажные здания: ')\n",
    "print(data['floors_total'].sort_values(ascending=False).head(10))"
   ]
  },
  {
   "cell_type": "markdown",
   "metadata": {},
   "source": [
    "Чаще всего встречаются 5-ти и 9-ти этажные здания."
   ]
  },
  {
   "cell_type": "code",
   "execution_count": 28,
   "metadata": {},
   "outputs": [
    {
     "name": "stdout",
     "output_type": "stream",
     "text": [
      "Самое большое расстояние до центра: \n",
      "9640     65968.0\n",
      "5340     65952.0\n",
      "577      65764.0\n",
      "20746    65105.0\n",
      "5218     64857.0\n",
      "18884    62706.0\n",
      "2974     62454.0\n",
      "16569    61495.0\n",
      "23123    60223.0\n",
      "4441     59626.0\n",
      "Name: cityCenters_nearest, dtype: float64\n"
     ]
    },
    {
     "data": {
      "image/png": "[encoded data removed]",
      "text/plain": [
       "<Figure size 432x288 with 1 Axes>"
      ]
     },
     "metadata": {
      "needs_background": "light"
     },
     "output_type": "display_data"
    }
   ],
   "source": [
    "# 10. расстояние до центра города в метрах\n",
    "data['cityCenters_nearest'].hist(bins=30, range=(0,60000))\n",
    "plt.title('Расстояние до центра города')\n",
    "plt.xlabel('Метров')\n",
    "plt.ylabel('Кол-во квартир')\n",
    "print('Самое большое расстояние до центра: ')\n",
    "print(data['cityCenters_nearest'].sort_values(ascending=False).head(10))"
   ]
  },
  {
   "cell_type": "markdown",
   "metadata": {},
   "source": [
    "Чаще всего встречаются квартиры, которые находятся от 10к метров до 18к метров от центра. Чем дальше от центра, тем реже встречаются квартиры."
   ]
  },
  {
   "cell_type": "code",
   "execution_count": 29,
   "metadata": {},
   "outputs": [
    {
     "name": "stdout",
     "output_type": "stream",
     "text": [
      "Самое большое расстояние: \n",
      "9640     84869.0\n",
      "5340     84853.0\n",
      "577      84665.0\n",
      "20746    84006.0\n",
      "5218     83758.0\n",
      "18884    81607.0\n",
      "2974     81355.0\n",
      "4441     78527.0\n",
      "939      75646.0\n",
      "376      73827.0\n",
      "Name: airports_nearest, dtype: float64\n"
     ]
    },
    {
     "data": {
      "image/png": "[encoded data removed]",
      "text/plain": [
       "<Figure size 432x288 with 1 Axes>"
      ]
     },
     "metadata": {
      "needs_background": "light"
     },
     "output_type": "display_data"
    }
   ],
   "source": [
    "# 11. расстояние до ближайшего аэропорта\n",
    "data['airports_nearest'].hist(bins=30, range=(0, 90000))\n",
    "plt.title('Расстояние до ближайшего аэропорта')\n",
    "plt.xlabel('Метры')\n",
    "plt.ylabel('Квартиры')\n",
    "print('Самое большое расстояние: ')\n",
    "print(data['airports_nearest'].sort_values(ascending=False).head(10))"
   ]
  },
  {
   "cell_type": "markdown",
   "metadata": {},
   "source": [
    "Дальше 55000м до аэропорта квартир становится резко меньше. В основном, больше всего квартир находятся в 20000м от аэропорта."
   ]
  },
  {
   "cell_type": "code",
   "execution_count": 30,
   "metadata": {},
   "outputs": [
    {
     "name": "stdout",
     "output_type": "stream",
     "text": [
      "Самое большое расстояние: \n",
      "19430    3190.0\n",
      "10959    3190.0\n",
      "1590     3064.0\n",
      "23080    2984.0\n",
      "1860     2888.0\n",
      "7855     2880.0\n",
      "6625     2633.0\n",
      "18685    2532.0\n",
      "8393     2467.0\n",
      "18488    2427.0\n",
      "Name: parks_nearest, dtype: float64\n"
     ]
    },
    {
     "data": {
      "image/png": "[encoded data removed]",
      "text/plain": [
       "<Figure size 432x288 with 1 Axes>"
      ]
     },
     "metadata": {
      "needs_background": "light"
     },
     "output_type": "display_data"
    }
   ],
   "source": [
    "# 12. расстояние до ближайшего парка\n",
    "data['parks_nearest'].hist(bins=30, range=(0, 4000))\n",
    "plt.title('расстояние до ближайшего парка')\n",
    "plt.xlabel('Метры')\n",
    "plt.ylabel('Кол-во квартир')\n",
    "print('Самое большое расстояние: ')\n",
    "print(data['parks_nearest'].sort_values(ascending=False).head(10))"
   ]
  },
  {
   "cell_type": "markdown",
   "metadata": {},
   "source": [
    "В основном, все квартиры находятся до 800м от парков. Квартир, которые находятся от парка дальше, чем 800м, очень мало."
   ]
  },
  {
   "cell_type": "code",
   "execution_count": 31,
   "metadata": {},
   "outputs": [
    {
     "data": {
      "text/plain": [
       "Text(0, 0.5, 'Кол-во квартир')"
      ]
     },
     "execution_count": 31,
     "metadata": {},
     "output_type": "execute_result"
    },
    {
     "data": {
      "image/png": "[encoded data removed]",
      "text/plain": [
       "<Figure size 432x288 with 1 Axes>"
      ]
     },
     "metadata": {
      "needs_background": "light"
     },
     "output_type": "display_data"
    }
   ],
   "source": [
    "# 13.1. месяц публикации объявления.\n",
    "\n",
    "data['month'].hist(bins=12, range=(1, 12))\n",
    "plt.title('месяца публикации объявления')\n",
    "plt.xlabel('Месяца')\n",
    "plt.ylabel('Кол-во квартир')"
   ]
  },
  {
   "cell_type": "markdown",
   "metadata": {},
   "source": [
    "В посленовогоднее время появляется наибольшее количество квартир. К маю публикаций становится резко меньше.  Далее, с наступлением лета, кол-во объявлений расстёт, что объясяется тем, что студенты, которые живут в городе, заканчивают ссесию и временно возвращаются домой, из-за чего на рынке появляется большое кол-во свободных квартир."
   ]
  },
  {
   "cell_type": "code",
   "execution_count": 32,
   "metadata": {},
   "outputs": [
    {
     "data": {
      "text/plain": [
       "Text(0, 0.5, 'Кол-во квартир')"
      ]
     },
     "execution_count": 32,
     "metadata": {},
     "output_type": "execute_result"
    },
    {
     "data": {
      "image/png": "[encoded data removed]",
      "text/plain": [
       "<Figure size 432x288 with 1 Axes>"
      ]
     },
     "metadata": {
      "needs_background": "light"
     },
     "output_type": "display_data"
    }
   ],
   "source": [
    "# 13.2 день публикации объявления.\n",
    "data['weekday'].hist(bins=7, range=(0, 7))\n",
    "plt.title('День публикации объявдения')\n",
    "plt.xlabel('День')\n",
    "plt.ylabel('Кол-во квартир')\n"
   ]
  },
  {
   "cell_type": "markdown",
   "metadata": {},
   "source": [
    "В будние дни кол-во публикаций практически схожи. Заметное уменьшение кол-во публикаций наблюдается в выходные дни, что, в принципе, логично."
   ]
  },
  {
   "cell_type": "markdown",
   "metadata": {},
   "source": [
    "#### 4.2 Как быстро продавались квартиры(days_exposition)"
   ]
  },
  {
   "cell_type": "code",
   "execution_count": 33,
   "metadata": {},
   "outputs": [
    {
     "name": "stdout",
     "output_type": "stream",
     "text": [
      "Средний день продажи:  165.64721812553643\n",
      "Медианное значение дней продаж:  105.0\n"
     ]
    },
    {
     "data": {
      "text/plain": [
       "count    17118.000000\n",
       "mean       165.647218\n",
       "std        190.451533\n",
       "min          1.000000\n",
       "25%         45.000000\n",
       "50%        105.000000\n",
       "75%        196.000000\n",
       "max       1580.000000\n",
       "Name: days_exposition, dtype: float64"
      ]
     },
     "execution_count": 33,
     "metadata": {},
     "output_type": "execute_result"
    },
    {
     "data": {
      "image/png": "[encoded data removed]",
      "text/plain": [
       "<Figure size 432x288 with 1 Axes>"
      ]
     },
     "metadata": {
      "needs_background": "light"
     },
     "output_type": "display_data"
    }
   ],
   "source": [
    "data['days_exposition'].hist(bins=200, range=(0, 200))\n",
    "plt.title('Продажа квартир')\n",
    "plt.xlabel('Кол-во дней')\n",
    "plt.ylabel('Кол-во квартир')\n",
    "print('Средний день продажи: ', data['days_exposition'].mean())\n",
    "print('Медианное значение дней продаж: ', data['days_exposition'].median())\n",
    "data['days_exposition'].describe() "
   ]
  },
  {
   "cell_type": "markdown",
   "metadata": {},
   "source": [
    "5. Комментарий студента: уменьшил range и увеличил bins. Появились некоторый аномалии(не знаю, с чем могут быть связаны), но думаю, они несущественные."
   ]
  },
  {
   "cell_type": "markdown",
   "metadata": {},
   "source": [
    "Ранее я не убирал пустые значение в days_exposition, но на этом этапе подумал, что почему бы нет. Я заменил их на медианное через transform, но осталось совсем немного пропусков. Не знаю, что с ними делать, решил оставить."
   ]
  },
  {
   "cell_type": "markdown",
   "metadata": {},
   "source": [
    "Вывод: Быстрыми продажами мы можем назвать все те, что находятся до Q2(90 дней). Самые быстрые-44дня(Q1). Их очень много. Далее с каждым месяцем квартир становится всё больше. Долгими можно назвать все те, что пытаются сдать долше 180 дней(Q3). Есть и те, что могут сдаваться несколько лет, но мы не можем гарантировать, что это просто выбросы."
   ]
  },
  {
   "cell_type": "markdown",
   "metadata": {},
   "source": [
    "#### 4.3 какие факторы больше всего влияют на общую (полную) стоимость объекта? last_price\n",
    "1. общей площади; total_area\n",
    "2. жилой площади; living_area\n",
    "3. площади кухни; kitchen_area \n",
    "4. количества комнат; rooms\n",
    "5. этажа, на котором расположена квартира (первый, последний, другой); floor_type\n",
    "6. даты размещения (день недели, месяц, год). "
   ]
  },
  {
   "cell_type": "code",
   "execution_count": 34,
   "metadata": {},
   "outputs": [
    {
     "data": {
      "text/plain": [
       "0.5820509855879724"
      ]
     },
     "execution_count": 34,
     "metadata": {},
     "output_type": "execute_result"
    },
    {
     "data": {
      "image/png": "[encoded data removed]",
      "text/plain": [
       "<Figure size 1080x360 with 1 Axes>"
      ]
     },
     "metadata": {
      "needs_background": "light"
     },
     "output_type": "display_data"
    }
   ],
   "source": [
    "# 1 Зависимость цены от общей площади; total_area\n",
    "data.pivot_table(index=['total_area'], values=['last_price']).plot(grid=True, style='o',figsize=(15, 5))\n",
    "data['last_price'].corr(data['total_area'], method='pearson')"
   ]
  },
  {
   "cell_type": "markdown",
   "metadata": {},
   "source": [
    "На графике видно, что цена растёт взависимости от площади. Присутствует достаточно сильная зависимость двух переменных. "
   ]
  },
  {
   "cell_type": "markdown",
   "metadata": {},
   "source": [
    "5. Комментарий студента: Случайно удалил ваш комментарий, где упоминалось отсутсвие отображения корреляции, но я всё добавил и упомянул в выводе."
   ]
  },
  {
   "cell_type": "code",
   "execution_count": 35,
   "metadata": {},
   "outputs": [
    {
     "data": {
      "text/plain": [
       "0.45717276710101307"
      ]
     },
     "execution_count": 35,
     "metadata": {},
     "output_type": "execute_result"
    },
    {
     "data": {
      "image/png": "[encoded data removed]",
      "text/plain": [
       "<Figure size 1080x360 with 1 Axes>"
      ]
     },
     "metadata": {
      "needs_background": "light"
     },
     "output_type": "display_data"
    }
   ],
   "source": [
    "# 2. зависимость цены от жилой площади; living_area\n",
    "data.pivot_table(index=['living_area'], values=['last_price']).plot(grid=True, style='o',figsize=(15, 5))\n",
    "data['last_price'].corr(data['living_area'])"
   ]
  },
  {
   "cell_type": "markdown",
   "metadata": {},
   "source": [
    "Чем больше жилая площадь, тем выше цена, но зависимость не такая резкая, как с общей площадью. Это заметно по r=46.(-1 - отсутствие зависимости, +1 - полная зависимость)."
   ]
  },
  {
   "cell_type": "code",
   "execution_count": 36,
   "metadata": {},
   "outputs": [
    {
     "data": {
      "text/plain": [
       "0.42410117912008716"
      ]
     },
     "execution_count": 36,
     "metadata": {},
     "output_type": "execute_result"
    },
    {
     "data": {
      "image/png": "[encoded data removed]",
      "text/plain": [
       "<Figure size 1080x360 with 1 Axes>"
      ]
     },
     "metadata": {
      "needs_background": "light"
     },
     "output_type": "display_data"
    }
   ],
   "source": [
    "# 3. площади кухни; kitchen_area\n",
    "data.pivot_table(index=['kitchen_area'], values=['last_price']).plot(grid=True, style='o', figsize=(15, 5))\n",
    "data['last_price'].corr(data['kitchen_area'])"
   ]
  },
  {
   "cell_type": "markdown",
   "metadata": {},
   "source": [
    "С площадью кухни до определенного момента растёт и цена, но после 8м^2 цена почти не растёт. Зависимость присутствует(r=42), но не самая большая."
   ]
  },
  {
   "cell_type": "code",
   "execution_count": 37,
   "metadata": {},
   "outputs": [
    {
     "data": {
      "text/plain": [
       "0.3628780081003677"
      ]
     },
     "execution_count": 37,
     "metadata": {},
     "output_type": "execute_result"
    },
    {
     "data": {
      "image/png": "[encoded data removed]",
      "text/plain": [
       "<Figure size 1080x360 with 1 Axes>"
      ]
     },
     "metadata": {
      "needs_background": "light"
     },
     "output_type": "display_data"
    }
   ],
   "source": [
    "# 4. количества комнат; rooms\n",
    "data.pivot_table(index=['rooms'], values=['last_price']).plot(grid=True, figsize=(15, 5))\n",
    "data['last_price'].corr(data['rooms'])"
   ]
  },
  {
   "cell_type": "markdown",
   "metadata": {},
   "source": [
    "От однокомнатной и двухкомнатной квартиры цена резко растёт, после- постепенно снижается. Зависимость присутствует, но не самая большая(r=36)"
   ]
  },
  {
   "cell_type": "code",
   "execution_count": 38,
   "metadata": {},
   "outputs": [
    {
     "data": {
      "text/plain": [
       "<AxesSubplot:xlabel='floor_type'>"
      ]
     },
     "execution_count": 38,
     "metadata": {},
     "output_type": "execute_result"
    },
    {
     "data": {
      "image/png": "[encoded data removed]",
      "text/plain": [
       "<Figure size 1080x360 with 1 Axes>"
      ]
     },
     "metadata": {
      "needs_background": "light"
     },
     "output_type": "display_data"
    }
   ],
   "source": [
    "# 5. этажа, на котором расположена квартира (первый, последний, другой); floor_type \n",
    "data.pivot_table(index=['floor_type'], values=['last_price']).plot(grid=True,figsize=(15, 5))"
   ]
  },
  {
   "cell_type": "markdown",
   "metadata": {},
   "source": [
    "Цена на первые этажи самая низкая, на последний-чуть выше, самые высокие цены имеют другие квартиры(их цена обоснована другими факторами, такими как: кол-во комнат, площадь и тд.)"
   ]
  },
  {
   "cell_type": "code",
   "execution_count": 39,
   "metadata": {},
   "outputs": [
    {
     "data": {
      "text/plain": [
       "-0.012530405276703275"
      ]
     },
     "execution_count": 39,
     "metadata": {},
     "output_type": "execute_result"
    },
    {
     "data": {
      "image/png": "[encoded data removed]",
      "text/plain": [
       "<Figure size 1080x360 with 1 Axes>"
      ]
     },
     "metadata": {
      "needs_background": "light"
     },
     "output_type": "display_data"
    }
   ],
   "source": [
    "# 6.1 цена от размещения по дням\n",
    "data.pivot_table(index=['weekday'], values=['last_price']).plot(grid=True,figsize=(15, 5))\n",
    "data['last_price'].corr(data['weekday'])"
   ]
  },
  {
   "cell_type": "markdown",
   "metadata": {},
   "source": [
    "В будние дни цена варьируется не особо заметно, но виден резкий спад в субботу, к воскресенью же возвращается. Зависимости нету."
   ]
  },
  {
   "cell_type": "code",
   "execution_count": 40,
   "metadata": {},
   "outputs": [
    {
     "data": {
      "text/plain": [
       "-0.0019151100170507601"
      ]
     },
     "execution_count": 40,
     "metadata": {},
     "output_type": "execute_result"
    },
    {
     "data": {
      "image/png": "[encoded data removed]",
      "text/plain": [
       "<Figure size 1080x360 with 1 Axes>"
      ]
     },
     "metadata": {
      "needs_background": "light"
     },
     "output_type": "display_data"
    }
   ],
   "source": [
    "# 6.2 цена от размещения по месяцам\n",
    "data.pivot_table(index=['month'], values=['last_price']).plot(grid=True,figsize=(15, 5))\n",
    "data['last_price'].corr(data['month'])"
   ]
  },
  {
   "cell_type": "markdown",
   "metadata": {},
   "source": [
    "Цена резко падает к началу лета, потому что спроси резко падает(думаю, как и ранее, из-за студентов, которые съезжают со съемных квартир), далее цена восстанавливается и падает только к концу года. Зависимости нету."
   ]
  },
  {
   "cell_type": "code",
   "execution_count": 41,
   "metadata": {},
   "outputs": [
    {
     "data": {
      "text/plain": [
       "0.03535859971082794"
      ]
     },
     "execution_count": 41,
     "metadata": {},
     "output_type": "execute_result"
    },
    {
     "data": {
      "image/png": "[encoded data removed]",
      "text/plain": [
       "<Figure size 1080x360 with 1 Axes>"
      ]
     },
     "metadata": {
      "needs_background": "light"
     },
     "output_type": "display_data"
    }
   ],
   "source": [
    "# 6.3 Цена размещения по годам \n",
    "data.pivot_table(index=['year'], values=['last_price']).plot(grid=True,figsize=(15, 5))\n",
    "data['last_price'].corr(data['year'])"
   ]
  },
  {
   "cell_type": "markdown",
   "metadata": {},
   "source": [
    "в 2016 и 2017 цены очен низкие, но к 2018 и 2019 году цена резко растёт. (Не знаю, что могло поспособствовать этому)"
   ]
  },
  {
   "cell_type": "markdown",
   "metadata": {},
   "source": [
    "#### 4.4 Средняя цену одного квадратного метра в 10 населённых пунктах с наибольшим числом объявлений. \n"
   ]
  },
  {
   "cell_type": "code",
   "execution_count": 42,
   "metadata": {},
   "outputs": [
    {
     "data": {
      "text/html": [
       "<div>\n",
       "<style scoped>\n",
       "    .dataframe tbody tr th:only-of-type {\n",
       "        vertical-align: middle;\n",
       "    }\n",
       "\n",
       "    .dataframe tbody tr th {\n",
       "        vertical-align: top;\n",
       "    }\n",
       "\n",
       "    .dataframe thead th {\n",
       "        text-align: right;\n",
       "    }\n",
       "</style>\n",
       "<table border=\"1\" class=\"dataframe\">\n",
       "  <thead>\n",
       "    <tr style=\"text-align: right;\">\n",
       "      <th></th>\n",
       "      <th>sqr_met_price</th>\n",
       "    </tr>\n",
       "    <tr>\n",
       "      <th>locality_name</th>\n",
       "      <th></th>\n",
       "    </tr>\n",
       "  </thead>\n",
       "  <tbody>\n",
       "    <tr>\n",
       "      <th>Санкт-Петербург</th>\n",
       "      <td>103088.491079</td>\n",
       "    </tr>\n",
       "    <tr>\n",
       "      <th>Пушкин</th>\n",
       "      <td>99100.259225</td>\n",
       "    </tr>\n",
       "    <tr>\n",
       "      <th>Кудрово</th>\n",
       "      <td>95481.989146</td>\n",
       "    </tr>\n",
       "    <tr>\n",
       "      <th>Парголово</th>\n",
       "      <td>91096.889181</td>\n",
       "    </tr>\n",
       "    <tr>\n",
       "      <th>Мурино</th>\n",
       "      <td>86319.679353</td>\n",
       "    </tr>\n",
       "    <tr>\n",
       "      <th>Шушары</th>\n",
       "      <td>78398.377217</td>\n",
       "    </tr>\n",
       "    <tr>\n",
       "      <th>Колпино</th>\n",
       "      <td>75087.698865</td>\n",
       "    </tr>\n",
       "    <tr>\n",
       "      <th>Гатчина</th>\n",
       "      <td>68686.272792</td>\n",
       "    </tr>\n",
       "    <tr>\n",
       "      <th>Всеволожск</th>\n",
       "      <td>66856.720092</td>\n",
       "    </tr>\n",
       "    <tr>\n",
       "      <th>Выборг</th>\n",
       "      <td>57338.718270</td>\n",
       "    </tr>\n",
       "  </tbody>\n",
       "</table>\n",
       "</div>"
      ],
      "text/plain": [
       "                 sqr_met_price\n",
       "locality_name                 \n",
       "Санкт-Петербург  103088.491079\n",
       "Пушкин            99100.259225\n",
       "Кудрово           95481.989146\n",
       "Парголово         91096.889181\n",
       "Мурино            86319.679353\n",
       "Шушары            78398.377217\n",
       "Колпино           75087.698865\n",
       "Гатчина           68686.272792\n",
       "Всеволожск        66856.720092\n",
       "Выборг            57338.718270"
      ]
     },
     "execution_count": 42,
     "metadata": {},
     "output_type": "execute_result"
    }
   ],
   "source": [
    "ten_city = data['locality_name'].value_counts().head(10)\n",
    "city_sqr_met_price = data.query('locality_name in (@ten_city.index)').pivot_table(values='sqr_met_price', index='locality_name')\n",
    "city_sqr_met_price.sort_values('sqr_met_price', ascending=False)\n"
   ]
  },
  {
   "cell_type": "markdown",
   "metadata": {},
   "source": [
    "Наибольшая средняя стоимость квадратного метра, как и ожидалось, в Санкт-Петербурге. Затем идут районы, фактически являющиеся Санкт-Петербургом и непосредственно к нему примыкают. Из топ-10 наименьшая стоимость в Выборге и Всеволожске, из которых далеко ехать до Санкт-Петербурга."
   ]
  },
  {
   "cell_type": "code",
   "execution_count": 43,
   "metadata": {},
   "outputs": [
    {
     "data": {
      "text/html": [
       "<div>\n",
       "<style scoped>\n",
       "    .dataframe tbody tr th:only-of-type {\n",
       "        vertical-align: middle;\n",
       "    }\n",
       "\n",
       "    .dataframe tbody tr th {\n",
       "        vertical-align: top;\n",
       "    }\n",
       "\n",
       "    .dataframe thead th {\n",
       "        text-align: right;\n",
       "    }\n",
       "</style>\n",
       "<table border=\"1\" class=\"dataframe\">\n",
       "  <thead>\n",
       "    <tr style=\"text-align: right;\">\n",
       "      <th></th>\n",
       "      <th>balcony</th>\n",
       "      <th>last_price</th>\n",
       "    </tr>\n",
       "    <tr>\n",
       "      <th>locality_name</th>\n",
       "      <th></th>\n",
       "      <th></th>\n",
       "    </tr>\n",
       "  </thead>\n",
       "  <tbody>\n",
       "    <tr>\n",
       "      <th>Санкт-Петербург</th>\n",
       "      <td>10155</td>\n",
       "      <td>4650000.0</td>\n",
       "    </tr>\n",
       "    <tr>\n",
       "      <th>Мурино</th>\n",
       "      <td>550</td>\n",
       "      <td>3369000.0</td>\n",
       "    </tr>\n",
       "    <tr>\n",
       "      <th>Шушары</th>\n",
       "      <td>411</td>\n",
       "      <td>3900000.0</td>\n",
       "    </tr>\n",
       "    <tr>\n",
       "      <th>Кудрово</th>\n",
       "      <td>410</td>\n",
       "      <td>3742500.0</td>\n",
       "    </tr>\n",
       "    <tr>\n",
       "      <th>Всеволожск</th>\n",
       "      <td>346</td>\n",
       "      <td>3300000.0</td>\n",
       "    </tr>\n",
       "    <tr>\n",
       "      <th>Колпино</th>\n",
       "      <td>297</td>\n",
       "      <td>3500000.0</td>\n",
       "    </tr>\n",
       "    <tr>\n",
       "      <th>Парголово</th>\n",
       "      <td>295</td>\n",
       "      <td>4050000.0</td>\n",
       "    </tr>\n",
       "    <tr>\n",
       "      <th>Пушкин</th>\n",
       "      <td>270</td>\n",
       "      <td>4525000.0</td>\n",
       "    </tr>\n",
       "    <tr>\n",
       "      <th>Гатчина</th>\n",
       "      <td>259</td>\n",
       "      <td>3050000.0</td>\n",
       "    </tr>\n",
       "    <tr>\n",
       "      <th>Выборг</th>\n",
       "      <td>181</td>\n",
       "      <td>2700000.0</td>\n",
       "    </tr>\n",
       "  </tbody>\n",
       "</table>\n",
       "</div>"
      ],
      "text/plain": [
       "                 balcony  last_price\n",
       "locality_name                       \n",
       "Санкт-Петербург    10155   4650000.0\n",
       "Мурино               550   3369000.0\n",
       "Шушары               411   3900000.0\n",
       "Кудрово              410   3742500.0\n",
       "Всеволожск           346   3300000.0\n",
       "Колпино              297   3500000.0\n",
       "Парголово            295   4050000.0\n",
       "Пушкин               270   4525000.0\n",
       "Гатчина              259   3050000.0\n",
       "Выборг               181   2700000.0"
      ]
     },
     "execution_count": 43,
     "metadata": {},
     "output_type": "execute_result"
    }
   ],
   "source": [
    "data.groupby('locality_name').agg({'balcony':'count', 'last_price':'median'}) \\\n",
    "    .sort_values(by = 'balcony', ascending = False) \\\n",
    "    .head(10)"
   ]
  },
  {
   "cell_type": "markdown",
   "metadata": {},
   "source": [
    "#### 4.4 Вычисляем среднюю цену каждого километра."
   ]
  },
  {
   "cell_type": "code",
   "execution_count": 44,
   "metadata": {},
   "outputs": [
    {
     "data": {
      "image/png": "[encoded data removed]",
      "text/plain": [
       "<Figure size 1080x360 with 1 Axes>"
      ]
     },
     "metadata": {
      "needs_background": "light"
     },
     "output_type": "display_data"
    }
   ],
   "source": [
    "data.query('locality_name == \"Санкт-Петербург\"').pivot_table(index='city_centre_km', values='last_price')\\\n",
    "    .plot(grid=True, xlim=(0,15), figsize=(15, 5), title = 'Средняя цена каждого км');\n"
   ]
  },
  {
   "cell_type": "markdown",
   "metadata": {},
   "source": [
    "Центральная зона - это 7 км и меньше. Дальше 7 км цена на квартиры снижается."
   ]
  },
  {
   "cell_type": "markdown",
   "metadata": {},
   "source": [
    "### 5. Общие выводы по проекту:"
   ]
  },
  {
   "cell_type": "markdown",
   "metadata": {},
   "source": [
    "5.1.  Срок продажи квартиры\n",
    "Медианное значение продажи квартиры - 105 дней. Если 45(Q1) и меньше дней, то это очень быстрые продажи, если дольше 196(Q3) дней - это долгие продажы. Есть большое число квартир, проданных всего за несколько дней после публикации. Также есть варианты, которые продавались несколько десятков месяцев.\n",
    "\n",
    "5.2.  Факторы, влияющие на стоимость\n",
    "На стоимость больше влияет площадь квартиры, нежели число комнат. Т.е. могут быть дорогие квартиры с малым числом комнат, но где комнаты просторные. Первый этаж значительно дешевле остальных вариантов. Также стоимость квартиры на последнем этаже ниже, чем на остальных, кроме первого.\n",
    "\n",
    "5.3.  Стоимость квадратного метра в топ-10 населённых пунктов\n",
    "Дороже всего квадратный метр в Санкт-Петербурге - 103519.Дешевле всего квадратный метр в Выборге- 57338.\n",
    "\n",
    "5.4.  Факторы, влияющие на стоимость в центре Санкт-Петербурга\n",
    "В центре города практически нет разницы, насколько квартира удалена от условного центра города. В центре города последний этаж практически не влияет на стоимость квартиры, в отличие от остального города. В центре есть очень дорогие однокомнатные квартиры Экономическая ситуация в стране мало влияет на элитную недвижимость в центре"
   ]
  }
 ],
 "metadata": {
  "ExecuteTimeLog": [
   {
    "duration": 589,
    "start_time": "2023-02-11T18:12:06.245Z"
   },
   {
    "duration": 96,
    "start_time": "2023-02-11T18:12:06.836Z"
   },
   {
    "duration": 0,
    "start_time": "2023-02-11T18:12:06.934Z"
   },
   {
    "duration": 0,
    "start_time": "2023-02-11T18:12:06.936Z"
   },
   {
    "duration": 0,
    "start_time": "2023-02-11T18:12:06.937Z"
   },
   {
    "duration": 0,
    "start_time": "2023-02-11T18:12:06.938Z"
   },
   {
    "duration": 0,
    "start_time": "2023-02-11T18:12:06.940Z"
   },
   {
    "duration": 0,
    "start_time": "2023-02-11T18:12:06.942Z"
   },
   {
    "duration": 0,
    "start_time": "2023-02-11T18:12:06.943Z"
   },
   {
    "duration": 0,
    "start_time": "2023-02-11T18:12:06.945Z"
   },
   {
    "duration": 0,
    "start_time": "2023-02-11T18:12:06.946Z"
   },
   {
    "duration": 0,
    "start_time": "2023-02-11T18:12:06.947Z"
   },
   {
    "duration": 0,
    "start_time": "2023-02-11T18:12:06.948Z"
   },
   {
    "duration": 0,
    "start_time": "2023-02-11T18:12:06.949Z"
   },
   {
    "duration": 0,
    "start_time": "2023-02-11T18:12:06.950Z"
   },
   {
    "duration": 0,
    "start_time": "2023-02-11T18:12:06.952Z"
   },
   {
    "duration": 0,
    "start_time": "2023-02-11T18:12:06.953Z"
   },
   {
    "duration": 0,
    "start_time": "2023-02-11T18:12:06.955Z"
   },
   {
    "duration": 0,
    "start_time": "2023-02-11T18:12:06.991Z"
   },
   {
    "duration": 0,
    "start_time": "2023-02-11T18:12:06.993Z"
   },
   {
    "duration": 0,
    "start_time": "2023-02-11T18:12:06.995Z"
   },
   {
    "duration": 0,
    "start_time": "2023-02-11T18:12:06.996Z"
   },
   {
    "duration": 0,
    "start_time": "2023-02-11T18:12:06.998Z"
   },
   {
    "duration": 0,
    "start_time": "2023-02-11T18:12:06.999Z"
   },
   {
    "duration": 0,
    "start_time": "2023-02-11T18:12:07.000Z"
   },
   {
    "duration": 0,
    "start_time": "2023-02-11T18:12:07.002Z"
   },
   {
    "duration": 0,
    "start_time": "2023-02-11T18:12:07.005Z"
   },
   {
    "duration": 0,
    "start_time": "2023-02-11T18:12:07.006Z"
   },
   {
    "duration": 0,
    "start_time": "2023-02-11T18:12:07.008Z"
   },
   {
    "duration": 0,
    "start_time": "2023-02-11T18:12:07.009Z"
   },
   {
    "duration": 0,
    "start_time": "2023-02-11T18:12:07.010Z"
   },
   {
    "duration": 0,
    "start_time": "2023-02-11T18:12:07.012Z"
   },
   {
    "duration": 0,
    "start_time": "2023-02-11T18:12:07.013Z"
   },
   {
    "duration": 0,
    "start_time": "2023-02-11T18:12:07.014Z"
   },
   {
    "duration": 0,
    "start_time": "2023-02-11T18:12:07.016Z"
   },
   {
    "duration": 0,
    "start_time": "2023-02-11T18:12:07.017Z"
   },
   {
    "duration": 0,
    "start_time": "2023-02-11T18:12:07.019Z"
   },
   {
    "duration": 0,
    "start_time": "2023-02-11T18:12:07.020Z"
   },
   {
    "duration": 0,
    "start_time": "2023-02-11T18:12:07.021Z"
   },
   {
    "duration": 0,
    "start_time": "2023-02-11T18:12:07.022Z"
   },
   {
    "duration": 674,
    "start_time": "2023-02-11T18:15:26.395Z"
   },
   {
    "duration": 128,
    "start_time": "2023-02-11T18:15:27.071Z"
   },
   {
    "duration": 23,
    "start_time": "2023-02-11T18:15:27.201Z"
   },
   {
    "duration": 2000,
    "start_time": "2023-02-11T18:15:27.226Z"
   },
   {
    "duration": 10,
    "start_time": "2023-02-11T18:15:29.228Z"
   },
   {
    "duration": 9,
    "start_time": "2023-02-11T18:15:29.241Z"
   },
   {
    "duration": 580,
    "start_time": "2023-02-11T18:15:29.253Z"
   },
   {
    "duration": 7,
    "start_time": "2023-02-11T18:15:29.835Z"
   },
   {
    "duration": 13,
    "start_time": "2023-02-11T18:15:29.844Z"
   },
   {
    "duration": 8,
    "start_time": "2023-02-11T18:15:29.858Z"
   },
   {
    "duration": 53,
    "start_time": "2023-02-11T18:15:29.868Z"
   },
   {
    "duration": 191,
    "start_time": "2023-02-11T18:15:29.923Z"
   },
   {
    "duration": 30,
    "start_time": "2023-02-11T18:15:30.116Z"
   },
   {
    "duration": 132,
    "start_time": "2023-02-11T18:15:30.149Z"
   },
   {
    "duration": 177,
    "start_time": "2023-02-11T18:15:30.282Z"
   },
   {
    "duration": 308,
    "start_time": "2023-02-11T18:15:30.461Z"
   },
   {
    "duration": 260,
    "start_time": "2023-02-11T18:15:30.771Z"
   },
   {
    "duration": 221,
    "start_time": "2023-02-11T18:15:31.033Z"
   },
   {
    "duration": 247,
    "start_time": "2023-02-11T18:15:31.256Z"
   },
   {
    "duration": 171,
    "start_time": "2023-02-11T18:15:31.505Z"
   },
   {
    "duration": 171,
    "start_time": "2023-02-11T18:15:31.678Z"
   },
   {
    "duration": 175,
    "start_time": "2023-02-11T18:15:31.851Z"
   },
   {
    "duration": 143,
    "start_time": "2023-02-11T18:15:32.027Z"
   },
   {
    "duration": 175,
    "start_time": "2023-02-11T18:15:32.172Z"
   },
   {
    "duration": 210,
    "start_time": "2023-02-11T18:15:32.349Z"
   },
   {
    "duration": 288,
    "start_time": "2023-02-11T18:15:32.560Z"
   },
   {
    "duration": 199,
    "start_time": "2023-02-11T18:15:32.850Z"
   },
   {
    "duration": 163,
    "start_time": "2023-02-11T18:15:33.051Z"
   },
   {
    "duration": 189,
    "start_time": "2023-02-11T18:15:33.217Z"
   },
   {
    "duration": 189,
    "start_time": "2023-02-11T18:15:33.408Z"
   },
   {
    "duration": 192,
    "start_time": "2023-02-11T18:15:33.599Z"
   },
   {
    "duration": 182,
    "start_time": "2023-02-11T18:15:33.793Z"
   },
   {
    "duration": 173,
    "start_time": "2023-02-11T18:15:33.977Z"
   },
   {
    "duration": 168,
    "start_time": "2023-02-11T18:15:34.153Z"
   },
   {
    "duration": 174,
    "start_time": "2023-02-11T18:15:34.324Z"
   },
   {
    "duration": 193,
    "start_time": "2023-02-11T18:15:34.499Z"
   },
   {
    "duration": 171,
    "start_time": "2023-02-11T18:15:34.693Z"
   },
   {
    "duration": 303,
    "start_time": "2023-02-11T18:15:34.866Z"
   },
   {
    "duration": 38,
    "start_time": "2023-02-11T18:15:35.171Z"
   },
   {
    "duration": 219,
    "start_time": "2023-02-11T18:15:35.211Z"
   },
   {
    "duration": 17,
    "start_time": "2023-02-11T18:17:13.245Z"
   },
   {
    "duration": 707,
    "start_time": "2023-02-11T18:17:19.859Z"
   },
   {
    "duration": 148,
    "start_time": "2023-02-11T18:17:20.569Z"
   },
   {
    "duration": 23,
    "start_time": "2023-02-11T18:17:20.720Z"
   },
   {
    "duration": 2078,
    "start_time": "2023-02-11T18:17:20.746Z"
   },
   {
    "duration": 9,
    "start_time": "2023-02-11T18:17:22.826Z"
   },
   {
    "duration": 15,
    "start_time": "2023-02-11T18:17:22.837Z"
   },
   {
    "duration": 584,
    "start_time": "2023-02-11T18:17:22.854Z"
   },
   {
    "duration": 8,
    "start_time": "2023-02-11T18:17:23.440Z"
   },
   {
    "duration": 15,
    "start_time": "2023-02-11T18:17:23.449Z"
   },
   {
    "duration": 30,
    "start_time": "2023-02-11T18:17:23.465Z"
   },
   {
    "duration": 37,
    "start_time": "2023-02-11T18:17:23.497Z"
   },
   {
    "duration": 201,
    "start_time": "2023-02-11T18:17:23.536Z"
   },
   {
    "duration": 29,
    "start_time": "2023-02-11T18:17:23.740Z"
   },
   {
    "duration": 138,
    "start_time": "2023-02-11T18:17:23.792Z"
   },
   {
    "duration": 13,
    "start_time": "2023-02-11T18:17:23.932Z"
   },
   {
    "duration": 184,
    "start_time": "2023-02-11T18:17:23.947Z"
   },
   {
    "duration": 281,
    "start_time": "2023-02-11T18:17:24.133Z"
   },
   {
    "duration": 252,
    "start_time": "2023-02-11T18:17:24.416Z"
   },
   {
    "duration": 215,
    "start_time": "2023-02-11T18:17:24.670Z"
   },
   {
    "duration": 220,
    "start_time": "2023-02-11T18:17:24.887Z"
   },
   {
    "duration": 165,
    "start_time": "2023-02-11T18:17:25.109Z"
   },
   {
    "duration": 176,
    "start_time": "2023-02-11T18:17:25.276Z"
   },
   {
    "duration": 183,
    "start_time": "2023-02-11T18:17:25.454Z"
   },
   {
    "duration": 153,
    "start_time": "2023-02-11T18:17:25.640Z"
   },
   {
    "duration": 199,
    "start_time": "2023-02-11T18:17:25.795Z"
   },
   {
    "duration": 279,
    "start_time": "2023-02-11T18:17:25.997Z"
   },
   {
    "duration": 314,
    "start_time": "2023-02-11T18:17:26.278Z"
   },
   {
    "duration": 200,
    "start_time": "2023-02-11T18:17:26.594Z"
   },
   {
    "duration": 157,
    "start_time": "2023-02-11T18:17:26.796Z"
   },
   {
    "duration": 160,
    "start_time": "2023-02-11T18:17:26.954Z"
   },
   {
    "duration": 186,
    "start_time": "2023-02-11T18:17:27.117Z"
   },
   {
    "duration": 189,
    "start_time": "2023-02-11T18:17:27.305Z"
   },
   {
    "duration": 190,
    "start_time": "2023-02-11T18:17:27.496Z"
   },
   {
    "duration": 169,
    "start_time": "2023-02-11T18:17:27.692Z"
   },
   {
    "duration": 168,
    "start_time": "2023-02-11T18:17:27.863Z"
   },
   {
    "duration": 167,
    "start_time": "2023-02-11T18:17:28.033Z"
   },
   {
    "duration": 195,
    "start_time": "2023-02-11T18:17:28.202Z"
   },
   {
    "duration": 204,
    "start_time": "2023-02-11T18:17:28.399Z"
   },
   {
    "duration": 291,
    "start_time": "2023-02-11T18:17:28.604Z"
   },
   {
    "duration": 21,
    "start_time": "2023-02-11T18:17:28.897Z"
   },
   {
    "duration": 195,
    "start_time": "2023-02-11T18:17:28.922Z"
   },
   {
    "duration": 15,
    "start_time": "2023-02-11T18:21:01.707Z"
   },
   {
    "duration": 189,
    "start_time": "2023-02-11T18:21:25.534Z"
   },
   {
    "duration": 85,
    "start_time": "2023-02-12T18:10:24.825Z"
   },
   {
    "duration": 797,
    "start_time": "2023-02-12T18:10:30.668Z"
   },
   {
    "duration": 72,
    "start_time": "2023-02-12T18:10:31.501Z"
   },
   {
    "duration": 80,
    "start_time": "2023-02-12T18:10:43.814Z"
   },
   {
    "duration": 70,
    "start_time": "2023-02-12T18:10:57.268Z"
   },
   {
    "duration": 331,
    "start_time": "2023-02-12T18:11:09.454Z"
   },
   {
    "duration": 129,
    "start_time": "2023-02-12T18:11:19.941Z"
   },
   {
    "duration": 132,
    "start_time": "2023-02-12T18:11:39.956Z"
   },
   {
    "duration": 15,
    "start_time": "2023-02-12T18:13:07.815Z"
   },
   {
    "duration": 2114,
    "start_time": "2023-02-12T18:13:30.434Z"
   },
   {
    "duration": 10,
    "start_time": "2023-02-12T18:13:39.846Z"
   },
   {
    "duration": 112,
    "start_time": "2023-02-12T18:14:11.422Z"
   },
   {
    "duration": 58,
    "start_time": "2023-02-12T18:14:16.706Z"
   },
   {
    "duration": 9,
    "start_time": "2023-02-12T18:24:16.284Z"
   },
   {
    "duration": 3,
    "start_time": "2023-02-12T18:24:28.194Z"
   },
   {
    "duration": 135,
    "start_time": "2023-02-12T18:24:28.905Z"
   },
   {
    "duration": 16,
    "start_time": "2023-02-12T18:24:31.255Z"
   },
   {
    "duration": 2061,
    "start_time": "2023-02-12T18:24:31.936Z"
   },
   {
    "duration": 13,
    "start_time": "2023-02-12T18:24:34.824Z"
   },
   {
    "duration": 18,
    "start_time": "2023-02-12T18:24:35.808Z"
   },
   {
    "duration": 8,
    "start_time": "2023-02-12T18:24:38.292Z"
   },
   {
    "duration": 518,
    "start_time": "2023-02-12T18:24:46.080Z"
   },
   {
    "duration": 10,
    "start_time": "2023-02-12T18:24:51.633Z"
   },
   {
    "duration": 10,
    "start_time": "2023-02-12T18:24:53.233Z"
   },
   {
    "duration": 10,
    "start_time": "2023-02-12T18:25:01.301Z"
   },
   {
    "duration": 9,
    "start_time": "2023-02-12T18:25:03.304Z"
   },
   {
    "duration": 31,
    "start_time": "2023-02-12T18:25:06.432Z"
   },
   {
    "duration": 195,
    "start_time": "2023-02-12T18:25:09.458Z"
   },
   {
    "duration": 10,
    "start_time": "2023-02-12T18:25:13.111Z"
   },
   {
    "duration": 17,
    "start_time": "2023-02-12T18:25:39.520Z"
   },
   {
    "duration": 16,
    "start_time": "2023-02-12T18:34:32.715Z"
   },
   {
    "duration": 27,
    "start_time": "2023-02-12T18:34:41.716Z"
   },
   {
    "duration": 12,
    "start_time": "2023-02-12T18:34:44.741Z"
   },
   {
    "duration": 128,
    "start_time": "2023-02-12T18:34:58.422Z"
   },
   {
    "duration": 17,
    "start_time": "2023-02-12T18:34:59.562Z"
   },
   {
    "duration": 2048,
    "start_time": "2023-02-12T18:34:59.787Z"
   },
   {
    "duration": 10,
    "start_time": "2023-02-12T18:35:01.837Z"
   },
   {
    "duration": 17,
    "start_time": "2023-02-12T18:35:02.556Z"
   },
   {
    "duration": 7,
    "start_time": "2023-02-12T18:35:03.448Z"
   },
   {
    "duration": 680,
    "start_time": "2023-02-12T18:35:04.508Z"
   },
   {
    "duration": 7,
    "start_time": "2023-02-12T18:35:05.483Z"
   },
   {
    "duration": 9,
    "start_time": "2023-02-12T18:35:06.011Z"
   },
   {
    "duration": 10,
    "start_time": "2023-02-12T18:35:07.250Z"
   },
   {
    "duration": 21,
    "start_time": "2023-02-12T18:35:09.642Z"
   },
   {
    "duration": 188,
    "start_time": "2023-02-12T18:35:10.970Z"
   },
   {
    "duration": 10,
    "start_time": "2023-02-12T18:35:12.986Z"
   },
   {
    "duration": 335,
    "start_time": "2023-02-12T18:40:20.078Z"
   },
   {
    "duration": 11,
    "start_time": "2023-02-12T18:40:24.017Z"
   },
   {
    "duration": 337,
    "start_time": "2023-02-12T18:40:30.725Z"
   },
   {
    "duration": 8,
    "start_time": "2023-02-12T18:40:34.740Z"
   },
   {
    "duration": 10,
    "start_time": "2023-02-12T18:40:35.597Z"
   },
   {
    "duration": 327,
    "start_time": "2023-02-12T18:40:49.997Z"
   },
   {
    "duration": 8,
    "start_time": "2023-02-12T18:40:52.436Z"
   },
   {
    "duration": 10,
    "start_time": "2023-02-12T18:40:53.234Z"
   },
   {
    "duration": 331,
    "start_time": "2023-02-12T18:41:27.772Z"
   },
   {
    "duration": 7,
    "start_time": "2023-02-12T18:41:29.964Z"
   },
   {
    "duration": 10,
    "start_time": "2023-02-12T18:41:30.564Z"
   },
   {
    "duration": 478,
    "start_time": "2023-02-12T18:43:03.134Z"
   },
   {
    "duration": 9,
    "start_time": "2023-02-12T18:43:05.642Z"
   },
   {
    "duration": 670,
    "start_time": "2023-02-12T18:45:05.310Z"
   },
   {
    "duration": 653,
    "start_time": "2023-02-12T18:45:09.167Z"
   },
   {
    "duration": 11,
    "start_time": "2023-02-12T18:45:11.453Z"
   },
   {
    "duration": 2,
    "start_time": "2023-02-12T18:45:20.719Z"
   },
   {
    "duration": 127,
    "start_time": "2023-02-12T18:45:21.201Z"
   },
   {
    "duration": 16,
    "start_time": "2023-02-12T18:45:22.174Z"
   },
   {
    "duration": 2014,
    "start_time": "2023-02-12T18:45:22.511Z"
   },
   {
    "duration": 13,
    "start_time": "2023-02-12T18:45:24.528Z"
   },
   {
    "duration": 21,
    "start_time": "2023-02-12T18:45:24.543Z"
   },
   {
    "duration": 27,
    "start_time": "2023-02-12T18:45:24.567Z"
   },
   {
    "duration": 1025,
    "start_time": "2023-02-12T18:45:26.105Z"
   },
   {
    "duration": 7,
    "start_time": "2023-02-12T18:45:28.138Z"
   },
   {
    "duration": 8,
    "start_time": "2023-02-12T18:45:28.606Z"
   },
   {
    "duration": 129,
    "start_time": "2023-02-12T18:45:40.864Z"
   },
   {
    "duration": 15,
    "start_time": "2023-02-12T18:45:45.574Z"
   },
   {
    "duration": 1959,
    "start_time": "2023-02-12T18:45:49.051Z"
   },
   {
    "duration": 15,
    "start_time": "2023-02-12T18:45:51.012Z"
   },
   {
    "duration": 16,
    "start_time": "2023-02-12T18:45:55.767Z"
   },
   {
    "duration": 8,
    "start_time": "2023-02-12T18:46:00.117Z"
   },
   {
    "duration": 955,
    "start_time": "2023-02-12T18:46:02.205Z"
   },
   {
    "duration": 7,
    "start_time": "2023-02-12T18:46:14.822Z"
   },
   {
    "duration": 9,
    "start_time": "2023-02-12T18:46:15.381Z"
   },
   {
    "duration": 118,
    "start_time": "2023-02-12T18:46:28.340Z"
   },
   {
    "duration": 10,
    "start_time": "2023-02-12T18:46:32.747Z"
   },
   {
    "duration": 9,
    "start_time": "2023-02-12T18:46:37.864Z"
   },
   {
    "duration": 7,
    "start_time": "2023-02-12T18:46:43.719Z"
   },
   {
    "duration": 11,
    "start_time": "2023-02-12T18:46:45.074Z"
   },
   {
    "duration": 1046,
    "start_time": "2023-02-12T18:46:49.654Z"
   },
   {
    "duration": 8,
    "start_time": "2023-02-12T18:46:52.917Z"
   },
   {
    "duration": 10,
    "start_time": "2023-02-12T18:46:53.587Z"
   },
   {
    "duration": 70,
    "start_time": "2023-02-12T18:47:49.940Z"
   },
   {
    "duration": 10,
    "start_time": "2023-02-12T18:47:59.053Z"
   },
   {
    "duration": 21,
    "start_time": "2023-02-12T18:48:01.546Z"
   },
   {
    "duration": 213,
    "start_time": "2023-02-12T18:48:02.446Z"
   },
   {
    "duration": 9,
    "start_time": "2023-02-12T18:48:04.045Z"
   },
   {
    "duration": 36,
    "start_time": "2023-02-12T18:48:04.878Z"
   },
   {
    "duration": 26,
    "start_time": "2023-02-12T18:48:12.045Z"
   },
   {
    "duration": 131,
    "start_time": "2023-02-12T18:48:12.842Z"
   },
   {
    "duration": 12,
    "start_time": "2023-02-12T18:48:17.165Z"
   },
   {
    "duration": 14,
    "start_time": "2023-02-12T18:48:20.807Z"
   },
   {
    "duration": 12,
    "start_time": "2023-02-12T18:49:11.455Z"
   },
   {
    "duration": 31,
    "start_time": "2023-02-12T18:50:42.296Z"
   },
   {
    "duration": 120,
    "start_time": "2023-02-12T18:50:43.859Z"
   },
   {
    "duration": 135,
    "start_time": "2023-02-12T19:15:11.116Z"
   },
   {
    "duration": 18,
    "start_time": "2023-02-12T19:15:14.872Z"
   },
   {
    "duration": 10,
    "start_time": "2023-02-12T19:15:18.632Z"
   },
   {
    "duration": 7,
    "start_time": "2023-02-12T19:15:21.872Z"
   },
   {
    "duration": 593,
    "start_time": "2023-02-12T19:15:26.217Z"
   },
   {
    "duration": 9,
    "start_time": "2023-02-12T19:15:30.051Z"
   },
   {
    "duration": 8,
    "start_time": "2023-02-12T19:16:00.914Z"
   },
   {
    "duration": 9,
    "start_time": "2023-02-12T19:16:02.361Z"
   },
   {
    "duration": 10,
    "start_time": "2023-02-12T19:16:09.913Z"
   },
   {
    "duration": 23,
    "start_time": "2023-02-12T19:16:12.710Z"
   },
   {
    "duration": 199,
    "start_time": "2023-02-12T19:16:14.771Z"
   },
   {
    "duration": 10,
    "start_time": "2023-02-12T19:16:17.761Z"
   },
   {
    "duration": 183,
    "start_time": "2023-02-12T19:16:47.626Z"
   },
   {
    "duration": 177,
    "start_time": "2023-02-12T19:17:04.003Z"
   },
   {
    "duration": 203,
    "start_time": "2023-02-12T19:17:35.042Z"
   },
   {
    "duration": 137,
    "start_time": "2023-02-12T19:22:12.089Z"
   },
   {
    "duration": 211,
    "start_time": "2023-02-12T19:23:08.392Z"
   },
   {
    "duration": 170,
    "start_time": "2023-02-12T19:24:25.139Z"
   },
   {
    "duration": 89,
    "start_time": "2023-02-12T19:25:00.404Z"
   },
   {
    "duration": 143,
    "start_time": "2023-02-12T19:25:07.946Z"
   },
   {
    "duration": 866,
    "start_time": "2023-02-12T19:26:11.484Z"
   },
   {
    "duration": 34,
    "start_time": "2023-02-12T19:26:38.729Z"
   },
   {
    "duration": 140,
    "start_time": "2023-02-12T19:26:41.690Z"
   },
   {
    "duration": 34,
    "start_time": "2023-02-12T19:26:56.657Z"
   },
   {
    "duration": 184,
    "start_time": "2023-02-12T19:26:57.847Z"
   },
   {
    "duration": 42,
    "start_time": "2023-02-12T19:27:20.468Z"
   },
   {
    "duration": 168,
    "start_time": "2023-02-12T19:27:21.011Z"
   },
   {
    "duration": 29,
    "start_time": "2023-02-12T19:27:35.966Z"
   },
   {
    "duration": 139,
    "start_time": "2023-02-12T19:27:37.260Z"
   },
   {
    "duration": 179,
    "start_time": "2023-02-12T19:27:47.684Z"
   },
   {
    "duration": 181,
    "start_time": "2023-02-12T19:28:00.301Z"
   },
   {
    "duration": 30,
    "start_time": "2023-02-12T19:28:27.784Z"
   },
   {
    "duration": 200,
    "start_time": "2023-02-12T19:28:28.308Z"
   },
   {
    "duration": 34,
    "start_time": "2023-02-12T19:28:37.069Z"
   },
   {
    "duration": 163,
    "start_time": "2023-02-12T19:28:37.571Z"
   },
   {
    "duration": 43,
    "start_time": "2023-02-12T19:28:50.164Z"
   },
   {
    "duration": 214,
    "start_time": "2023-02-12T19:28:50.685Z"
   },
   {
    "duration": 42,
    "start_time": "2023-02-12T19:28:58.041Z"
   },
   {
    "duration": 176,
    "start_time": "2023-02-12T19:28:58.467Z"
   },
   {
    "duration": 52,
    "start_time": "2023-02-12T19:29:06.086Z"
   },
   {
    "duration": 155,
    "start_time": "2023-02-12T19:29:06.622Z"
   },
   {
    "duration": 39,
    "start_time": "2023-02-12T19:29:14.775Z"
   },
   {
    "duration": 178,
    "start_time": "2023-02-12T19:29:15.237Z"
   },
   {
    "duration": 143,
    "start_time": "2023-02-12T19:29:32.100Z"
   },
   {
    "duration": 32,
    "start_time": "2023-02-12T19:29:44.748Z"
   },
   {
    "duration": 200,
    "start_time": "2023-02-12T19:29:45.276Z"
   },
   {
    "duration": 174,
    "start_time": "2023-02-12T19:29:57.696Z"
   },
   {
    "duration": 39,
    "start_time": "2023-02-12T19:30:09.513Z"
   },
   {
    "duration": 131,
    "start_time": "2023-02-12T19:30:10.057Z"
   },
   {
    "duration": 133,
    "start_time": "2023-02-12T19:30:20.844Z"
   },
   {
    "duration": 35,
    "start_time": "2023-02-12T19:30:31.018Z"
   },
   {
    "duration": 177,
    "start_time": "2023-02-12T19:30:31.393Z"
   },
   {
    "duration": 33,
    "start_time": "2023-02-12T19:30:47.763Z"
   },
   {
    "duration": 149,
    "start_time": "2023-02-12T19:30:48.196Z"
   },
   {
    "duration": 215,
    "start_time": "2023-02-12T19:30:59.236Z"
   },
   {
    "duration": 15,
    "start_time": "2023-02-12T19:31:02.740Z"
   },
   {
    "duration": 79,
    "start_time": "2023-02-12T19:32:02.740Z"
   },
   {
    "duration": 212,
    "start_time": "2023-02-12T19:43:50.348Z"
   },
   {
    "duration": 16,
    "start_time": "2023-02-12T19:43:51.271Z"
   },
   {
    "duration": 2169,
    "start_time": "2023-02-12T19:43:51.538Z"
   },
   {
    "duration": 31,
    "start_time": "2023-02-12T19:43:53.709Z"
   },
   {
    "duration": 32,
    "start_time": "2023-02-12T19:43:53.743Z"
   },
   {
    "duration": 13,
    "start_time": "2023-02-12T19:43:54.664Z"
   },
   {
    "duration": 751,
    "start_time": "2023-02-12T19:43:56.239Z"
   },
   {
    "duration": 9,
    "start_time": "2023-02-12T19:43:57.649Z"
   },
   {
    "duration": 10,
    "start_time": "2023-02-12T19:43:58.192Z"
   },
   {
    "duration": 11,
    "start_time": "2023-02-12T19:43:59.237Z"
   },
   {
    "duration": 25,
    "start_time": "2023-02-12T19:44:00.374Z"
   },
   {
    "duration": 243,
    "start_time": "2023-02-12T19:44:01.406Z"
   },
   {
    "duration": 11,
    "start_time": "2023-02-12T19:44:02.937Z"
   },
   {
    "duration": 33,
    "start_time": "2023-02-12T19:44:03.140Z"
   },
   {
    "duration": 145,
    "start_time": "2023-02-12T19:44:03.895Z"
   },
   {
    "duration": 19,
    "start_time": "2023-02-12T19:44:08.524Z"
   },
   {
    "duration": 280,
    "start_time": "2023-02-12T19:44:19.286Z"
   },
   {
    "duration": 258,
    "start_time": "2023-02-12T19:44:28.189Z"
   },
   {
    "duration": 281,
    "start_time": "2023-02-12T19:44:33.839Z"
   },
   {
    "duration": 225,
    "start_time": "2023-02-12T19:44:35.248Z"
   },
   {
    "duration": 212,
    "start_time": "2023-02-12T19:44:40.925Z"
   },
   {
    "duration": 153,
    "start_time": "2023-02-12T19:44:42.062Z"
   },
   {
    "duration": 235,
    "start_time": "2023-02-12T19:44:43.767Z"
   },
   {
    "duration": 188,
    "start_time": "2023-02-12T19:44:50.458Z"
   },
   {
    "duration": 161,
    "start_time": "2023-02-12T19:44:51.554Z"
   },
   {
    "duration": 191,
    "start_time": "2023-02-12T19:44:56.751Z"
   },
   {
    "duration": 190,
    "start_time": "2023-02-12T19:45:00.460Z"
   },
   {
    "duration": 204,
    "start_time": "2023-02-12T19:45:04.036Z"
   },
   {
    "duration": 216,
    "start_time": "2023-02-12T19:45:06.533Z"
   },
   {
    "duration": 194,
    "start_time": "2023-02-12T19:45:07.503Z"
   },
   {
    "duration": 174,
    "start_time": "2023-02-12T19:45:10.374Z"
   },
   {
    "duration": 510,
    "start_time": "2023-02-12T19:45:38.161Z"
   },
   {
    "duration": 329,
    "start_time": "2023-02-12T19:56:02.080Z"
   },
   {
    "duration": 206,
    "start_time": "2023-02-12T19:56:10.769Z"
   },
   {
    "duration": 303,
    "start_time": "2023-02-12T19:56:20.201Z"
   },
   {
    "duration": 233,
    "start_time": "2023-02-12T19:56:27.678Z"
   },
   {
    "duration": 215,
    "start_time": "2023-02-12T19:56:33.181Z"
   },
   {
    "duration": 281,
    "start_time": "2023-02-12T19:56:36.660Z"
   },
   {
    "duration": 199,
    "start_time": "2023-02-12T19:56:42.292Z"
   },
   {
    "duration": 285,
    "start_time": "2023-02-12T19:56:46.100Z"
   },
   {
    "duration": 40,
    "start_time": "2023-02-12T19:56:50.346Z"
   },
   {
    "duration": 15,
    "start_time": "2023-02-12T19:57:35.242Z"
   },
   {
    "duration": 792,
    "start_time": "2023-02-13T08:17:46.593Z"
   },
   {
    "duration": 179,
    "start_time": "2023-02-13T08:17:47.398Z"
   },
   {
    "duration": 15,
    "start_time": "2023-02-13T08:17:49.784Z"
   },
   {
    "duration": 1990,
    "start_time": "2023-02-13T08:17:50.441Z"
   },
   {
    "duration": 9,
    "start_time": "2023-02-13T08:17:53.141Z"
   },
   {
    "duration": 51,
    "start_time": "2023-02-13T08:17:53.782Z"
   },
   {
    "duration": 7,
    "start_time": "2023-02-13T08:17:55.621Z"
   },
   {
    "duration": 567,
    "start_time": "2023-02-13T08:17:57.003Z"
   },
   {
    "duration": 6,
    "start_time": "2023-02-13T08:17:59.225Z"
   },
   {
    "duration": 8,
    "start_time": "2023-02-13T08:17:59.938Z"
   },
   {
    "duration": 9,
    "start_time": "2023-02-13T08:18:01.378Z"
   },
   {
    "duration": 22,
    "start_time": "2023-02-13T08:18:03.139Z"
   },
   {
    "duration": 174,
    "start_time": "2023-02-13T08:18:04.255Z"
   },
   {
    "duration": 9,
    "start_time": "2023-02-13T08:18:07.304Z"
   },
   {
    "duration": 33,
    "start_time": "2023-02-13T08:18:07.950Z"
   },
   {
    "duration": 116,
    "start_time": "2023-02-13T08:18:08.662Z"
   },
   {
    "duration": 13,
    "start_time": "2023-02-13T08:18:10.743Z"
   },
   {
    "duration": 317,
    "start_time": "2023-02-13T08:18:14.140Z"
   },
   {
    "duration": 191,
    "start_time": "2023-02-13T08:18:25.466Z"
   },
   {
    "duration": 220,
    "start_time": "2023-02-13T08:18:27.218Z"
   },
   {
    "duration": 191,
    "start_time": "2023-02-13T08:18:29.000Z"
   },
   {
    "duration": 181,
    "start_time": "2023-02-13T08:18:29.938Z"
   },
   {
    "duration": 144,
    "start_time": "2023-02-13T08:18:31.146Z"
   },
   {
    "duration": 138,
    "start_time": "2023-02-13T08:18:32.033Z"
   },
   {
    "duration": 157,
    "start_time": "2023-02-13T08:18:33.312Z"
   },
   {
    "duration": 132,
    "start_time": "2023-02-13T08:18:34.687Z"
   },
   {
    "duration": 152,
    "start_time": "2023-02-13T08:18:36.024Z"
   },
   {
    "duration": 259,
    "start_time": "2023-02-13T08:18:36.828Z"
   },
   {
    "duration": 170,
    "start_time": "2023-02-13T08:18:37.226Z"
   },
   {
    "duration": 174,
    "start_time": "2023-02-13T08:18:37.626Z"
   },
   {
    "duration": 164,
    "start_time": "2023-02-13T08:18:38.826Z"
   },
   {
    "duration": 149,
    "start_time": "2023-02-13T08:18:39.865Z"
   },
   {
    "duration": 385,
    "start_time": "2023-02-13T08:18:40.739Z"
   },
   {
    "duration": 191,
    "start_time": "2023-02-13T08:18:45.703Z"
   },
   {
    "duration": 2,
    "start_time": "2023-02-13T08:44:31.997Z"
   },
   {
    "duration": 122,
    "start_time": "2023-02-13T08:44:32.806Z"
   },
   {
    "duration": 16,
    "start_time": "2023-02-13T08:44:34.798Z"
   },
   {
    "duration": 2017,
    "start_time": "2023-02-13T08:44:35.438Z"
   },
   {
    "duration": 9,
    "start_time": "2023-02-13T08:44:37.457Z"
   },
   {
    "duration": 28,
    "start_time": "2023-02-13T08:44:37.467Z"
   },
   {
    "duration": 8,
    "start_time": "2023-02-13T08:44:38.319Z"
   },
   {
    "duration": 606,
    "start_time": "2023-02-13T08:44:38.900Z"
   },
   {
    "duration": 8,
    "start_time": "2023-02-13T08:44:39.507Z"
   },
   {
    "duration": 18,
    "start_time": "2023-02-13T08:44:39.516Z"
   },
   {
    "duration": 10,
    "start_time": "2023-02-13T08:44:39.536Z"
   },
   {
    "duration": 23,
    "start_time": "2023-02-13T08:44:39.852Z"
   },
   {
    "duration": 252,
    "start_time": "2023-02-13T08:44:40.159Z"
   },
   {
    "duration": 10,
    "start_time": "2023-02-13T08:44:40.964Z"
   },
   {
    "duration": 30,
    "start_time": "2023-02-13T08:44:41.052Z"
   },
   {
    "duration": 124,
    "start_time": "2023-02-13T08:44:41.119Z"
   },
   {
    "duration": 16,
    "start_time": "2023-02-13T08:44:41.604Z"
   },
   {
    "duration": 351,
    "start_time": "2023-02-13T08:44:45.526Z"
   },
   {
    "duration": 197,
    "start_time": "2023-02-13T08:44:48.569Z"
   },
   {
    "duration": 234,
    "start_time": "2023-02-13T08:44:49.523Z"
   },
   {
    "duration": 198,
    "start_time": "2023-02-13T08:44:50.893Z"
   },
   {
    "duration": 200,
    "start_time": "2023-02-13T08:44:52.081Z"
   },
   {
    "duration": 145,
    "start_time": "2023-02-13T08:44:53.280Z"
   },
   {
    "duration": 143,
    "start_time": "2023-02-13T08:44:54.481Z"
   },
   {
    "duration": 157,
    "start_time": "2023-02-13T08:44:55.298Z"
   },
   {
    "duration": 129,
    "start_time": "2023-02-13T08:44:55.537Z"
   },
   {
    "duration": 241,
    "start_time": "2023-02-13T08:44:56.680Z"
   },
   {
    "duration": 173,
    "start_time": "2023-02-13T08:44:57.606Z"
   },
   {
    "duration": 176,
    "start_time": "2023-02-13T08:44:57.927Z"
   },
   {
    "duration": 206,
    "start_time": "2023-02-13T08:44:58.105Z"
   },
   {
    "duration": 159,
    "start_time": "2023-02-13T08:44:59.281Z"
   },
   {
    "duration": 150,
    "start_time": "2023-02-13T08:44:59.681Z"
   },
   {
    "duration": 416,
    "start_time": "2023-02-13T08:45:00.080Z"
   },
   {
    "duration": 230,
    "start_time": "2023-02-13T08:45:10.478Z"
   },
   {
    "duration": 196,
    "start_time": "2023-02-13T08:45:37.527Z"
   },
   {
    "duration": 295,
    "start_time": "2023-02-13T08:47:05.292Z"
   },
   {
    "duration": 195,
    "start_time": "2023-02-13T08:55:03.997Z"
   },
   {
    "duration": 192,
    "start_time": "2023-02-13T08:55:18.237Z"
   },
   {
    "duration": 276,
    "start_time": "2023-02-13T09:00:36.448Z"
   },
   {
    "duration": 250,
    "start_time": "2023-02-13T09:00:47.566Z"
   },
   {
    "duration": 57,
    "start_time": "2023-02-13T09:01:41.088Z"
   },
   {
    "duration": 51,
    "start_time": "2023-02-13T09:02:02.454Z"
   },
   {
    "duration": 212,
    "start_time": "2023-02-13T09:02:23.006Z"
   },
   {
    "duration": 3,
    "start_time": "2023-02-13T09:18:32.157Z"
   },
   {
    "duration": 118,
    "start_time": "2023-02-13T09:18:32.797Z"
   },
   {
    "duration": 15,
    "start_time": "2023-02-13T09:18:33.445Z"
   },
   {
    "duration": 1947,
    "start_time": "2023-02-13T09:18:33.677Z"
   },
   {
    "duration": 9,
    "start_time": "2023-02-13T09:18:38.406Z"
   },
   {
    "duration": 18,
    "start_time": "2023-02-13T09:18:39.597Z"
   },
   {
    "duration": 8,
    "start_time": "2023-02-13T09:18:41.774Z"
   },
   {
    "duration": 611,
    "start_time": "2023-02-13T09:18:44.087Z"
   },
   {
    "duration": 6,
    "start_time": "2023-02-13T09:18:44.700Z"
   },
   {
    "duration": 9,
    "start_time": "2023-02-13T09:18:45.196Z"
   },
   {
    "duration": 9,
    "start_time": "2023-02-13T09:18:46.174Z"
   },
   {
    "duration": 22,
    "start_time": "2023-02-13T09:18:47.038Z"
   },
   {
    "duration": 166,
    "start_time": "2023-02-13T09:18:47.364Z"
   },
   {
    "duration": 9,
    "start_time": "2023-02-13T09:18:48.317Z"
   },
   {
    "duration": 30,
    "start_time": "2023-02-13T09:18:48.881Z"
   },
   {
    "duration": 113,
    "start_time": "2023-02-13T09:18:49.038Z"
   },
   {
    "duration": 13,
    "start_time": "2023-02-13T09:18:50.480Z"
   },
   {
    "duration": 254,
    "start_time": "2023-02-13T09:18:56.082Z"
   },
   {
    "duration": 201,
    "start_time": "2023-02-13T09:18:59.928Z"
   },
   {
    "duration": 324,
    "start_time": "2023-02-13T09:19:00.878Z"
   },
   {
    "duration": 206,
    "start_time": "2023-02-13T09:19:01.921Z"
   },
   {
    "duration": 209,
    "start_time": "2023-02-13T09:19:02.561Z"
   },
   {
    "duration": 149,
    "start_time": "2023-02-13T09:19:03.215Z"
   },
   {
    "duration": 149,
    "start_time": "2023-02-13T09:19:03.448Z"
   },
   {
    "duration": 170,
    "start_time": "2023-02-13T09:19:03.758Z"
   },
   {
    "duration": 123,
    "start_time": "2023-02-13T09:19:04.735Z"
   },
   {
    "duration": 172,
    "start_time": "2023-02-13T09:19:06.405Z"
   },
   {
    "duration": 174,
    "start_time": "2023-02-13T09:19:06.798Z"
   },
   {
    "duration": 165,
    "start_time": "2023-02-13T09:19:07.599Z"
   },
   {
    "duration": 292,
    "start_time": "2023-02-13T09:19:08.319Z"
   },
   {
    "duration": 155,
    "start_time": "2023-02-13T09:19:08.810Z"
   },
   {
    "duration": 151,
    "start_time": "2023-02-13T09:19:10.078Z"
   },
   {
    "duration": 372,
    "start_time": "2023-02-13T09:19:11.759Z"
   },
   {
    "duration": 193,
    "start_time": "2023-02-13T09:19:15.839Z"
   },
   {
    "duration": 176,
    "start_time": "2023-02-13T09:19:18.805Z"
   },
   {
    "duration": 184,
    "start_time": "2023-02-13T09:19:20.829Z"
   },
   {
    "duration": 174,
    "start_time": "2023-02-13T09:23:14.637Z"
   },
   {
    "duration": 195,
    "start_time": "2023-02-13T09:25:03.358Z"
   },
   {
    "duration": 246,
    "start_time": "2023-02-13T09:26:14.165Z"
   },
   {
    "duration": 399,
    "start_time": "2023-02-13T09:27:22.015Z"
   },
   {
    "duration": 168,
    "start_time": "2023-02-13T09:27:56.960Z"
   },
   {
    "duration": 203,
    "start_time": "2023-02-13T09:28:25.358Z"
   },
   {
    "duration": 205,
    "start_time": "2023-02-13T09:29:20.640Z"
   },
   {
    "duration": 186,
    "start_time": "2023-02-13T09:30:13.838Z"
   },
   {
    "duration": 817,
    "start_time": "2023-02-13T11:24:50.374Z"
   },
   {
    "duration": 350,
    "start_time": "2023-02-13T11:24:51.193Z"
   },
   {
    "duration": 15,
    "start_time": "2023-02-13T11:24:53.854Z"
   },
   {
    "duration": 1915,
    "start_time": "2023-02-13T11:25:02.465Z"
   },
   {
    "duration": 9,
    "start_time": "2023-02-13T11:25:04.443Z"
   },
   {
    "duration": 51,
    "start_time": "2023-02-13T11:25:05.190Z"
   },
   {
    "duration": 8,
    "start_time": "2023-02-13T11:25:06.924Z"
   },
   {
    "duration": 588,
    "start_time": "2023-02-13T11:25:09.259Z"
   },
   {
    "duration": 8,
    "start_time": "2023-02-13T11:25:12.118Z"
   },
   {
    "duration": 8,
    "start_time": "2023-02-13T11:25:12.612Z"
   },
   {
    "duration": 9,
    "start_time": "2023-02-13T11:25:13.792Z"
   },
   {
    "duration": 23,
    "start_time": "2023-02-13T11:25:20.394Z"
   },
   {
    "duration": 168,
    "start_time": "2023-02-13T11:25:21.644Z"
   },
   {
    "duration": 10,
    "start_time": "2023-02-13T11:25:22.861Z"
   },
   {
    "duration": 27,
    "start_time": "2023-02-13T11:25:23.595Z"
   },
   {
    "duration": 111,
    "start_time": "2023-02-13T11:25:23.743Z"
   },
   {
    "duration": 17,
    "start_time": "2023-02-13T11:25:26.318Z"
   },
   {
    "duration": 330,
    "start_time": "2023-02-13T11:25:43.539Z"
   },
   {
    "duration": 198,
    "start_time": "2023-02-13T11:25:49.939Z"
   },
   {
    "duration": 208,
    "start_time": "2023-02-13T11:25:51.276Z"
   },
   {
    "duration": 198,
    "start_time": "2023-02-13T11:25:51.946Z"
   },
   {
    "duration": 169,
    "start_time": "2023-02-13T11:25:53.135Z"
   },
   {
    "duration": 125,
    "start_time": "2023-02-13T11:25:54.084Z"
   },
   {
    "duration": 127,
    "start_time": "2023-02-13T11:25:54.523Z"
   },
   {
    "duration": 152,
    "start_time": "2023-02-13T11:25:55.711Z"
   },
   {
    "duration": 114,
    "start_time": "2023-02-13T11:25:56.849Z"
   },
   {
    "duration": 138,
    "start_time": "2023-02-13T11:25:58.804Z"
   },
   {
    "duration": 226,
    "start_time": "2023-02-13T11:26:00.838Z"
   },
   {
    "duration": 168,
    "start_time": "2023-02-13T11:28:31.280Z"
   },
   {
    "duration": 159,
    "start_time": "2023-02-13T11:29:14.262Z"
   },
   {
    "duration": 29,
    "start_time": "2023-02-13T11:48:30.694Z"
   },
   {
    "duration": 652,
    "start_time": "2023-02-13T12:48:17.140Z"
   },
   {
    "duration": 145,
    "start_time": "2023-02-13T12:48:17.794Z"
   },
   {
    "duration": 16,
    "start_time": "2023-02-13T12:48:17.940Z"
   },
   {
    "duration": 2138,
    "start_time": "2023-02-13T12:48:17.959Z"
   },
   {
    "duration": 10,
    "start_time": "2023-02-13T12:48:20.099Z"
   },
   {
    "duration": 72,
    "start_time": "2023-02-13T12:48:20.111Z"
   },
   {
    "duration": 8,
    "start_time": "2023-02-13T12:48:20.185Z"
   },
   {
    "duration": 651,
    "start_time": "2023-02-13T12:48:20.195Z"
   },
   {
    "duration": 8,
    "start_time": "2023-02-13T12:48:20.848Z"
   },
   {
    "duration": 10,
    "start_time": "2023-02-13T12:48:20.860Z"
   },
   {
    "duration": 46,
    "start_time": "2023-02-13T12:48:20.871Z"
   },
   {
    "duration": 53,
    "start_time": "2023-02-13T12:48:20.919Z"
   },
   {
    "duration": 220,
    "start_time": "2023-02-13T12:48:20.974Z"
   },
   {
    "duration": 10,
    "start_time": "2023-02-13T12:48:21.195Z"
   },
   {
    "duration": 44,
    "start_time": "2023-02-13T12:48:21.206Z"
   },
   {
    "duration": 136,
    "start_time": "2023-02-13T12:48:21.252Z"
   },
   {
    "duration": 14,
    "start_time": "2023-02-13T12:48:21.391Z"
   },
   {
    "duration": 372,
    "start_time": "2023-02-13T12:48:21.407Z"
   },
   {
    "duration": 227,
    "start_time": "2023-02-13T12:48:21.780Z"
   },
   {
    "duration": 256,
    "start_time": "2023-02-13T12:48:22.009Z"
   },
   {
    "duration": 224,
    "start_time": "2023-02-13T12:48:22.267Z"
   },
   {
    "duration": 267,
    "start_time": "2023-02-13T12:48:22.492Z"
   },
   {
    "duration": 176,
    "start_time": "2023-02-13T12:48:22.761Z"
   },
   {
    "duration": 169,
    "start_time": "2023-02-13T12:48:22.939Z"
   },
   {
    "duration": 171,
    "start_time": "2023-02-13T12:48:23.110Z"
   },
   {
    "duration": 149,
    "start_time": "2023-02-13T12:48:23.282Z"
   },
   {
    "duration": 181,
    "start_time": "2023-02-13T12:48:23.433Z"
   },
   {
    "duration": 266,
    "start_time": "2023-02-13T12:48:23.617Z"
   },
   {
    "duration": 193,
    "start_time": "2023-02-13T12:48:23.885Z"
   },
   {
    "duration": 201,
    "start_time": "2023-02-13T12:48:24.080Z"
   },
   {
    "duration": 177,
    "start_time": "2023-02-13T12:48:24.283Z"
   },
   {
    "duration": 163,
    "start_time": "2023-02-13T12:48:24.462Z"
   },
   {
    "duration": 460,
    "start_time": "2023-02-13T12:48:24.627Z"
   },
   {
    "duration": 221,
    "start_time": "2023-02-13T12:48:25.089Z"
   },
   {
    "duration": 196,
    "start_time": "2023-02-13T12:48:25.313Z"
   },
   {
    "duration": 214,
    "start_time": "2023-02-13T12:48:25.511Z"
   },
   {
    "duration": 260,
    "start_time": "2023-02-13T12:48:25.727Z"
   },
   {
    "duration": 199,
    "start_time": "2023-02-13T12:48:25.989Z"
   },
   {
    "duration": 199,
    "start_time": "2023-02-13T12:48:26.190Z"
   },
   {
    "duration": 182,
    "start_time": "2023-02-13T12:48:26.392Z"
   },
   {
    "duration": 202,
    "start_time": "2023-02-13T12:48:26.576Z"
   },
   {
    "duration": 23,
    "start_time": "2023-02-13T12:48:26.780Z"
   },
   {
    "duration": 13,
    "start_time": "2023-02-13T12:48:26.805Z"
   },
   {
    "duration": 194,
    "start_time": "2023-02-13T12:48:26.837Z"
   }
  ],
  "kernelspec": {
   "display_name": "Python 3 (ipykernel)",
   "language": "python",
   "name": "python3"
  },
  "language_info": {
   "codemirror_mode": {
    "name": "ipython",
    "version": 3
   },
   "file_extension": ".py",
   "mimetype": "text/x-python",
   "name": "python",
   "nbconvert_exporter": "python",
   "pygments_lexer": "ipython3",
   "version": "3.9.0"
  },
  "toc": {
   "base_numbering": 1,
   "nav_menu": {},
   "number_sections": true,
   "sideBar": true,
   "skip_h1_title": true,
   "title_cell": "Table of Contents",
   "title_sidebar": "Contents",
   "toc_cell": false,
   "toc_position": {
    "height": "calc(100% - 180px)",
    "left": "10px",
    "top": "150px",
    "width": "245.797px"
   },
   "toc_section_display": true,
   "toc_window_display": true
  },
  "vscode": {
   "interpreter": {
    "hash": "3b00302c3798e0e5d433f96409c192bd2709300eeb7b7ababb89b20bcd3190bd"
   }
  }
 },
 "nbformat": 4,
 "nbformat_minor": 2
}
